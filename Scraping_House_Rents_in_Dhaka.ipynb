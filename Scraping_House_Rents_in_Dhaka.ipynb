{
  "nbformat": 4,
  "nbformat_minor": 0,
  "metadata": {
    "colab": {
      "name": "Scraping House Rents in Dhaka.ipynb",
      "provenance": [],
      "collapsed_sections": []
    },
    "kernelspec": {
      "name": "python3",
      "display_name": "Python 3"
    },
    "language_info": {
      "name": "python"
    }
  },
  "cells": [
    {
      "cell_type": "code",
      "execution_count": 1,
      "metadata": {
        "colab": {
          "base_uri": "https://localhost:8080/"
        },
        "id": "3m3N0yEBs8gN",
        "outputId": "c0f8dabb-47a8-4fa9-879d-e810e5b6a1cc"
      },
      "outputs": [
        {
          "output_type": "stream",
          "name": "stdout",
          "text": [
            "Collecting selenium\n",
            "  Downloading selenium-4.1.3-py3-none-any.whl (968 kB)\n",
            "\u001b[?25l\r\u001b[K     |▍                               | 10 kB 19.6 MB/s eta 0:00:01\r\u001b[K     |▊                               | 20 kB 18.9 MB/s eta 0:00:01\r\u001b[K     |█                               | 30 kB 8.1 MB/s eta 0:00:01\r\u001b[K     |█▍                              | 40 kB 3.7 MB/s eta 0:00:01\r\u001b[K     |█▊                              | 51 kB 3.6 MB/s eta 0:00:01\r\u001b[K     |██                              | 61 kB 4.2 MB/s eta 0:00:01\r\u001b[K     |██▍                             | 71 kB 4.5 MB/s eta 0:00:01\r\u001b[K     |██▊                             | 81 kB 5.0 MB/s eta 0:00:01\r\u001b[K     |███                             | 92 kB 5.1 MB/s eta 0:00:01\r\u001b[K     |███▍                            | 102 kB 4.2 MB/s eta 0:00:01\r\u001b[K     |███▊                            | 112 kB 4.2 MB/s eta 0:00:01\r\u001b[K     |████                            | 122 kB 4.2 MB/s eta 0:00:01\r\u001b[K     |████▍                           | 133 kB 4.2 MB/s eta 0:00:01\r\u001b[K     |████▊                           | 143 kB 4.2 MB/s eta 0:00:01\r\u001b[K     |█████                           | 153 kB 4.2 MB/s eta 0:00:01\r\u001b[K     |█████▍                          | 163 kB 4.2 MB/s eta 0:00:01\r\u001b[K     |█████▊                          | 174 kB 4.2 MB/s eta 0:00:01\r\u001b[K     |██████                          | 184 kB 4.2 MB/s eta 0:00:01\r\u001b[K     |██████▍                         | 194 kB 4.2 MB/s eta 0:00:01\r\u001b[K     |██████▊                         | 204 kB 4.2 MB/s eta 0:00:01\r\u001b[K     |███████                         | 215 kB 4.2 MB/s eta 0:00:01\r\u001b[K     |███████▍                        | 225 kB 4.2 MB/s eta 0:00:01\r\u001b[K     |███████▉                        | 235 kB 4.2 MB/s eta 0:00:01\r\u001b[K     |████████▏                       | 245 kB 4.2 MB/s eta 0:00:01\r\u001b[K     |████████▌                       | 256 kB 4.2 MB/s eta 0:00:01\r\u001b[K     |████████▉                       | 266 kB 4.2 MB/s eta 0:00:01\r\u001b[K     |█████████▏                      | 276 kB 4.2 MB/s eta 0:00:01\r\u001b[K     |█████████▌                      | 286 kB 4.2 MB/s eta 0:00:01\r\u001b[K     |█████████▉                      | 296 kB 4.2 MB/s eta 0:00:01\r\u001b[K     |██████████▏                     | 307 kB 4.2 MB/s eta 0:00:01\r\u001b[K     |██████████▌                     | 317 kB 4.2 MB/s eta 0:00:01\r\u001b[K     |██████████▉                     | 327 kB 4.2 MB/s eta 0:00:01\r\u001b[K     |███████████▏                    | 337 kB 4.2 MB/s eta 0:00:01\r\u001b[K     |███████████▌                    | 348 kB 4.2 MB/s eta 0:00:01\r\u001b[K     |███████████▉                    | 358 kB 4.2 MB/s eta 0:00:01\r\u001b[K     |████████████▏                   | 368 kB 4.2 MB/s eta 0:00:01\r\u001b[K     |████████████▌                   | 378 kB 4.2 MB/s eta 0:00:01\r\u001b[K     |████████████▉                   | 389 kB 4.2 MB/s eta 0:00:01\r\u001b[K     |█████████████▏                  | 399 kB 4.2 MB/s eta 0:00:01\r\u001b[K     |█████████████▌                  | 409 kB 4.2 MB/s eta 0:00:01\r\u001b[K     |█████████████▉                  | 419 kB 4.2 MB/s eta 0:00:01\r\u001b[K     |██████████████▏                 | 430 kB 4.2 MB/s eta 0:00:01\r\u001b[K     |██████████████▌                 | 440 kB 4.2 MB/s eta 0:00:01\r\u001b[K     |██████████████▉                 | 450 kB 4.2 MB/s eta 0:00:01\r\u001b[K     |███████████████▏                | 460 kB 4.2 MB/s eta 0:00:01\r\u001b[K     |███████████████▋                | 471 kB 4.2 MB/s eta 0:00:01\r\u001b[K     |████████████████                | 481 kB 4.2 MB/s eta 0:00:01\r\u001b[K     |████████████████▎               | 491 kB 4.2 MB/s eta 0:00:01\r\u001b[K     |████████████████▋               | 501 kB 4.2 MB/s eta 0:00:01\r\u001b[K     |█████████████████               | 512 kB 4.2 MB/s eta 0:00:01\r\u001b[K     |█████████████████▎              | 522 kB 4.2 MB/s eta 0:00:01\r\u001b[K     |█████████████████▋              | 532 kB 4.2 MB/s eta 0:00:01\r\u001b[K     |██████████████████              | 542 kB 4.2 MB/s eta 0:00:01\r\u001b[K     |██████████████████▎             | 552 kB 4.2 MB/s eta 0:00:01\r\u001b[K     |██████████████████▋             | 563 kB 4.2 MB/s eta 0:00:01\r\u001b[K     |███████████████████             | 573 kB 4.2 MB/s eta 0:00:01\r\u001b[K     |███████████████████▎            | 583 kB 4.2 MB/s eta 0:00:01\r\u001b[K     |███████████████████▋            | 593 kB 4.2 MB/s eta 0:00:01\r\u001b[K     |████████████████████            | 604 kB 4.2 MB/s eta 0:00:01\r\u001b[K     |████████████████████▎           | 614 kB 4.2 MB/s eta 0:00:01\r\u001b[K     |████████████████████▋           | 624 kB 4.2 MB/s eta 0:00:01\r\u001b[K     |█████████████████████           | 634 kB 4.2 MB/s eta 0:00:01\r\u001b[K     |█████████████████████▎          | 645 kB 4.2 MB/s eta 0:00:01\r\u001b[K     |█████████████████████▋          | 655 kB 4.2 MB/s eta 0:00:01\r\u001b[K     |██████████████████████          | 665 kB 4.2 MB/s eta 0:00:01\r\u001b[K     |██████████████████████▎         | 675 kB 4.2 MB/s eta 0:00:01\r\u001b[K     |██████████████████████▋         | 686 kB 4.2 MB/s eta 0:00:01\r\u001b[K     |███████████████████████         | 696 kB 4.2 MB/s eta 0:00:01\r\u001b[K     |███████████████████████▍        | 706 kB 4.2 MB/s eta 0:00:01\r\u001b[K     |███████████████████████▊        | 716 kB 4.2 MB/s eta 0:00:01\r\u001b[K     |████████████████████████        | 727 kB 4.2 MB/s eta 0:00:01\r\u001b[K     |████████████████████████▍       | 737 kB 4.2 MB/s eta 0:00:01\r\u001b[K     |████████████████████████▊       | 747 kB 4.2 MB/s eta 0:00:01\r\u001b[K     |█████████████████████████       | 757 kB 4.2 MB/s eta 0:00:01\r\u001b[K     |█████████████████████████▍      | 768 kB 4.2 MB/s eta 0:00:01\r\u001b[K     |█████████████████████████▊      | 778 kB 4.2 MB/s eta 0:00:01\r\u001b[K     |██████████████████████████      | 788 kB 4.2 MB/s eta 0:00:01\r\u001b[K     |██████████████████████████▍     | 798 kB 4.2 MB/s eta 0:00:01\r\u001b[K     |██████████████████████████▊     | 808 kB 4.2 MB/s eta 0:00:01\r\u001b[K     |███████████████████████████     | 819 kB 4.2 MB/s eta 0:00:01\r\u001b[K     |███████████████████████████▍    | 829 kB 4.2 MB/s eta 0:00:01\r\u001b[K     |███████████████████████████▊    | 839 kB 4.2 MB/s eta 0:00:01\r\u001b[K     |████████████████████████████    | 849 kB 4.2 MB/s eta 0:00:01\r\u001b[K     |████████████████████████████▍   | 860 kB 4.2 MB/s eta 0:00:01\r\u001b[K     |████████████████████████████▊   | 870 kB 4.2 MB/s eta 0:00:01\r\u001b[K     |█████████████████████████████   | 880 kB 4.2 MB/s eta 0:00:01\r\u001b[K     |█████████████████████████████▍  | 890 kB 4.2 MB/s eta 0:00:01\r\u001b[K     |█████████████████████████████▊  | 901 kB 4.2 MB/s eta 0:00:01\r\u001b[K     |██████████████████████████████  | 911 kB 4.2 MB/s eta 0:00:01\r\u001b[K     |██████████████████████████████▍ | 921 kB 4.2 MB/s eta 0:00:01\r\u001b[K     |██████████████████████████████▉ | 931 kB 4.2 MB/s eta 0:00:01\r\u001b[K     |███████████████████████████████▏| 942 kB 4.2 MB/s eta 0:00:01\r\u001b[K     |███████████████████████████████▌| 952 kB 4.2 MB/s eta 0:00:01\r\u001b[K     |███████████████████████████████▉| 962 kB 4.2 MB/s eta 0:00:01\r\u001b[K     |████████████████████████████████| 968 kB 4.2 MB/s \n",
            "\u001b[?25hCollecting trio~=0.17\n",
            "  Downloading trio-0.20.0-py3-none-any.whl (359 kB)\n",
            "\u001b[K     |████████████████████████████████| 359 kB 46.7 MB/s \n",
            "\u001b[?25hCollecting urllib3[secure,socks]~=1.26\n",
            "  Downloading urllib3-1.26.9-py2.py3-none-any.whl (138 kB)\n",
            "\u001b[K     |████████████████████████████████| 138 kB 45.6 MB/s \n",
            "\u001b[?25hCollecting trio-websocket~=0.9\n",
            "  Downloading trio_websocket-0.9.2-py3-none-any.whl (16 kB)\n",
            "Requirement already satisfied: attrs>=19.2.0 in /usr/local/lib/python3.7/dist-packages (from trio~=0.17->selenium) (21.4.0)\n",
            "Collecting outcome\n",
            "  Downloading outcome-1.1.0-py2.py3-none-any.whl (9.7 kB)\n",
            "Collecting sniffio\n",
            "  Downloading sniffio-1.2.0-py3-none-any.whl (10 kB)\n",
            "Collecting async-generator>=1.9\n",
            "  Downloading async_generator-1.10-py3-none-any.whl (18 kB)\n",
            "Requirement already satisfied: sortedcontainers in /usr/local/lib/python3.7/dist-packages (from trio~=0.17->selenium) (2.4.0)\n",
            "Requirement already satisfied: idna in /usr/local/lib/python3.7/dist-packages (from trio~=0.17->selenium) (2.10)\n",
            "Collecting wsproto>=0.14\n",
            "  Downloading wsproto-1.1.0-py3-none-any.whl (24 kB)\n",
            "Requirement already satisfied: PySocks!=1.5.7,<2.0,>=1.5.6 in /usr/local/lib/python3.7/dist-packages (from urllib3[secure,socks]~=1.26->selenium) (1.7.1)\n",
            "Requirement already satisfied: certifi in /usr/local/lib/python3.7/dist-packages (from urllib3[secure,socks]~=1.26->selenium) (2021.10.8)\n",
            "Collecting cryptography>=1.3.4\n",
            "  Downloading cryptography-36.0.2-cp36-abi3-manylinux_2_24_x86_64.whl (3.6 MB)\n",
            "\u001b[K     |████████████████████████████████| 3.6 MB 37.8 MB/s \n",
            "\u001b[?25hCollecting pyOpenSSL>=0.14\n",
            "  Downloading pyOpenSSL-22.0.0-py2.py3-none-any.whl (55 kB)\n",
            "\u001b[K     |████████████████████████████████| 55 kB 4.1 MB/s \n",
            "\u001b[?25hRequirement already satisfied: cffi>=1.12 in /usr/local/lib/python3.7/dist-packages (from cryptography>=1.3.4->urllib3[secure,socks]~=1.26->selenium) (1.15.0)\n",
            "Requirement already satisfied: pycparser in /usr/local/lib/python3.7/dist-packages (from cffi>=1.12->cryptography>=1.3.4->urllib3[secure,socks]~=1.26->selenium) (2.21)\n",
            "Collecting h11<1,>=0.9.0\n",
            "  Downloading h11-0.13.0-py3-none-any.whl (58 kB)\n",
            "\u001b[K     |████████████████████████████████| 58 kB 4.3 MB/s \n",
            "\u001b[?25hRequirement already satisfied: typing-extensions in /usr/local/lib/python3.7/dist-packages (from h11<1,>=0.9.0->wsproto>=0.14->trio-websocket~=0.9->selenium) (3.10.0.2)\n",
            "Installing collected packages: sniffio, outcome, h11, cryptography, async-generator, wsproto, urllib3, trio, pyOpenSSL, trio-websocket, selenium\n",
            "  Attempting uninstall: urllib3\n",
            "    Found existing installation: urllib3 1.24.3\n",
            "    Uninstalling urllib3-1.24.3:\n",
            "      Successfully uninstalled urllib3-1.24.3\n",
            "\u001b[31mERROR: pip's dependency resolver does not currently take into account all the packages that are installed. This behaviour is the source of the following dependency conflicts.\n",
            "requests 2.23.0 requires urllib3!=1.25.0,!=1.25.1,<1.26,>=1.21.1, but you have urllib3 1.26.9 which is incompatible.\n",
            "datascience 0.10.6 requires folium==0.2.1, but you have folium 0.8.3 which is incompatible.\u001b[0m\n",
            "Successfully installed async-generator-1.10 cryptography-36.0.2 h11-0.13.0 outcome-1.1.0 pyOpenSSL-22.0.0 selenium-4.1.3 sniffio-1.2.0 trio-0.20.0 trio-websocket-0.9.2 urllib3-1.26.9 wsproto-1.1.0\n",
            "Get:1 https://cloud.r-project.org/bin/linux/ubuntu bionic-cran40/ InRelease [3,626 B]\n",
            "Ign:2 https://developer.download.nvidia.com/compute/cuda/repos/ubuntu1804/x86_64  InRelease\n",
            "Get:3 https://cloud.r-project.org/bin/linux/ubuntu bionic-cran40/ Packages [82.3 kB]\n",
            "Ign:4 https://developer.download.nvidia.com/compute/machine-learning/repos/ubuntu1804/x86_64  InRelease\n",
            "Get:5 https://developer.download.nvidia.com/compute/cuda/repos/ubuntu1804/x86_64  Release [696 B]\n",
            "Get:6 http://security.ubuntu.com/ubuntu bionic-security InRelease [88.7 kB]\n",
            "Hit:7 https://developer.download.nvidia.com/compute/machine-learning/repos/ubuntu1804/x86_64  Release\n",
            "Get:8 https://developer.download.nvidia.com/compute/cuda/repos/ubuntu1804/x86_64  Release.gpg [836 B]\n",
            "Get:9 http://ppa.launchpad.net/c2d4u.team/c2d4u4.0+/ubuntu bionic InRelease [15.9 kB]\n",
            "Hit:11 http://archive.ubuntu.com/ubuntu bionic InRelease\n",
            "Get:12 https://developer.download.nvidia.com/compute/cuda/repos/ubuntu1804/x86_64  Packages [952 kB]\n",
            "Get:13 http://archive.ubuntu.com/ubuntu bionic-updates InRelease [88.7 kB]\n",
            "Hit:14 http://ppa.launchpad.net/cran/libgit2/ubuntu bionic InRelease\n",
            "Get:15 http://security.ubuntu.com/ubuntu bionic-security/main amd64 Packages [2,694 kB]\n",
            "Get:16 http://archive.ubuntu.com/ubuntu bionic-backports InRelease [74.6 kB]\n",
            "Get:17 http://ppa.launchpad.net/deadsnakes/ppa/ubuntu bionic InRelease [15.9 kB]\n",
            "Get:18 http://archive.ubuntu.com/ubuntu bionic-updates/multiverse amd64 Packages [29.8 kB]\n",
            "Get:19 http://archive.ubuntu.com/ubuntu bionic-updates/main amd64 Packages [3,133 kB]\n",
            "Get:20 http://ppa.launchpad.net/graphics-drivers/ppa/ubuntu bionic InRelease [21.3 kB]\n",
            "Get:21 http://security.ubuntu.com/ubuntu bionic-security/restricted amd64 Packages [884 kB]\n",
            "Get:22 http://security.ubuntu.com/ubuntu bionic-security/universe amd64 Packages [1,490 kB]\n",
            "Get:23 http://archive.ubuntu.com/ubuntu bionic-updates/universe amd64 Packages [2,268 kB]\n",
            "Get:24 http://archive.ubuntu.com/ubuntu bionic-updates/restricted amd64 Packages [918 kB]\n",
            "Get:25 http://ppa.launchpad.net/c2d4u.team/c2d4u4.0+/ubuntu bionic/main Sources [1,831 kB]\n",
            "Get:26 http://archive.ubuntu.com/ubuntu bionic-backports/main amd64 Packages [12.2 kB]\n",
            "Get:27 http://archive.ubuntu.com/ubuntu bionic-backports/universe amd64 Packages [12.9 kB]\n",
            "Get:28 http://ppa.launchpad.net/c2d4u.team/c2d4u4.0+/ubuntu bionic/main amd64 Packages [938 kB]\n",
            "Get:29 http://ppa.launchpad.net/deadsnakes/ppa/ubuntu bionic/main amd64 Packages [45.2 kB]\n",
            "Get:30 http://ppa.launchpad.net/graphics-drivers/ppa/ubuntu bionic/main amd64 Packages [44.3 kB]\n",
            "Fetched 15.6 MB in 10s (1,609 kB/s)\n",
            "Reading package lists... Done\n",
            "Reading package lists... Done\n",
            "Building dependency tree       \n",
            "Reading state information... Done\n",
            "The following additional packages will be installed:\n",
            "  chromium-browser chromium-browser-l10n chromium-codecs-ffmpeg-extra\n",
            "Suggested packages:\n",
            "  webaccounts-chromium-extension unity-chromium-extension\n",
            "The following NEW packages will be installed:\n",
            "  chromium-browser chromium-browser-l10n chromium-chromedriver\n",
            "  chromium-codecs-ffmpeg-extra\n",
            "0 upgraded, 4 newly installed, 0 to remove and 96 not upgraded.\n",
            "Need to get 88.3 MB of archives.\n",
            "After this operation, 294 MB of additional disk space will be used.\n",
            "Get:1 http://archive.ubuntu.com/ubuntu bionic-updates/universe amd64 chromium-codecs-ffmpeg-extra amd64 99.0.4844.84-0ubuntu0.18.04.1 [1,142 kB]\n",
            "Get:2 http://archive.ubuntu.com/ubuntu bionic-updates/universe amd64 chromium-browser amd64 99.0.4844.84-0ubuntu0.18.04.1 [77.7 MB]\n",
            "Get:3 http://archive.ubuntu.com/ubuntu bionic-updates/universe amd64 chromium-browser-l10n all 99.0.4844.84-0ubuntu0.18.04.1 [4,397 kB]\n",
            "Get:4 http://archive.ubuntu.com/ubuntu bionic-updates/universe amd64 chromium-chromedriver amd64 99.0.4844.84-0ubuntu0.18.04.1 [5,092 kB]\n",
            "Fetched 88.3 MB in 9s (9,391 kB/s)\n",
            "Selecting previously unselected package chromium-codecs-ffmpeg-extra.\n",
            "(Reading database ... 156210 files and directories currently installed.)\n",
            "Preparing to unpack .../chromium-codecs-ffmpeg-extra_99.0.4844.84-0ubuntu0.18.04.1_amd64.deb ...\n",
            "Unpacking chromium-codecs-ffmpeg-extra (99.0.4844.84-0ubuntu0.18.04.1) ...\n",
            "Selecting previously unselected package chromium-browser.\n",
            "Preparing to unpack .../chromium-browser_99.0.4844.84-0ubuntu0.18.04.1_amd64.deb ...\n",
            "Unpacking chromium-browser (99.0.4844.84-0ubuntu0.18.04.1) ...\n",
            "Selecting previously unselected package chromium-browser-l10n.\n",
            "Preparing to unpack .../chromium-browser-l10n_99.0.4844.84-0ubuntu0.18.04.1_all.deb ...\n",
            "Unpacking chromium-browser-l10n (99.0.4844.84-0ubuntu0.18.04.1) ...\n",
            "Selecting previously unselected package chromium-chromedriver.\n",
            "Preparing to unpack .../chromium-chromedriver_99.0.4844.84-0ubuntu0.18.04.1_amd64.deb ...\n",
            "Unpacking chromium-chromedriver (99.0.4844.84-0ubuntu0.18.04.1) ...\n",
            "Setting up chromium-codecs-ffmpeg-extra (99.0.4844.84-0ubuntu0.18.04.1) ...\n",
            "Setting up chromium-browser (99.0.4844.84-0ubuntu0.18.04.1) ...\n",
            "update-alternatives: using /usr/bin/chromium-browser to provide /usr/bin/x-www-browser (x-www-browser) in auto mode\n",
            "update-alternatives: using /usr/bin/chromium-browser to provide /usr/bin/gnome-www-browser (gnome-www-browser) in auto mode\n",
            "Setting up chromium-chromedriver (99.0.4844.84-0ubuntu0.18.04.1) ...\n",
            "Setting up chromium-browser-l10n (99.0.4844.84-0ubuntu0.18.04.1) ...\n",
            "Processing triggers for man-db (2.8.3-2ubuntu0.1) ...\n",
            "Processing triggers for hicolor-icon-theme (0.17-2) ...\n",
            "Processing triggers for mime-support (3.60ubuntu1) ...\n",
            "Processing triggers for libc-bin (2.27-3ubuntu1.3) ...\n",
            "/sbin/ldconfig.real: /usr/local/lib/python3.7/dist-packages/ideep4py/lib/libmkldnn.so.0 is not a symbolic link\n",
            "\n",
            "cp: '/usr/lib/chromium-browser/chromedriver' and '/usr/bin/chromedriver' are the same file\n"
          ]
        }
      ],
      "source": [
        "#Installing all the dependencies\n",
        "!pip install selenium\n",
        "!apt-get update # to update ubuntu to correctly run apt install\n",
        "!apt install chromium-chromedriver\n",
        "!cp /usr/lib/chromium-browser/chromedriver /usr/bin"
      ]
    },
    {
      "cell_type": "code",
      "source": [
        "#Importing the dependencies\n",
        "import sys\n",
        "sys.path.insert(0,'/usr/lib/chromium-browser/chromedriver')\n",
        "#importing libraries\n",
        "from selenium import webdriver\n",
        "chrome_options = webdriver.ChromeOptions()\n",
        "chrome_options.add_argument('--headless')\n",
        "chrome_options.add_argument('--no-sandbox')\n",
        "chrome_options.add_argument('--disable-dev-shm-usage')\n",
        "import pandas as pd\n",
        "import time\n",
        "from random import randrange"
      ],
      "metadata": {
        "id": "yzKbWEOlm8oA"
      },
      "execution_count": 2,
      "outputs": []
    },
    {
      "cell_type": "code",
      "source": [
        "pos=0"
      ],
      "metadata": {
        "id": "BJf1r2pImodC"
      },
      "execution_count": 3,
      "outputs": []
    },
    {
      "cell_type": "code",
      "source": [
        "#Creating an empty dataframe called df\n",
        "df = pd.DataFrame(columns=['Location','Area','Bed','Bath','Price'])"
      ],
      "metadata": {
        "id": "Da2BCN4dwUNN"
      },
      "execution_count": 4,
      "outputs": []
    },
    {
      "cell_type": "code",
      "source": [
        "scrapper = webdriver.Chrome('chromedriver',chrome_options=chrome_options)\n",
        "scrapper.get(\"https://www.bproperty.com/en/dhaka/apartments-for-rent/?load_all_prop=1\")"
      ],
      "metadata": {
        "colab": {
          "base_uri": "https://localhost:8080/"
        },
        "id": "mEr1taFFmrCI",
        "outputId": "99a9c0fe-d0f5-4d6f-e40a-a2da9d62f0c4"
      },
      "execution_count": 5,
      "outputs": [
        {
          "output_type": "stream",
          "name": "stderr",
          "text": [
            "/usr/local/lib/python3.7/dist-packages/ipykernel_launcher.py:1: DeprecationWarning: use options instead of chrome_options\n",
            "  \"\"\"Entry point for launching an IPython kernel.\n"
          ]
        }
      ]
    },
    {
      "cell_type": "code",
      "source": [
        "#This piece of code is only for scraping the first page\n",
        "for i in range(0,24): \n",
        "  data = []\n",
        "  location = scrapper.find_elements_by_css_selector(\"._7afabd84\")\n",
        "  area = scrapper.find_elements_by_css_selector(\"div.d76f9b55 > div > span:nth-child(3) > span.b6a29bc0\")\n",
        "  bath = scrapper.find_elements_by_css_selector(\"div.d76f9b55 > div > span:nth-child(2) > span.b6a29bc0\")\n",
        "  bed = scrapper.find_elements_by_css_selector(\"div.d76f9b55 > div > span:nth-child(1) > span.b6a29bc0\")\n",
        "  price = scrapper.find_elements_by_css_selector(\".f343d9ce\")\n",
        "  data.append(location[i].text)\n",
        "  data.append(area[i].text)\n",
        "  data.append(bed[i].text)\n",
        "  data.append(bath[i].text)\n",
        "  data.append(price[i].text)\n",
        "  df.loc[pos] = data\n",
        "  pos=pos+1"
      ],
      "metadata": {
        "colab": {
          "base_uri": "https://localhost:8080/"
        },
        "id": "B4EL0IqLnRw3",
        "outputId": "07b81d7c-158a-47bc-a97f-e9dfadcdd293"
      },
      "execution_count": 6,
      "outputs": [
        {
          "output_type": "stream",
          "name": "stderr",
          "text": [
            "/usr/local/lib/python3.7/dist-packages/ipykernel_launcher.py:3: DeprecationWarning: find_elements_by_css_selector is deprecated. Please use find_elements(by=By.CSS_SELECTOR, value=css_selector) instead\n",
            "  This is separate from the ipykernel package so we can avoid doing imports until\n",
            "/usr/local/lib/python3.7/dist-packages/ipykernel_launcher.py:4: DeprecationWarning: find_elements_by_css_selector is deprecated. Please use find_elements(by=By.CSS_SELECTOR, value=css_selector) instead\n",
            "  after removing the cwd from sys.path.\n",
            "/usr/local/lib/python3.7/dist-packages/ipykernel_launcher.py:5: DeprecationWarning: find_elements_by_css_selector is deprecated. Please use find_elements(by=By.CSS_SELECTOR, value=css_selector) instead\n",
            "  \"\"\"\n",
            "/usr/local/lib/python3.7/dist-packages/ipykernel_launcher.py:6: DeprecationWarning: find_elements_by_css_selector is deprecated. Please use find_elements(by=By.CSS_SELECTOR, value=css_selector) instead\n",
            "  \n",
            "/usr/local/lib/python3.7/dist-packages/ipykernel_launcher.py:7: DeprecationWarning: find_elements_by_css_selector is deprecated. Please use find_elements(by=By.CSS_SELECTOR, value=css_selector) instead\n",
            "  import sys\n"
          ]
        }
      ]
    },
    {
      "cell_type": "code",
      "source": [
        "df.shape"
      ],
      "metadata": {
        "id": "IqRlripuykob",
        "outputId": "7bec4363-a887-4d12-d0b5-6e67aa3cf4ce",
        "colab": {
          "base_uri": "https://localhost:8080/"
        }
      },
      "execution_count": 7,
      "outputs": [
        {
          "output_type": "execute_result",
          "data": {
            "text/plain": [
              "(24, 5)"
            ]
          },
          "metadata": {},
          "execution_count": 7
        }
      ]
    },
    {
      "cell_type": "code",
      "source": [
        "#This script is used for scraping any number of pages except for the first page\n",
        "for n in range(2,101): #You can scrape any number of pages using the two numbers\n",
        "  scrapper.get(f\"https://www.bproperty.com/en/dhaka/apartments-for-rent/page-{n}/?load_all_prop=1\")\n",
        "  for i in range(0,24):\n",
        "    data = []\n",
        "    location = scrapper.find_elements_by_css_selector(\"._7afabd84\")\n",
        "    area = scrapper.find_elements_by_css_selector(\"div.d76f9b55 > div > span:nth-child(3) > span.b6a29bc0\")\n",
        "    bath = scrapper.find_elements_by_css_selector(\"div.d76f9b55 > div > span:nth-child(2) > span.b6a29bc0\")\n",
        "    bed = scrapper.find_elements_by_css_selector(\"div.d76f9b55 > div > span:nth-child(1) > span.b6a29bc0\")\n",
        "    price = scrapper.find_elements_by_css_selector(\".f343d9ce\")\n",
        "    data.append(location[i].text)\n",
        "    data.append(area[i].text)\n",
        "    data.append(bed[i].text)\n",
        "    data.append(bath[i].text)\n",
        "    data.append(price[i].text)\n",
        "    df.loc[pos] = data\n",
        "    pos=pos+1\n",
        "  time.sleep(randrange(60))"
      ],
      "metadata": {
        "id": "1xtRhRZYwSFu",
        "colab": {
          "base_uri": "https://localhost:8080/"
        },
        "outputId": "a28884a4-ea24-4bf1-aaf1-5fe19c32634c"
      },
      "execution_count": 8,
      "outputs": [
        {
          "output_type": "stream",
          "name": "stderr",
          "text": [
            "/usr/local/lib/python3.7/dist-packages/ipykernel_launcher.py:5: DeprecationWarning: find_elements_by_css_selector is deprecated. Please use find_elements(by=By.CSS_SELECTOR, value=css_selector) instead\n",
            "  \"\"\"\n",
            "/usr/local/lib/python3.7/dist-packages/ipykernel_launcher.py:6: DeprecationWarning: find_elements_by_css_selector is deprecated. Please use find_elements(by=By.CSS_SELECTOR, value=css_selector) instead\n",
            "  \n",
            "/usr/local/lib/python3.7/dist-packages/ipykernel_launcher.py:7: DeprecationWarning: find_elements_by_css_selector is deprecated. Please use find_elements(by=By.CSS_SELECTOR, value=css_selector) instead\n",
            "  import sys\n",
            "/usr/local/lib/python3.7/dist-packages/ipykernel_launcher.py:8: DeprecationWarning: find_elements_by_css_selector is deprecated. Please use find_elements(by=By.CSS_SELECTOR, value=css_selector) instead\n",
            "  \n",
            "/usr/local/lib/python3.7/dist-packages/ipykernel_launcher.py:9: DeprecationWarning: find_elements_by_css_selector is deprecated. Please use find_elements(by=By.CSS_SELECTOR, value=css_selector) instead\n",
            "  if __name__ == '__main__':\n"
          ]
        }
      ]
    },
    {
      "cell_type": "code",
      "source": [
        "#Generating CSV file and making the script download it\n",
        "from google.colab import files\n",
        "df.to_csv('houserent1-100.csv', encoding = 'utf-8-sig') \n",
        "files.download('houserent1-100.csv')"
      ],
      "metadata": {
        "colab": {
          "base_uri": "https://localhost:8080/",
          "height": 17
        },
        "id": "S0n6t_otqIM1",
        "outputId": "7baf61e9-576b-435e-eb08-20ee426083b3"
      },
      "execution_count": 9,
      "outputs": [
        {
          "output_type": "display_data",
          "data": {
            "text/plain": [
              "<IPython.core.display.Javascript object>"
            ],
            "application/javascript": [
              "\n",
              "    async function download(id, filename, size) {\n",
              "      if (!google.colab.kernel.accessAllowed) {\n",
              "        return;\n",
              "      }\n",
              "      const div = document.createElement('div');\n",
              "      const label = document.createElement('label');\n",
              "      label.textContent = `Downloading \"${filename}\": `;\n",
              "      div.appendChild(label);\n",
              "      const progress = document.createElement('progress');\n",
              "      progress.max = size;\n",
              "      div.appendChild(progress);\n",
              "      document.body.appendChild(div);\n",
              "\n",
              "      const buffers = [];\n",
              "      let downloaded = 0;\n",
              "\n",
              "      const channel = await google.colab.kernel.comms.open(id);\n",
              "      // Send a message to notify the kernel that we're ready.\n",
              "      channel.send({})\n",
              "\n",
              "      for await (const message of channel.messages) {\n",
              "        // Send a message to notify the kernel that we're ready.\n",
              "        channel.send({})\n",
              "        if (message.buffers) {\n",
              "          for (const buffer of message.buffers) {\n",
              "            buffers.push(buffer);\n",
              "            downloaded += buffer.byteLength;\n",
              "            progress.value = downloaded;\n",
              "          }\n",
              "        }\n",
              "      }\n",
              "      const blob = new Blob(buffers, {type: 'application/binary'});\n",
              "      const a = document.createElement('a');\n",
              "      a.href = window.URL.createObjectURL(blob);\n",
              "      a.download = filename;\n",
              "      div.appendChild(a);\n",
              "      a.click();\n",
              "      div.remove();\n",
              "    }\n",
              "  "
            ]
          },
          "metadata": {}
        },
        {
          "output_type": "display_data",
          "data": {
            "text/plain": [
              "<IPython.core.display.Javascript object>"
            ],
            "application/javascript": [
              "download(\"download_bb773a82-041e-470b-afad-7bd7d095cc82\", \"houserent1-100.csv\", 150093)"
            ]
          },
          "metadata": {}
        }
      ]
    },
    {
      "cell_type": "code",
      "source": [
        "#Check the first 5 rows of the data that we've scraped so far\n",
        "df.head()"
      ],
      "metadata": {
        "colab": {
          "base_uri": "https://localhost:8080/",
          "height": 206
        },
        "id": "0Yhq9yKjj0oH",
        "outputId": "098686cc-4ca0-4039-f00c-966290c92fab"
      },
      "execution_count": 10,
      "outputs": [
        {
          "output_type": "execute_result",
          "data": {
            "text/plain": [
              "                                            Location        Area Bed Bath  \\\n",
              "0                    Block H, Bashundhara R-A, Dhaka  1,600 sqft   3    3   \n",
              "1                           Farmgate, Tejgaon, Dhaka    900 sqft   2    2   \n",
              "2  Block B, Nobodoy Housing Society, Mohammadpur,...  1,250 sqft   3    3   \n",
              "3                          Gulshan 1, Gulshan, Dhaka  2,200 sqft   3    4   \n",
              "4                                   Baridhara, Dhaka  2,200 sqft   3    3   \n",
              "\n",
              "         Price  \n",
              "0  20 Thousand  \n",
              "1  20 Thousand  \n",
              "2  18 Thousand  \n",
              "3  75 Thousand  \n",
              "4  75 Thousand  "
            ],
            "text/html": [
              "\n",
              "  <div id=\"df-250ea041-7382-4820-a953-8fef9f182535\">\n",
              "    <div class=\"colab-df-container\">\n",
              "      <div>\n",
              "<style scoped>\n",
              "    .dataframe tbody tr th:only-of-type {\n",
              "        vertical-align: middle;\n",
              "    }\n",
              "\n",
              "    .dataframe tbody tr th {\n",
              "        vertical-align: top;\n",
              "    }\n",
              "\n",
              "    .dataframe thead th {\n",
              "        text-align: right;\n",
              "    }\n",
              "</style>\n",
              "<table border=\"1\" class=\"dataframe\">\n",
              "  <thead>\n",
              "    <tr style=\"text-align: right;\">\n",
              "      <th></th>\n",
              "      <th>Location</th>\n",
              "      <th>Area</th>\n",
              "      <th>Bed</th>\n",
              "      <th>Bath</th>\n",
              "      <th>Price</th>\n",
              "    </tr>\n",
              "  </thead>\n",
              "  <tbody>\n",
              "    <tr>\n",
              "      <th>0</th>\n",
              "      <td>Block H, Bashundhara R-A, Dhaka</td>\n",
              "      <td>1,600 sqft</td>\n",
              "      <td>3</td>\n",
              "      <td>3</td>\n",
              "      <td>20 Thousand</td>\n",
              "    </tr>\n",
              "    <tr>\n",
              "      <th>1</th>\n",
              "      <td>Farmgate, Tejgaon, Dhaka</td>\n",
              "      <td>900 sqft</td>\n",
              "      <td>2</td>\n",
              "      <td>2</td>\n",
              "      <td>20 Thousand</td>\n",
              "    </tr>\n",
              "    <tr>\n",
              "      <th>2</th>\n",
              "      <td>Block B, Nobodoy Housing Society, Mohammadpur,...</td>\n",
              "      <td>1,250 sqft</td>\n",
              "      <td>3</td>\n",
              "      <td>3</td>\n",
              "      <td>18 Thousand</td>\n",
              "    </tr>\n",
              "    <tr>\n",
              "      <th>3</th>\n",
              "      <td>Gulshan 1, Gulshan, Dhaka</td>\n",
              "      <td>2,200 sqft</td>\n",
              "      <td>3</td>\n",
              "      <td>4</td>\n",
              "      <td>75 Thousand</td>\n",
              "    </tr>\n",
              "    <tr>\n",
              "      <th>4</th>\n",
              "      <td>Baridhara, Dhaka</td>\n",
              "      <td>2,200 sqft</td>\n",
              "      <td>3</td>\n",
              "      <td>3</td>\n",
              "      <td>75 Thousand</td>\n",
              "    </tr>\n",
              "  </tbody>\n",
              "</table>\n",
              "</div>\n",
              "      <button class=\"colab-df-convert\" onclick=\"convertToInteractive('df-250ea041-7382-4820-a953-8fef9f182535')\"\n",
              "              title=\"Convert this dataframe to an interactive table.\"\n",
              "              style=\"display:none;\">\n",
              "        \n",
              "  <svg xmlns=\"http://www.w3.org/2000/svg\" height=\"24px\"viewBox=\"0 0 24 24\"\n",
              "       width=\"24px\">\n",
              "    <path d=\"M0 0h24v24H0V0z\" fill=\"none\"/>\n",
              "    <path d=\"M18.56 5.44l.94 2.06.94-2.06 2.06-.94-2.06-.94-.94-2.06-.94 2.06-2.06.94zm-11 1L8.5 8.5l.94-2.06 2.06-.94-2.06-.94L8.5 2.5l-.94 2.06-2.06.94zm10 10l.94 2.06.94-2.06 2.06-.94-2.06-.94-.94-2.06-.94 2.06-2.06.94z\"/><path d=\"M17.41 7.96l-1.37-1.37c-.4-.4-.92-.59-1.43-.59-.52 0-1.04.2-1.43.59L10.3 9.45l-7.72 7.72c-.78.78-.78 2.05 0 2.83L4 21.41c.39.39.9.59 1.41.59.51 0 1.02-.2 1.41-.59l7.78-7.78 2.81-2.81c.8-.78.8-2.07 0-2.86zM5.41 20L4 18.59l7.72-7.72 1.47 1.35L5.41 20z\"/>\n",
              "  </svg>\n",
              "      </button>\n",
              "      \n",
              "  <style>\n",
              "    .colab-df-container {\n",
              "      display:flex;\n",
              "      flex-wrap:wrap;\n",
              "      gap: 12px;\n",
              "    }\n",
              "\n",
              "    .colab-df-convert {\n",
              "      background-color: #E8F0FE;\n",
              "      border: none;\n",
              "      border-radius: 50%;\n",
              "      cursor: pointer;\n",
              "      display: none;\n",
              "      fill: #1967D2;\n",
              "      height: 32px;\n",
              "      padding: 0 0 0 0;\n",
              "      width: 32px;\n",
              "    }\n",
              "\n",
              "    .colab-df-convert:hover {\n",
              "      background-color: #E2EBFA;\n",
              "      box-shadow: 0px 1px 2px rgba(60, 64, 67, 0.3), 0px 1px 3px 1px rgba(60, 64, 67, 0.15);\n",
              "      fill: #174EA6;\n",
              "    }\n",
              "\n",
              "    [theme=dark] .colab-df-convert {\n",
              "      background-color: #3B4455;\n",
              "      fill: #D2E3FC;\n",
              "    }\n",
              "\n",
              "    [theme=dark] .colab-df-convert:hover {\n",
              "      background-color: #434B5C;\n",
              "      box-shadow: 0px 1px 3px 1px rgba(0, 0, 0, 0.15);\n",
              "      filter: drop-shadow(0px 1px 2px rgba(0, 0, 0, 0.3));\n",
              "      fill: #FFFFFF;\n",
              "    }\n",
              "  </style>\n",
              "\n",
              "      <script>\n",
              "        const buttonEl =\n",
              "          document.querySelector('#df-250ea041-7382-4820-a953-8fef9f182535 button.colab-df-convert');\n",
              "        buttonEl.style.display =\n",
              "          google.colab.kernel.accessAllowed ? 'block' : 'none';\n",
              "\n",
              "        async function convertToInteractive(key) {\n",
              "          const element = document.querySelector('#df-250ea041-7382-4820-a953-8fef9f182535');\n",
              "          const dataTable =\n",
              "            await google.colab.kernel.invokeFunction('convertToInteractive',\n",
              "                                                     [key], {});\n",
              "          if (!dataTable) return;\n",
              "\n",
              "          const docLinkHtml = 'Like what you see? Visit the ' +\n",
              "            '<a target=\"_blank\" href=https://colab.research.google.com/notebooks/data_table.ipynb>data table notebook</a>'\n",
              "            + ' to learn more about interactive tables.';\n",
              "          element.innerHTML = '';\n",
              "          dataTable['output_type'] = 'display_data';\n",
              "          await google.colab.output.renderOutput(dataTable, element);\n",
              "          const docLink = document.createElement('div');\n",
              "          docLink.innerHTML = docLinkHtml;\n",
              "          element.appendChild(docLink);\n",
              "        }\n",
              "      </script>\n",
              "    </div>\n",
              "  </div>\n",
              "  "
            ]
          },
          "metadata": {},
          "execution_count": 10
        }
      ]
    }
  ]
}