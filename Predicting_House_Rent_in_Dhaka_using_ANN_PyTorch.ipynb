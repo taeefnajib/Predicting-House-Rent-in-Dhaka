{
  "cells": [
    {
      "cell_type": "markdown",
      "id": "464ad875",
      "metadata": {
        "id": "464ad875"
      },
      "source": [
        "# **Predicting House Rent in Dhaka**\n",
        "### Using Python, Pandas & PyTorch\n",
        "\n",
        "Dhaka is one of the most populated megacities of the world. It is the capital of Bangladesh, a country of 164.7m population in the South-East Asian sub-continent. Dhaka is inhabited by over 20 million people, with 75-80% people living in rented houses. The rent hike in the city was recorded 29% in the last five years. Nearly 65 percent or more of the city dwellers' monthly income is spent on paying the rent.\n",
        "\n",
        "However, house rent vary depending on various factors. We have tried to build a Machine Learning model, using Artificial Neural Network (ANN) in PyTorch, to predict house rent in Dhaka.\n",
        "\n",
        "The dataset used in this project to train and test the model is webscrapped from [bproperties.com](https://www.bproperty.com)\n",
        "\n"
      ]
    },
    {
      "cell_type": "markdown",
      "id": "64152e65",
      "metadata": {
        "id": "64152e65"
      },
      "source": [
        "### Data Collection\n",
        "\n",
        "We have scrapped the `location`, `Area in sqft`, `No of Bedrooms`, `Number of Bathrooms` and `Monthly Rent` from the following website:\n",
        "[https://www.bproperty.com/en/dhaka/apartments-for-rent/?load_all_prop=1](https://www.bproperty.com/en/dhaka/apartments-for-rent/?load_all_prop=1)\n",
        "\n",
        "<b>Tool:</b>\n",
        "1. [Google Colab](https://colab.research.google.com)\n",
        "\n",
        "Script can be found here:\n",
        "[https://github.com/taeefnajib/Predicting-House-Rent-in-Dhaka/blob/main/Scraping_House_Rents_in_Dhaka.ipynb](https://github.com/taeefnajib/Predicting-House-Rent-in-Dhaka/blob/main/Scraping_House_Rents_in_Dhaka.ipynb)\n",
        "\n",
        "<b>Feature Variables:</b>\n",
        "1. Location\n",
        "2. Area\n",
        "3. No of Bed\n",
        "4. No of Bath\n",
        "\n",
        "<b>Target Variable:</b>\n",
        "1. Rent\n",
        "\n",
        "There are 4,13,782 Apartments in Dhaka that are listed on the website, from which we have taken 28,800 apartments.\n",
        "\n",
        "<b>Dependencies:</b>\n",
        "* Selenium\n",
        "* Pandas\n",
        "* Numpy\n",
        "* Matplotlib\n",
        "* Seaborn\n",
        "* Scikit Learn\n",
        "\n",
        "We have installed all the dependencies using [Pip](https://pip.pypa.io/en/stable/)\n",
        "\n",
        "After collecting all the data and saving to a dataframe, we have exported the data into the csv file \"houserentdhaka.csv\" using the following code:\n",
        "\n",
        "```\n",
        "from google.colab import files\n",
        "df.to_csv('houserentdhaka.csv', encoding = 'utf-8-sig')\n",
        "files.download('houserentdhaka.csv')\n",
        "```\n",
        "\n",
        "The file can be found here:\n",
        "[houserentdhaka.csv](https://github.com/taeefnajib/Predicting-House-Rent-in-Dhaka/blob/main/houserentdhaka.csv)"
      ]
    },
    {
      "cell_type": "code",
      "execution_count": 1,
      "id": "ab8eb475",
      "metadata": {
        "id": "ab8eb475"
      },
      "outputs": [],
      "source": [
        "#importing all required libraries\n",
        "import pandas as pd\n",
        "import numpy as np\n",
        "import matplotlib.pyplot as plt\n",
        "import seaborn as sns\n",
        "import sklearn as sk"
      ]
    },
    {
      "cell_type": "code",
      "execution_count": 2,
      "id": "6c0266a7",
      "metadata": {
        "id": "6c0266a7"
      },
      "outputs": [],
      "source": [
        "df = pd.read_csv(\"https://raw.githubusercontent.com/taeefnajib/Predicting-House-Rent-in-Dhaka/main/houserentdhaka.csv\")"
      ]
    },
    {
      "cell_type": "code",
      "execution_count": 3,
      "id": "ffe9c43e",
      "metadata": {
        "scrolled": true,
        "colab": {
          "base_uri": "https://localhost:8080/",
          "height": 206
        },
        "id": "ffe9c43e",
        "outputId": "57bf99e3-00b7-4a5a-b0f2-ee3e43760c93"
      },
      "outputs": [
        {
          "output_type": "execute_result",
          "data": {
            "text/plain": [
              "   Unnamed: 0                                           Location        Area  \\\n",
              "0           0                    Block H, Bashundhara R-A, Dhaka  1,600 sqft   \n",
              "1           1                           Farmgate, Tejgaon, Dhaka    900 sqft   \n",
              "2           2  Block B, Nobodoy Housing Society, Mohammadpur,...  1,250 sqft   \n",
              "3           3                          Gulshan 1, Gulshan, Dhaka  2,200 sqft   \n",
              "4           4                                   Baridhara, Dhaka  2,200 sqft   \n",
              "\n",
              "   Bed  Bath        Price  \n",
              "0    3     3  20 Thousand  \n",
              "1    2     2  20 Thousand  \n",
              "2    3     3  18 Thousand  \n",
              "3    3     4  75 Thousand  \n",
              "4    3     3  75 Thousand  "
            ],
            "text/html": [
              "\n",
              "  <div id=\"df-827af22c-a9c5-405e-bb16-fae33cf756d1\">\n",
              "    <div class=\"colab-df-container\">\n",
              "      <div>\n",
              "<style scoped>\n",
              "    .dataframe tbody tr th:only-of-type {\n",
              "        vertical-align: middle;\n",
              "    }\n",
              "\n",
              "    .dataframe tbody tr th {\n",
              "        vertical-align: top;\n",
              "    }\n",
              "\n",
              "    .dataframe thead th {\n",
              "        text-align: right;\n",
              "    }\n",
              "</style>\n",
              "<table border=\"1\" class=\"dataframe\">\n",
              "  <thead>\n",
              "    <tr style=\"text-align: right;\">\n",
              "      <th></th>\n",
              "      <th>Unnamed: 0</th>\n",
              "      <th>Location</th>\n",
              "      <th>Area</th>\n",
              "      <th>Bed</th>\n",
              "      <th>Bath</th>\n",
              "      <th>Price</th>\n",
              "    </tr>\n",
              "  </thead>\n",
              "  <tbody>\n",
              "    <tr>\n",
              "      <th>0</th>\n",
              "      <td>0</td>\n",
              "      <td>Block H, Bashundhara R-A, Dhaka</td>\n",
              "      <td>1,600 sqft</td>\n",
              "      <td>3</td>\n",
              "      <td>3</td>\n",
              "      <td>20 Thousand</td>\n",
              "    </tr>\n",
              "    <tr>\n",
              "      <th>1</th>\n",
              "      <td>1</td>\n",
              "      <td>Farmgate, Tejgaon, Dhaka</td>\n",
              "      <td>900 sqft</td>\n",
              "      <td>2</td>\n",
              "      <td>2</td>\n",
              "      <td>20 Thousand</td>\n",
              "    </tr>\n",
              "    <tr>\n",
              "      <th>2</th>\n",
              "      <td>2</td>\n",
              "      <td>Block B, Nobodoy Housing Society, Mohammadpur,...</td>\n",
              "      <td>1,250 sqft</td>\n",
              "      <td>3</td>\n",
              "      <td>3</td>\n",
              "      <td>18 Thousand</td>\n",
              "    </tr>\n",
              "    <tr>\n",
              "      <th>3</th>\n",
              "      <td>3</td>\n",
              "      <td>Gulshan 1, Gulshan, Dhaka</td>\n",
              "      <td>2,200 sqft</td>\n",
              "      <td>3</td>\n",
              "      <td>4</td>\n",
              "      <td>75 Thousand</td>\n",
              "    </tr>\n",
              "    <tr>\n",
              "      <th>4</th>\n",
              "      <td>4</td>\n",
              "      <td>Baridhara, Dhaka</td>\n",
              "      <td>2,200 sqft</td>\n",
              "      <td>3</td>\n",
              "      <td>3</td>\n",
              "      <td>75 Thousand</td>\n",
              "    </tr>\n",
              "  </tbody>\n",
              "</table>\n",
              "</div>\n",
              "      <button class=\"colab-df-convert\" onclick=\"convertToInteractive('df-827af22c-a9c5-405e-bb16-fae33cf756d1')\"\n",
              "              title=\"Convert this dataframe to an interactive table.\"\n",
              "              style=\"display:none;\">\n",
              "        \n",
              "  <svg xmlns=\"http://www.w3.org/2000/svg\" height=\"24px\"viewBox=\"0 0 24 24\"\n",
              "       width=\"24px\">\n",
              "    <path d=\"M0 0h24v24H0V0z\" fill=\"none\"/>\n",
              "    <path d=\"M18.56 5.44l.94 2.06.94-2.06 2.06-.94-2.06-.94-.94-2.06-.94 2.06-2.06.94zm-11 1L8.5 8.5l.94-2.06 2.06-.94-2.06-.94L8.5 2.5l-.94 2.06-2.06.94zm10 10l.94 2.06.94-2.06 2.06-.94-2.06-.94-.94-2.06-.94 2.06-2.06.94z\"/><path d=\"M17.41 7.96l-1.37-1.37c-.4-.4-.92-.59-1.43-.59-.52 0-1.04.2-1.43.59L10.3 9.45l-7.72 7.72c-.78.78-.78 2.05 0 2.83L4 21.41c.39.39.9.59 1.41.59.51 0 1.02-.2 1.41-.59l7.78-7.78 2.81-2.81c.8-.78.8-2.07 0-2.86zM5.41 20L4 18.59l7.72-7.72 1.47 1.35L5.41 20z\"/>\n",
              "  </svg>\n",
              "      </button>\n",
              "      \n",
              "  <style>\n",
              "    .colab-df-container {\n",
              "      display:flex;\n",
              "      flex-wrap:wrap;\n",
              "      gap: 12px;\n",
              "    }\n",
              "\n",
              "    .colab-df-convert {\n",
              "      background-color: #E8F0FE;\n",
              "      border: none;\n",
              "      border-radius: 50%;\n",
              "      cursor: pointer;\n",
              "      display: none;\n",
              "      fill: #1967D2;\n",
              "      height: 32px;\n",
              "      padding: 0 0 0 0;\n",
              "      width: 32px;\n",
              "    }\n",
              "\n",
              "    .colab-df-convert:hover {\n",
              "      background-color: #E2EBFA;\n",
              "      box-shadow: 0px 1px 2px rgba(60, 64, 67, 0.3), 0px 1px 3px 1px rgba(60, 64, 67, 0.15);\n",
              "      fill: #174EA6;\n",
              "    }\n",
              "\n",
              "    [theme=dark] .colab-df-convert {\n",
              "      background-color: #3B4455;\n",
              "      fill: #D2E3FC;\n",
              "    }\n",
              "\n",
              "    [theme=dark] .colab-df-convert:hover {\n",
              "      background-color: #434B5C;\n",
              "      box-shadow: 0px 1px 3px 1px rgba(0, 0, 0, 0.15);\n",
              "      filter: drop-shadow(0px 1px 2px rgba(0, 0, 0, 0.3));\n",
              "      fill: #FFFFFF;\n",
              "    }\n",
              "  </style>\n",
              "\n",
              "      <script>\n",
              "        const buttonEl =\n",
              "          document.querySelector('#df-827af22c-a9c5-405e-bb16-fae33cf756d1 button.colab-df-convert');\n",
              "        buttonEl.style.display =\n",
              "          google.colab.kernel.accessAllowed ? 'block' : 'none';\n",
              "\n",
              "        async function convertToInteractive(key) {\n",
              "          const element = document.querySelector('#df-827af22c-a9c5-405e-bb16-fae33cf756d1');\n",
              "          const dataTable =\n",
              "            await google.colab.kernel.invokeFunction('convertToInteractive',\n",
              "                                                     [key], {});\n",
              "          if (!dataTable) return;\n",
              "\n",
              "          const docLinkHtml = 'Like what you see? Visit the ' +\n",
              "            '<a target=\"_blank\" href=https://colab.research.google.com/notebooks/data_table.ipynb>data table notebook</a>'\n",
              "            + ' to learn more about interactive tables.';\n",
              "          element.innerHTML = '';\n",
              "          dataTable['output_type'] = 'display_data';\n",
              "          await google.colab.output.renderOutput(dataTable, element);\n",
              "          const docLink = document.createElement('div');\n",
              "          docLink.innerHTML = docLinkHtml;\n",
              "          element.appendChild(docLink);\n",
              "        }\n",
              "      </script>\n",
              "    </div>\n",
              "  </div>\n",
              "  "
            ]
          },
          "metadata": {},
          "execution_count": 3
        }
      ],
      "source": [
        "df.head()"
      ]
    },
    {
      "cell_type": "code",
      "execution_count": 4,
      "id": "90290e35",
      "metadata": {
        "colab": {
          "base_uri": "https://localhost:8080/"
        },
        "id": "90290e35",
        "outputId": "2e994d0d-898f-437b-98ff-e87dfd959ad0"
      },
      "outputs": [
        {
          "output_type": "execute_result",
          "data": {
            "text/plain": [
              "(28800, 6)"
            ]
          },
          "metadata": {},
          "execution_count": 4
        }
      ],
      "source": [
        "df.shape"
      ]
    },
    {
      "cell_type": "markdown",
      "id": "7987e479",
      "metadata": {
        "id": "7987e479"
      },
      "source": [
        "### Data Pre-processing\n",
        "In this step, we are going to perform the following actions for data wrangling:\n",
        "\n",
        "* Check for column names\n",
        "* Treating unnecessary columns\n",
        "* Checking for missing values and treating them\n",
        "* Formating data and changing datatypes\n",
        "* One-hot Encoding: Preparing categorical values for Machine Learning (LATER)"
      ]
    },
    {
      "cell_type": "code",
      "execution_count": 5,
      "id": "6e5cb52a",
      "metadata": {
        "colab": {
          "base_uri": "https://localhost:8080/"
        },
        "id": "6e5cb52a",
        "outputId": "ed9748d4-7d9b-483b-80f6-a1797d8983c9"
      },
      "outputs": [
        {
          "output_type": "execute_result",
          "data": {
            "text/plain": [
              "Index(['Unnamed: 0', 'Location', 'Area', 'Bed', 'Bath', 'Price'], dtype='object')"
            ]
          },
          "metadata": {},
          "execution_count": 5
        }
      ],
      "source": [
        "#Check for column names\n",
        "df.columns"
      ]
    },
    {
      "cell_type": "markdown",
      "id": "738388cb",
      "metadata": {
        "id": "738388cb"
      },
      "source": [
        "*Note: As we can see, the column for Rent is named as Price, which is a mistake. We are going to fix this.*"
      ]
    },
    {
      "cell_type": "code",
      "execution_count": 6,
      "id": "a21f05c8",
      "metadata": {
        "id": "a21f05c8"
      },
      "outputs": [],
      "source": [
        "df = df.rename({'Price': 'Rent'}, axis=1)"
      ]
    },
    {
      "cell_type": "code",
      "execution_count": 7,
      "id": "6bd777c6",
      "metadata": {
        "colab": {
          "base_uri": "https://localhost:8080/",
          "height": 143
        },
        "id": "6bd777c6",
        "outputId": "34f27521-14a0-4f5a-a82e-2521b4f98ce5"
      },
      "outputs": [
        {
          "output_type": "execute_result",
          "data": {
            "text/plain": [
              "   Unnamed: 0                                           Location        Area  \\\n",
              "0           0                    Block H, Bashundhara R-A, Dhaka  1,600 sqft   \n",
              "1           1                           Farmgate, Tejgaon, Dhaka    900 sqft   \n",
              "2           2  Block B, Nobodoy Housing Society, Mohammadpur,...  1,250 sqft   \n",
              "\n",
              "   Bed  Bath         Rent  \n",
              "0    3     3  20 Thousand  \n",
              "1    2     2  20 Thousand  \n",
              "2    3     3  18 Thousand  "
            ],
            "text/html": [
              "\n",
              "  <div id=\"df-50c93540-a662-4fec-aae0-d47df63f031b\">\n",
              "    <div class=\"colab-df-container\">\n",
              "      <div>\n",
              "<style scoped>\n",
              "    .dataframe tbody tr th:only-of-type {\n",
              "        vertical-align: middle;\n",
              "    }\n",
              "\n",
              "    .dataframe tbody tr th {\n",
              "        vertical-align: top;\n",
              "    }\n",
              "\n",
              "    .dataframe thead th {\n",
              "        text-align: right;\n",
              "    }\n",
              "</style>\n",
              "<table border=\"1\" class=\"dataframe\">\n",
              "  <thead>\n",
              "    <tr style=\"text-align: right;\">\n",
              "      <th></th>\n",
              "      <th>Unnamed: 0</th>\n",
              "      <th>Location</th>\n",
              "      <th>Area</th>\n",
              "      <th>Bed</th>\n",
              "      <th>Bath</th>\n",
              "      <th>Rent</th>\n",
              "    </tr>\n",
              "  </thead>\n",
              "  <tbody>\n",
              "    <tr>\n",
              "      <th>0</th>\n",
              "      <td>0</td>\n",
              "      <td>Block H, Bashundhara R-A, Dhaka</td>\n",
              "      <td>1,600 sqft</td>\n",
              "      <td>3</td>\n",
              "      <td>3</td>\n",
              "      <td>20 Thousand</td>\n",
              "    </tr>\n",
              "    <tr>\n",
              "      <th>1</th>\n",
              "      <td>1</td>\n",
              "      <td>Farmgate, Tejgaon, Dhaka</td>\n",
              "      <td>900 sqft</td>\n",
              "      <td>2</td>\n",
              "      <td>2</td>\n",
              "      <td>20 Thousand</td>\n",
              "    </tr>\n",
              "    <tr>\n",
              "      <th>2</th>\n",
              "      <td>2</td>\n",
              "      <td>Block B, Nobodoy Housing Society, Mohammadpur,...</td>\n",
              "      <td>1,250 sqft</td>\n",
              "      <td>3</td>\n",
              "      <td>3</td>\n",
              "      <td>18 Thousand</td>\n",
              "    </tr>\n",
              "  </tbody>\n",
              "</table>\n",
              "</div>\n",
              "      <button class=\"colab-df-convert\" onclick=\"convertToInteractive('df-50c93540-a662-4fec-aae0-d47df63f031b')\"\n",
              "              title=\"Convert this dataframe to an interactive table.\"\n",
              "              style=\"display:none;\">\n",
              "        \n",
              "  <svg xmlns=\"http://www.w3.org/2000/svg\" height=\"24px\"viewBox=\"0 0 24 24\"\n",
              "       width=\"24px\">\n",
              "    <path d=\"M0 0h24v24H0V0z\" fill=\"none\"/>\n",
              "    <path d=\"M18.56 5.44l.94 2.06.94-2.06 2.06-.94-2.06-.94-.94-2.06-.94 2.06-2.06.94zm-11 1L8.5 8.5l.94-2.06 2.06-.94-2.06-.94L8.5 2.5l-.94 2.06-2.06.94zm10 10l.94 2.06.94-2.06 2.06-.94-2.06-.94-.94-2.06-.94 2.06-2.06.94z\"/><path d=\"M17.41 7.96l-1.37-1.37c-.4-.4-.92-.59-1.43-.59-.52 0-1.04.2-1.43.59L10.3 9.45l-7.72 7.72c-.78.78-.78 2.05 0 2.83L4 21.41c.39.39.9.59 1.41.59.51 0 1.02-.2 1.41-.59l7.78-7.78 2.81-2.81c.8-.78.8-2.07 0-2.86zM5.41 20L4 18.59l7.72-7.72 1.47 1.35L5.41 20z\"/>\n",
              "  </svg>\n",
              "      </button>\n",
              "      \n",
              "  <style>\n",
              "    .colab-df-container {\n",
              "      display:flex;\n",
              "      flex-wrap:wrap;\n",
              "      gap: 12px;\n",
              "    }\n",
              "\n",
              "    .colab-df-convert {\n",
              "      background-color: #E8F0FE;\n",
              "      border: none;\n",
              "      border-radius: 50%;\n",
              "      cursor: pointer;\n",
              "      display: none;\n",
              "      fill: #1967D2;\n",
              "      height: 32px;\n",
              "      padding: 0 0 0 0;\n",
              "      width: 32px;\n",
              "    }\n",
              "\n",
              "    .colab-df-convert:hover {\n",
              "      background-color: #E2EBFA;\n",
              "      box-shadow: 0px 1px 2px rgba(60, 64, 67, 0.3), 0px 1px 3px 1px rgba(60, 64, 67, 0.15);\n",
              "      fill: #174EA6;\n",
              "    }\n",
              "\n",
              "    [theme=dark] .colab-df-convert {\n",
              "      background-color: #3B4455;\n",
              "      fill: #D2E3FC;\n",
              "    }\n",
              "\n",
              "    [theme=dark] .colab-df-convert:hover {\n",
              "      background-color: #434B5C;\n",
              "      box-shadow: 0px 1px 3px 1px rgba(0, 0, 0, 0.15);\n",
              "      filter: drop-shadow(0px 1px 2px rgba(0, 0, 0, 0.3));\n",
              "      fill: #FFFFFF;\n",
              "    }\n",
              "  </style>\n",
              "\n",
              "      <script>\n",
              "        const buttonEl =\n",
              "          document.querySelector('#df-50c93540-a662-4fec-aae0-d47df63f031b button.colab-df-convert');\n",
              "        buttonEl.style.display =\n",
              "          google.colab.kernel.accessAllowed ? 'block' : 'none';\n",
              "\n",
              "        async function convertToInteractive(key) {\n",
              "          const element = document.querySelector('#df-50c93540-a662-4fec-aae0-d47df63f031b');\n",
              "          const dataTable =\n",
              "            await google.colab.kernel.invokeFunction('convertToInteractive',\n",
              "                                                     [key], {});\n",
              "          if (!dataTable) return;\n",
              "\n",
              "          const docLinkHtml = 'Like what you see? Visit the ' +\n",
              "            '<a target=\"_blank\" href=https://colab.research.google.com/notebooks/data_table.ipynb>data table notebook</a>'\n",
              "            + ' to learn more about interactive tables.';\n",
              "          element.innerHTML = '';\n",
              "          dataTable['output_type'] = 'display_data';\n",
              "          await google.colab.output.renderOutput(dataTable, element);\n",
              "          const docLink = document.createElement('div');\n",
              "          docLink.innerHTML = docLinkHtml;\n",
              "          element.appendChild(docLink);\n",
              "        }\n",
              "      </script>\n",
              "    </div>\n",
              "  </div>\n",
              "  "
            ]
          },
          "metadata": {},
          "execution_count": 7
        }
      ],
      "source": [
        "df.head(3)"
      ]
    },
    {
      "cell_type": "markdown",
      "id": "15b1d345",
      "metadata": {
        "id": "15b1d345"
      },
      "source": [
        "*Note: There is an unnecessary column called Unnamed: 0. We are going to remove that*"
      ]
    },
    {
      "cell_type": "code",
      "execution_count": 8,
      "id": "6d784158",
      "metadata": {
        "id": "6d784158"
      },
      "outputs": [],
      "source": [
        "#Treating unnecessary columns\n",
        "df.drop(columns=df.columns[0], axis=1, inplace=True)"
      ]
    },
    {
      "cell_type": "code",
      "execution_count": 9,
      "id": "1859e3cc",
      "metadata": {
        "colab": {
          "base_uri": "https://localhost:8080/",
          "height": 143
        },
        "id": "1859e3cc",
        "outputId": "e52ef372-cd97-4acf-c2fd-2b1c9d53ec67"
      },
      "outputs": [
        {
          "output_type": "execute_result",
          "data": {
            "text/plain": [
              "                                            Location        Area  Bed  Bath  \\\n",
              "0                    Block H, Bashundhara R-A, Dhaka  1,600 sqft    3     3   \n",
              "1                           Farmgate, Tejgaon, Dhaka    900 sqft    2     2   \n",
              "2  Block B, Nobodoy Housing Society, Mohammadpur,...  1,250 sqft    3     3   \n",
              "\n",
              "          Rent  \n",
              "0  20 Thousand  \n",
              "1  20 Thousand  \n",
              "2  18 Thousand  "
            ],
            "text/html": [
              "\n",
              "  <div id=\"df-28388f93-ef30-4362-acc7-173acee98d94\">\n",
              "    <div class=\"colab-df-container\">\n",
              "      <div>\n",
              "<style scoped>\n",
              "    .dataframe tbody tr th:only-of-type {\n",
              "        vertical-align: middle;\n",
              "    }\n",
              "\n",
              "    .dataframe tbody tr th {\n",
              "        vertical-align: top;\n",
              "    }\n",
              "\n",
              "    .dataframe thead th {\n",
              "        text-align: right;\n",
              "    }\n",
              "</style>\n",
              "<table border=\"1\" class=\"dataframe\">\n",
              "  <thead>\n",
              "    <tr style=\"text-align: right;\">\n",
              "      <th></th>\n",
              "      <th>Location</th>\n",
              "      <th>Area</th>\n",
              "      <th>Bed</th>\n",
              "      <th>Bath</th>\n",
              "      <th>Rent</th>\n",
              "    </tr>\n",
              "  </thead>\n",
              "  <tbody>\n",
              "    <tr>\n",
              "      <th>0</th>\n",
              "      <td>Block H, Bashundhara R-A, Dhaka</td>\n",
              "      <td>1,600 sqft</td>\n",
              "      <td>3</td>\n",
              "      <td>3</td>\n",
              "      <td>20 Thousand</td>\n",
              "    </tr>\n",
              "    <tr>\n",
              "      <th>1</th>\n",
              "      <td>Farmgate, Tejgaon, Dhaka</td>\n",
              "      <td>900 sqft</td>\n",
              "      <td>2</td>\n",
              "      <td>2</td>\n",
              "      <td>20 Thousand</td>\n",
              "    </tr>\n",
              "    <tr>\n",
              "      <th>2</th>\n",
              "      <td>Block B, Nobodoy Housing Society, Mohammadpur,...</td>\n",
              "      <td>1,250 sqft</td>\n",
              "      <td>3</td>\n",
              "      <td>3</td>\n",
              "      <td>18 Thousand</td>\n",
              "    </tr>\n",
              "  </tbody>\n",
              "</table>\n",
              "</div>\n",
              "      <button class=\"colab-df-convert\" onclick=\"convertToInteractive('df-28388f93-ef30-4362-acc7-173acee98d94')\"\n",
              "              title=\"Convert this dataframe to an interactive table.\"\n",
              "              style=\"display:none;\">\n",
              "        \n",
              "  <svg xmlns=\"http://www.w3.org/2000/svg\" height=\"24px\"viewBox=\"0 0 24 24\"\n",
              "       width=\"24px\">\n",
              "    <path d=\"M0 0h24v24H0V0z\" fill=\"none\"/>\n",
              "    <path d=\"M18.56 5.44l.94 2.06.94-2.06 2.06-.94-2.06-.94-.94-2.06-.94 2.06-2.06.94zm-11 1L8.5 8.5l.94-2.06 2.06-.94-2.06-.94L8.5 2.5l-.94 2.06-2.06.94zm10 10l.94 2.06.94-2.06 2.06-.94-2.06-.94-.94-2.06-.94 2.06-2.06.94z\"/><path d=\"M17.41 7.96l-1.37-1.37c-.4-.4-.92-.59-1.43-.59-.52 0-1.04.2-1.43.59L10.3 9.45l-7.72 7.72c-.78.78-.78 2.05 0 2.83L4 21.41c.39.39.9.59 1.41.59.51 0 1.02-.2 1.41-.59l7.78-7.78 2.81-2.81c.8-.78.8-2.07 0-2.86zM5.41 20L4 18.59l7.72-7.72 1.47 1.35L5.41 20z\"/>\n",
              "  </svg>\n",
              "      </button>\n",
              "      \n",
              "  <style>\n",
              "    .colab-df-container {\n",
              "      display:flex;\n",
              "      flex-wrap:wrap;\n",
              "      gap: 12px;\n",
              "    }\n",
              "\n",
              "    .colab-df-convert {\n",
              "      background-color: #E8F0FE;\n",
              "      border: none;\n",
              "      border-radius: 50%;\n",
              "      cursor: pointer;\n",
              "      display: none;\n",
              "      fill: #1967D2;\n",
              "      height: 32px;\n",
              "      padding: 0 0 0 0;\n",
              "      width: 32px;\n",
              "    }\n",
              "\n",
              "    .colab-df-convert:hover {\n",
              "      background-color: #E2EBFA;\n",
              "      box-shadow: 0px 1px 2px rgba(60, 64, 67, 0.3), 0px 1px 3px 1px rgba(60, 64, 67, 0.15);\n",
              "      fill: #174EA6;\n",
              "    }\n",
              "\n",
              "    [theme=dark] .colab-df-convert {\n",
              "      background-color: #3B4455;\n",
              "      fill: #D2E3FC;\n",
              "    }\n",
              "\n",
              "    [theme=dark] .colab-df-convert:hover {\n",
              "      background-color: #434B5C;\n",
              "      box-shadow: 0px 1px 3px 1px rgba(0, 0, 0, 0.15);\n",
              "      filter: drop-shadow(0px 1px 2px rgba(0, 0, 0, 0.3));\n",
              "      fill: #FFFFFF;\n",
              "    }\n",
              "  </style>\n",
              "\n",
              "      <script>\n",
              "        const buttonEl =\n",
              "          document.querySelector('#df-28388f93-ef30-4362-acc7-173acee98d94 button.colab-df-convert');\n",
              "        buttonEl.style.display =\n",
              "          google.colab.kernel.accessAllowed ? 'block' : 'none';\n",
              "\n",
              "        async function convertToInteractive(key) {\n",
              "          const element = document.querySelector('#df-28388f93-ef30-4362-acc7-173acee98d94');\n",
              "          const dataTable =\n",
              "            await google.colab.kernel.invokeFunction('convertToInteractive',\n",
              "                                                     [key], {});\n",
              "          if (!dataTable) return;\n",
              "\n",
              "          const docLinkHtml = 'Like what you see? Visit the ' +\n",
              "            '<a target=\"_blank\" href=https://colab.research.google.com/notebooks/data_table.ipynb>data table notebook</a>'\n",
              "            + ' to learn more about interactive tables.';\n",
              "          element.innerHTML = '';\n",
              "          dataTable['output_type'] = 'display_data';\n",
              "          await google.colab.output.renderOutput(dataTable, element);\n",
              "          const docLink = document.createElement('div');\n",
              "          docLink.innerHTML = docLinkHtml;\n",
              "          element.appendChild(docLink);\n",
              "        }\n",
              "      </script>\n",
              "    </div>\n",
              "  </div>\n",
              "  "
            ]
          },
          "metadata": {},
          "execution_count": 9
        }
      ],
      "source": [
        "df.head(3)"
      ]
    },
    {
      "cell_type": "code",
      "execution_count": 10,
      "id": "b0410032",
      "metadata": {
        "colab": {
          "base_uri": "https://localhost:8080/"
        },
        "id": "b0410032",
        "outputId": "c0e32937-44c7-4ab7-8ed4-46f86ca49efa"
      },
      "outputs": [
        {
          "output_type": "execute_result",
          "data": {
            "text/plain": [
              "Location    0\n",
              "Area        0\n",
              "Bed         0\n",
              "Bath        0\n",
              "Rent        0\n",
              "dtype: int64"
            ]
          },
          "metadata": {},
          "execution_count": 10
        }
      ],
      "source": [
        "#Checking for missing values\n",
        "df.isnull().sum()"
      ]
    },
    {
      "cell_type": "markdown",
      "id": "27d8c799",
      "metadata": {
        "id": "27d8c799"
      },
      "source": [
        "There is no null value in the dataframe"
      ]
    },
    {
      "cell_type": "code",
      "execution_count": 11,
      "id": "e32f7c29",
      "metadata": {
        "colab": {
          "base_uri": "https://localhost:8080/"
        },
        "id": "e32f7c29",
        "outputId": "bd749ef1-6409-4a8b-d8fc-aaaca72ce087"
      },
      "outputs": [
        {
          "output_type": "execute_result",
          "data": {
            "text/plain": [
              "Location    object\n",
              "Area        object\n",
              "Bed          int64\n",
              "Bath         int64\n",
              "Rent        object\n",
              "dtype: object"
            ]
          },
          "metadata": {},
          "execution_count": 11
        }
      ],
      "source": [
        "#Formating data and changing datatypes\n",
        "#Checking for datatypes\n",
        "df.dtypes"
      ]
    },
    {
      "cell_type": "markdown",
      "id": "c0a569ca",
      "metadata": {
        "id": "c0a569ca"
      },
      "source": [
        "There are a few things we need to format in the dataframe:\n",
        "1. We need to remove the city name from the Location column\n",
        "2. We need to remove sqft from the Area column and remove comma \",\" from the digits\n",
        "3. We need to change the datatype of the Area column to int64 from object\n",
        "4. We need to turn any string in the Rent column to its neumeric form. For this, we need to turn 65 Thousand into 65000 and 1.5 Lakh into 150000\n",
        "5. We need to also change the datatype of the Rent column to float from object"
      ]
    },
    {
      "cell_type": "code",
      "execution_count": 12,
      "id": "40d7b7f6",
      "metadata": {
        "id": "40d7b7f6"
      },
      "outputs": [],
      "source": [
        "#Removing city names from the Location column\n",
        "df['Location']=df['Location'].str.split(',').str[:-1]"
      ]
    },
    {
      "cell_type": "code",
      "source": [
        "df.head()"
      ],
      "metadata": {
        "colab": {
          "base_uri": "https://localhost:8080/",
          "height": 206
        },
        "id": "5bD0Ads823sX",
        "outputId": "0200ce6d-ebc1-4257-b7ce-ceb4a57e25bd"
      },
      "id": "5bD0Ads823sX",
      "execution_count": 13,
      "outputs": [
        {
          "output_type": "execute_result",
          "data": {
            "text/plain": [
              "                                            Location        Area  Bed  Bath  \\\n",
              "0                        [Block H,  Bashundhara R-A]  1,600 sqft    3     3   \n",
              "1                               [Farmgate,  Tejgaon]    900 sqft    2     2   \n",
              "2  [Block B,  Nobodoy Housing Society,  Mohammadpur]  1,250 sqft    3     3   \n",
              "3                              [Gulshan 1,  Gulshan]  2,200 sqft    3     4   \n",
              "4                                        [Baridhara]  2,200 sqft    3     3   \n",
              "\n",
              "          Rent  \n",
              "0  20 Thousand  \n",
              "1  20 Thousand  \n",
              "2  18 Thousand  \n",
              "3  75 Thousand  \n",
              "4  75 Thousand  "
            ],
            "text/html": [
              "\n",
              "  <div id=\"df-305ae24b-b399-4bed-aaab-245b520e2539\">\n",
              "    <div class=\"colab-df-container\">\n",
              "      <div>\n",
              "<style scoped>\n",
              "    .dataframe tbody tr th:only-of-type {\n",
              "        vertical-align: middle;\n",
              "    }\n",
              "\n",
              "    .dataframe tbody tr th {\n",
              "        vertical-align: top;\n",
              "    }\n",
              "\n",
              "    .dataframe thead th {\n",
              "        text-align: right;\n",
              "    }\n",
              "</style>\n",
              "<table border=\"1\" class=\"dataframe\">\n",
              "  <thead>\n",
              "    <tr style=\"text-align: right;\">\n",
              "      <th></th>\n",
              "      <th>Location</th>\n",
              "      <th>Area</th>\n",
              "      <th>Bed</th>\n",
              "      <th>Bath</th>\n",
              "      <th>Rent</th>\n",
              "    </tr>\n",
              "  </thead>\n",
              "  <tbody>\n",
              "    <tr>\n",
              "      <th>0</th>\n",
              "      <td>[Block H,  Bashundhara R-A]</td>\n",
              "      <td>1,600 sqft</td>\n",
              "      <td>3</td>\n",
              "      <td>3</td>\n",
              "      <td>20 Thousand</td>\n",
              "    </tr>\n",
              "    <tr>\n",
              "      <th>1</th>\n",
              "      <td>[Farmgate,  Tejgaon]</td>\n",
              "      <td>900 sqft</td>\n",
              "      <td>2</td>\n",
              "      <td>2</td>\n",
              "      <td>20 Thousand</td>\n",
              "    </tr>\n",
              "    <tr>\n",
              "      <th>2</th>\n",
              "      <td>[Block B,  Nobodoy Housing Society,  Mohammadpur]</td>\n",
              "      <td>1,250 sqft</td>\n",
              "      <td>3</td>\n",
              "      <td>3</td>\n",
              "      <td>18 Thousand</td>\n",
              "    </tr>\n",
              "    <tr>\n",
              "      <th>3</th>\n",
              "      <td>[Gulshan 1,  Gulshan]</td>\n",
              "      <td>2,200 sqft</td>\n",
              "      <td>3</td>\n",
              "      <td>4</td>\n",
              "      <td>75 Thousand</td>\n",
              "    </tr>\n",
              "    <tr>\n",
              "      <th>4</th>\n",
              "      <td>[Baridhara]</td>\n",
              "      <td>2,200 sqft</td>\n",
              "      <td>3</td>\n",
              "      <td>3</td>\n",
              "      <td>75 Thousand</td>\n",
              "    </tr>\n",
              "  </tbody>\n",
              "</table>\n",
              "</div>\n",
              "      <button class=\"colab-df-convert\" onclick=\"convertToInteractive('df-305ae24b-b399-4bed-aaab-245b520e2539')\"\n",
              "              title=\"Convert this dataframe to an interactive table.\"\n",
              "              style=\"display:none;\">\n",
              "        \n",
              "  <svg xmlns=\"http://www.w3.org/2000/svg\" height=\"24px\"viewBox=\"0 0 24 24\"\n",
              "       width=\"24px\">\n",
              "    <path d=\"M0 0h24v24H0V0z\" fill=\"none\"/>\n",
              "    <path d=\"M18.56 5.44l.94 2.06.94-2.06 2.06-.94-2.06-.94-.94-2.06-.94 2.06-2.06.94zm-11 1L8.5 8.5l.94-2.06 2.06-.94-2.06-.94L8.5 2.5l-.94 2.06-2.06.94zm10 10l.94 2.06.94-2.06 2.06-.94-2.06-.94-.94-2.06-.94 2.06-2.06.94z\"/><path d=\"M17.41 7.96l-1.37-1.37c-.4-.4-.92-.59-1.43-.59-.52 0-1.04.2-1.43.59L10.3 9.45l-7.72 7.72c-.78.78-.78 2.05 0 2.83L4 21.41c.39.39.9.59 1.41.59.51 0 1.02-.2 1.41-.59l7.78-7.78 2.81-2.81c.8-.78.8-2.07 0-2.86zM5.41 20L4 18.59l7.72-7.72 1.47 1.35L5.41 20z\"/>\n",
              "  </svg>\n",
              "      </button>\n",
              "      \n",
              "  <style>\n",
              "    .colab-df-container {\n",
              "      display:flex;\n",
              "      flex-wrap:wrap;\n",
              "      gap: 12px;\n",
              "    }\n",
              "\n",
              "    .colab-df-convert {\n",
              "      background-color: #E8F0FE;\n",
              "      border: none;\n",
              "      border-radius: 50%;\n",
              "      cursor: pointer;\n",
              "      display: none;\n",
              "      fill: #1967D2;\n",
              "      height: 32px;\n",
              "      padding: 0 0 0 0;\n",
              "      width: 32px;\n",
              "    }\n",
              "\n",
              "    .colab-df-convert:hover {\n",
              "      background-color: #E2EBFA;\n",
              "      box-shadow: 0px 1px 2px rgba(60, 64, 67, 0.3), 0px 1px 3px 1px rgba(60, 64, 67, 0.15);\n",
              "      fill: #174EA6;\n",
              "    }\n",
              "\n",
              "    [theme=dark] .colab-df-convert {\n",
              "      background-color: #3B4455;\n",
              "      fill: #D2E3FC;\n",
              "    }\n",
              "\n",
              "    [theme=dark] .colab-df-convert:hover {\n",
              "      background-color: #434B5C;\n",
              "      box-shadow: 0px 1px 3px 1px rgba(0, 0, 0, 0.15);\n",
              "      filter: drop-shadow(0px 1px 2px rgba(0, 0, 0, 0.3));\n",
              "      fill: #FFFFFF;\n",
              "    }\n",
              "  </style>\n",
              "\n",
              "      <script>\n",
              "        const buttonEl =\n",
              "          document.querySelector('#df-305ae24b-b399-4bed-aaab-245b520e2539 button.colab-df-convert');\n",
              "        buttonEl.style.display =\n",
              "          google.colab.kernel.accessAllowed ? 'block' : 'none';\n",
              "\n",
              "        async function convertToInteractive(key) {\n",
              "          const element = document.querySelector('#df-305ae24b-b399-4bed-aaab-245b520e2539');\n",
              "          const dataTable =\n",
              "            await google.colab.kernel.invokeFunction('convertToInteractive',\n",
              "                                                     [key], {});\n",
              "          if (!dataTable) return;\n",
              "\n",
              "          const docLinkHtml = 'Like what you see? Visit the ' +\n",
              "            '<a target=\"_blank\" href=https://colab.research.google.com/notebooks/data_table.ipynb>data table notebook</a>'\n",
              "            + ' to learn more about interactive tables.';\n",
              "          element.innerHTML = '';\n",
              "          dataTable['output_type'] = 'display_data';\n",
              "          await google.colab.output.renderOutput(dataTable, element);\n",
              "          const docLink = document.createElement('div');\n",
              "          docLink.innerHTML = docLinkHtml;\n",
              "          element.appendChild(docLink);\n",
              "        }\n",
              "      </script>\n",
              "    </div>\n",
              "  </div>\n",
              "  "
            ]
          },
          "metadata": {},
          "execution_count": 13
        }
      ]
    },
    {
      "cell_type": "code",
      "source": [
        "#Keeping only the thana/PO/area name in the Location column\n",
        "df['Location'] = df['Location'].str[-1]"
      ],
      "metadata": {
        "id": "p_UuKaU82__S"
      },
      "id": "p_UuKaU82__S",
      "execution_count": 14,
      "outputs": []
    },
    {
      "cell_type": "code",
      "source": [
        "#Removing the leading space from the Location strings\n",
        "df['Location'] = df['Location'].str.strip()"
      ],
      "metadata": {
        "id": "X3xs9vpUG3Ky"
      },
      "id": "X3xs9vpUG3Ky",
      "execution_count": 15,
      "outputs": []
    },
    {
      "cell_type": "code",
      "source": [
        "df.head()"
      ],
      "metadata": {
        "colab": {
          "base_uri": "https://localhost:8080/",
          "height": 206
        },
        "id": "BWcU0gsd_dkq",
        "outputId": "7fecc57d-3d41-4325-b0c7-cab2d91a6091"
      },
      "id": "BWcU0gsd_dkq",
      "execution_count": 16,
      "outputs": [
        {
          "output_type": "execute_result",
          "data": {
            "text/plain": [
              "          Location        Area  Bed  Bath         Rent\n",
              "0  Bashundhara R-A  1,600 sqft    3     3  20 Thousand\n",
              "1          Tejgaon    900 sqft    2     2  20 Thousand\n",
              "2      Mohammadpur  1,250 sqft    3     3  18 Thousand\n",
              "3          Gulshan  2,200 sqft    3     4  75 Thousand\n",
              "4        Baridhara  2,200 sqft    3     3  75 Thousand"
            ],
            "text/html": [
              "\n",
              "  <div id=\"df-320aa00c-90ab-45d9-a835-6d208df67111\">\n",
              "    <div class=\"colab-df-container\">\n",
              "      <div>\n",
              "<style scoped>\n",
              "    .dataframe tbody tr th:only-of-type {\n",
              "        vertical-align: middle;\n",
              "    }\n",
              "\n",
              "    .dataframe tbody tr th {\n",
              "        vertical-align: top;\n",
              "    }\n",
              "\n",
              "    .dataframe thead th {\n",
              "        text-align: right;\n",
              "    }\n",
              "</style>\n",
              "<table border=\"1\" class=\"dataframe\">\n",
              "  <thead>\n",
              "    <tr style=\"text-align: right;\">\n",
              "      <th></th>\n",
              "      <th>Location</th>\n",
              "      <th>Area</th>\n",
              "      <th>Bed</th>\n",
              "      <th>Bath</th>\n",
              "      <th>Rent</th>\n",
              "    </tr>\n",
              "  </thead>\n",
              "  <tbody>\n",
              "    <tr>\n",
              "      <th>0</th>\n",
              "      <td>Bashundhara R-A</td>\n",
              "      <td>1,600 sqft</td>\n",
              "      <td>3</td>\n",
              "      <td>3</td>\n",
              "      <td>20 Thousand</td>\n",
              "    </tr>\n",
              "    <tr>\n",
              "      <th>1</th>\n",
              "      <td>Tejgaon</td>\n",
              "      <td>900 sqft</td>\n",
              "      <td>2</td>\n",
              "      <td>2</td>\n",
              "      <td>20 Thousand</td>\n",
              "    </tr>\n",
              "    <tr>\n",
              "      <th>2</th>\n",
              "      <td>Mohammadpur</td>\n",
              "      <td>1,250 sqft</td>\n",
              "      <td>3</td>\n",
              "      <td>3</td>\n",
              "      <td>18 Thousand</td>\n",
              "    </tr>\n",
              "    <tr>\n",
              "      <th>3</th>\n",
              "      <td>Gulshan</td>\n",
              "      <td>2,200 sqft</td>\n",
              "      <td>3</td>\n",
              "      <td>4</td>\n",
              "      <td>75 Thousand</td>\n",
              "    </tr>\n",
              "    <tr>\n",
              "      <th>4</th>\n",
              "      <td>Baridhara</td>\n",
              "      <td>2,200 sqft</td>\n",
              "      <td>3</td>\n",
              "      <td>3</td>\n",
              "      <td>75 Thousand</td>\n",
              "    </tr>\n",
              "  </tbody>\n",
              "</table>\n",
              "</div>\n",
              "      <button class=\"colab-df-convert\" onclick=\"convertToInteractive('df-320aa00c-90ab-45d9-a835-6d208df67111')\"\n",
              "              title=\"Convert this dataframe to an interactive table.\"\n",
              "              style=\"display:none;\">\n",
              "        \n",
              "  <svg xmlns=\"http://www.w3.org/2000/svg\" height=\"24px\"viewBox=\"0 0 24 24\"\n",
              "       width=\"24px\">\n",
              "    <path d=\"M0 0h24v24H0V0z\" fill=\"none\"/>\n",
              "    <path d=\"M18.56 5.44l.94 2.06.94-2.06 2.06-.94-2.06-.94-.94-2.06-.94 2.06-2.06.94zm-11 1L8.5 8.5l.94-2.06 2.06-.94-2.06-.94L8.5 2.5l-.94 2.06-2.06.94zm10 10l.94 2.06.94-2.06 2.06-.94-2.06-.94-.94-2.06-.94 2.06-2.06.94z\"/><path d=\"M17.41 7.96l-1.37-1.37c-.4-.4-.92-.59-1.43-.59-.52 0-1.04.2-1.43.59L10.3 9.45l-7.72 7.72c-.78.78-.78 2.05 0 2.83L4 21.41c.39.39.9.59 1.41.59.51 0 1.02-.2 1.41-.59l7.78-7.78 2.81-2.81c.8-.78.8-2.07 0-2.86zM5.41 20L4 18.59l7.72-7.72 1.47 1.35L5.41 20z\"/>\n",
              "  </svg>\n",
              "      </button>\n",
              "      \n",
              "  <style>\n",
              "    .colab-df-container {\n",
              "      display:flex;\n",
              "      flex-wrap:wrap;\n",
              "      gap: 12px;\n",
              "    }\n",
              "\n",
              "    .colab-df-convert {\n",
              "      background-color: #E8F0FE;\n",
              "      border: none;\n",
              "      border-radius: 50%;\n",
              "      cursor: pointer;\n",
              "      display: none;\n",
              "      fill: #1967D2;\n",
              "      height: 32px;\n",
              "      padding: 0 0 0 0;\n",
              "      width: 32px;\n",
              "    }\n",
              "\n",
              "    .colab-df-convert:hover {\n",
              "      background-color: #E2EBFA;\n",
              "      box-shadow: 0px 1px 2px rgba(60, 64, 67, 0.3), 0px 1px 3px 1px rgba(60, 64, 67, 0.15);\n",
              "      fill: #174EA6;\n",
              "    }\n",
              "\n",
              "    [theme=dark] .colab-df-convert {\n",
              "      background-color: #3B4455;\n",
              "      fill: #D2E3FC;\n",
              "    }\n",
              "\n",
              "    [theme=dark] .colab-df-convert:hover {\n",
              "      background-color: #434B5C;\n",
              "      box-shadow: 0px 1px 3px 1px rgba(0, 0, 0, 0.15);\n",
              "      filter: drop-shadow(0px 1px 2px rgba(0, 0, 0, 0.3));\n",
              "      fill: #FFFFFF;\n",
              "    }\n",
              "  </style>\n",
              "\n",
              "      <script>\n",
              "        const buttonEl =\n",
              "          document.querySelector('#df-320aa00c-90ab-45d9-a835-6d208df67111 button.colab-df-convert');\n",
              "        buttonEl.style.display =\n",
              "          google.colab.kernel.accessAllowed ? 'block' : 'none';\n",
              "\n",
              "        async function convertToInteractive(key) {\n",
              "          const element = document.querySelector('#df-320aa00c-90ab-45d9-a835-6d208df67111');\n",
              "          const dataTable =\n",
              "            await google.colab.kernel.invokeFunction('convertToInteractive',\n",
              "                                                     [key], {});\n",
              "          if (!dataTable) return;\n",
              "\n",
              "          const docLinkHtml = 'Like what you see? Visit the ' +\n",
              "            '<a target=\"_blank\" href=https://colab.research.google.com/notebooks/data_table.ipynb>data table notebook</a>'\n",
              "            + ' to learn more about interactive tables.';\n",
              "          element.innerHTML = '';\n",
              "          dataTable['output_type'] = 'display_data';\n",
              "          await google.colab.output.renderOutput(dataTable, element);\n",
              "          const docLink = document.createElement('div');\n",
              "          docLink.innerHTML = docLinkHtml;\n",
              "          element.appendChild(docLink);\n",
              "        }\n",
              "      </script>\n",
              "    </div>\n",
              "  </div>\n",
              "  "
            ]
          },
          "metadata": {},
          "execution_count": 16
        }
      ]
    },
    {
      "cell_type": "code",
      "execution_count": 17,
      "id": "d3ff7107",
      "metadata": {
        "id": "d3ff7107"
      },
      "outputs": [],
      "source": [
        "#Removing sqft from the Area column and formating the digits\n",
        "df['Area']=df['Area'].str.split(' ').str[:-1]"
      ]
    },
    {
      "cell_type": "code",
      "execution_count": 18,
      "id": "31a78ec4",
      "metadata": {
        "id": "31a78ec4"
      },
      "outputs": [],
      "source": [
        "#Truning data in the location column into string from list type\n",
        "df['Area'] = df['Area'].apply(lambda x: ''.join(map(str, x)))"
      ]
    },
    {
      "cell_type": "code",
      "execution_count": 19,
      "id": "14fe5927",
      "metadata": {
        "id": "14fe5927"
      },
      "outputs": [],
      "source": [
        "#Removing comma from the digits\n",
        "df['Area']=df['Area'].str.replace(',', '')"
      ]
    },
    {
      "cell_type": "code",
      "execution_count": 20,
      "id": "00a7b401",
      "metadata": {
        "id": "00a7b401"
      },
      "outputs": [],
      "source": [
        "#Changing datatype of the Area column to int64 from object\n",
        "df['Area'] = df['Area'].astype(int)"
      ]
    },
    {
      "cell_type": "code",
      "execution_count": 21,
      "id": "e7588da3",
      "metadata": {
        "id": "e7588da3",
        "outputId": "772d77c5-eaa5-4a9f-d97a-f2f39d788717",
        "colab": {
          "base_uri": "https://localhost:8080/"
        }
      },
      "outputs": [
        {
          "output_type": "execute_result",
          "data": {
            "text/plain": [
              "dtype('int64')"
            ]
          },
          "metadata": {},
          "execution_count": 21
        }
      ],
      "source": [
        "df['Area'].dtypes"
      ]
    },
    {
      "cell_type": "code",
      "execution_count": 22,
      "id": "c4e06d2b",
      "metadata": {
        "scrolled": true,
        "id": "c4e06d2b",
        "outputId": "1e17a612-630d-4721-c225-45fc11ef35db",
        "colab": {
          "base_uri": "https://localhost:8080/",
          "height": 143
        }
      },
      "outputs": [
        {
          "output_type": "execute_result",
          "data": {
            "text/plain": [
              "          Location  Area  Bed  Bath         Rent\n",
              "0  Bashundhara R-A  1600    3     3  20 Thousand\n",
              "1          Tejgaon   900    2     2  20 Thousand\n",
              "2      Mohammadpur  1250    3     3  18 Thousand"
            ],
            "text/html": [
              "\n",
              "  <div id=\"df-b044d20d-38ac-4ded-87e0-ebe1ecc02ed6\">\n",
              "    <div class=\"colab-df-container\">\n",
              "      <div>\n",
              "<style scoped>\n",
              "    .dataframe tbody tr th:only-of-type {\n",
              "        vertical-align: middle;\n",
              "    }\n",
              "\n",
              "    .dataframe tbody tr th {\n",
              "        vertical-align: top;\n",
              "    }\n",
              "\n",
              "    .dataframe thead th {\n",
              "        text-align: right;\n",
              "    }\n",
              "</style>\n",
              "<table border=\"1\" class=\"dataframe\">\n",
              "  <thead>\n",
              "    <tr style=\"text-align: right;\">\n",
              "      <th></th>\n",
              "      <th>Location</th>\n",
              "      <th>Area</th>\n",
              "      <th>Bed</th>\n",
              "      <th>Bath</th>\n",
              "      <th>Rent</th>\n",
              "    </tr>\n",
              "  </thead>\n",
              "  <tbody>\n",
              "    <tr>\n",
              "      <th>0</th>\n",
              "      <td>Bashundhara R-A</td>\n",
              "      <td>1600</td>\n",
              "      <td>3</td>\n",
              "      <td>3</td>\n",
              "      <td>20 Thousand</td>\n",
              "    </tr>\n",
              "    <tr>\n",
              "      <th>1</th>\n",
              "      <td>Tejgaon</td>\n",
              "      <td>900</td>\n",
              "      <td>2</td>\n",
              "      <td>2</td>\n",
              "      <td>20 Thousand</td>\n",
              "    </tr>\n",
              "    <tr>\n",
              "      <th>2</th>\n",
              "      <td>Mohammadpur</td>\n",
              "      <td>1250</td>\n",
              "      <td>3</td>\n",
              "      <td>3</td>\n",
              "      <td>18 Thousand</td>\n",
              "    </tr>\n",
              "  </tbody>\n",
              "</table>\n",
              "</div>\n",
              "      <button class=\"colab-df-convert\" onclick=\"convertToInteractive('df-b044d20d-38ac-4ded-87e0-ebe1ecc02ed6')\"\n",
              "              title=\"Convert this dataframe to an interactive table.\"\n",
              "              style=\"display:none;\">\n",
              "        \n",
              "  <svg xmlns=\"http://www.w3.org/2000/svg\" height=\"24px\"viewBox=\"0 0 24 24\"\n",
              "       width=\"24px\">\n",
              "    <path d=\"M0 0h24v24H0V0z\" fill=\"none\"/>\n",
              "    <path d=\"M18.56 5.44l.94 2.06.94-2.06 2.06-.94-2.06-.94-.94-2.06-.94 2.06-2.06.94zm-11 1L8.5 8.5l.94-2.06 2.06-.94-2.06-.94L8.5 2.5l-.94 2.06-2.06.94zm10 10l.94 2.06.94-2.06 2.06-.94-2.06-.94-.94-2.06-.94 2.06-2.06.94z\"/><path d=\"M17.41 7.96l-1.37-1.37c-.4-.4-.92-.59-1.43-.59-.52 0-1.04.2-1.43.59L10.3 9.45l-7.72 7.72c-.78.78-.78 2.05 0 2.83L4 21.41c.39.39.9.59 1.41.59.51 0 1.02-.2 1.41-.59l7.78-7.78 2.81-2.81c.8-.78.8-2.07 0-2.86zM5.41 20L4 18.59l7.72-7.72 1.47 1.35L5.41 20z\"/>\n",
              "  </svg>\n",
              "      </button>\n",
              "      \n",
              "  <style>\n",
              "    .colab-df-container {\n",
              "      display:flex;\n",
              "      flex-wrap:wrap;\n",
              "      gap: 12px;\n",
              "    }\n",
              "\n",
              "    .colab-df-convert {\n",
              "      background-color: #E8F0FE;\n",
              "      border: none;\n",
              "      border-radius: 50%;\n",
              "      cursor: pointer;\n",
              "      display: none;\n",
              "      fill: #1967D2;\n",
              "      height: 32px;\n",
              "      padding: 0 0 0 0;\n",
              "      width: 32px;\n",
              "    }\n",
              "\n",
              "    .colab-df-convert:hover {\n",
              "      background-color: #E2EBFA;\n",
              "      box-shadow: 0px 1px 2px rgba(60, 64, 67, 0.3), 0px 1px 3px 1px rgba(60, 64, 67, 0.15);\n",
              "      fill: #174EA6;\n",
              "    }\n",
              "\n",
              "    [theme=dark] .colab-df-convert {\n",
              "      background-color: #3B4455;\n",
              "      fill: #D2E3FC;\n",
              "    }\n",
              "\n",
              "    [theme=dark] .colab-df-convert:hover {\n",
              "      background-color: #434B5C;\n",
              "      box-shadow: 0px 1px 3px 1px rgba(0, 0, 0, 0.15);\n",
              "      filter: drop-shadow(0px 1px 2px rgba(0, 0, 0, 0.3));\n",
              "      fill: #FFFFFF;\n",
              "    }\n",
              "  </style>\n",
              "\n",
              "      <script>\n",
              "        const buttonEl =\n",
              "          document.querySelector('#df-b044d20d-38ac-4ded-87e0-ebe1ecc02ed6 button.colab-df-convert');\n",
              "        buttonEl.style.display =\n",
              "          google.colab.kernel.accessAllowed ? 'block' : 'none';\n",
              "\n",
              "        async function convertToInteractive(key) {\n",
              "          const element = document.querySelector('#df-b044d20d-38ac-4ded-87e0-ebe1ecc02ed6');\n",
              "          const dataTable =\n",
              "            await google.colab.kernel.invokeFunction('convertToInteractive',\n",
              "                                                     [key], {});\n",
              "          if (!dataTable) return;\n",
              "\n",
              "          const docLinkHtml = 'Like what you see? Visit the ' +\n",
              "            '<a target=\"_blank\" href=https://colab.research.google.com/notebooks/data_table.ipynb>data table notebook</a>'\n",
              "            + ' to learn more about interactive tables.';\n",
              "          element.innerHTML = '';\n",
              "          dataTable['output_type'] = 'display_data';\n",
              "          await google.colab.output.renderOutput(dataTable, element);\n",
              "          const docLink = document.createElement('div');\n",
              "          docLink.innerHTML = docLinkHtml;\n",
              "          element.appendChild(docLink);\n",
              "        }\n",
              "      </script>\n",
              "    </div>\n",
              "  </div>\n",
              "  "
            ]
          },
          "metadata": {},
          "execution_count": 22
        }
      ],
      "source": [
        "df.head(3)"
      ]
    },
    {
      "cell_type": "code",
      "execution_count": 23,
      "id": "da5e4ac6",
      "metadata": {
        "id": "da5e4ac6"
      },
      "outputs": [],
      "source": [
        "#Formatting the Rent column as required and changing the datatype to int64\n",
        "df['Rent']=df['Rent'].replace({\"Thousand\":\"*1e3\", \"Lakh\":\"*1e5\"}, regex=True).map(pd.eval).astype(int)"
      ]
    },
    {
      "cell_type": "code",
      "execution_count": 24,
      "id": "ea6dc1d5",
      "metadata": {
        "scrolled": true,
        "id": "ea6dc1d5",
        "outputId": "ebe2db72-5585-4889-d591-41fb2e7490db",
        "colab": {
          "base_uri": "https://localhost:8080/",
          "height": 143
        }
      },
      "outputs": [
        {
          "output_type": "execute_result",
          "data": {
            "text/plain": [
              "          Location  Area  Bed  Bath   Rent\n",
              "0  Bashundhara R-A  1600    3     3  20000\n",
              "1          Tejgaon   900    2     2  20000\n",
              "2      Mohammadpur  1250    3     3  18000"
            ],
            "text/html": [
              "\n",
              "  <div id=\"df-4fe65438-a3de-4e03-9bf0-6717ca7776f0\">\n",
              "    <div class=\"colab-df-container\">\n",
              "      <div>\n",
              "<style scoped>\n",
              "    .dataframe tbody tr th:only-of-type {\n",
              "        vertical-align: middle;\n",
              "    }\n",
              "\n",
              "    .dataframe tbody tr th {\n",
              "        vertical-align: top;\n",
              "    }\n",
              "\n",
              "    .dataframe thead th {\n",
              "        text-align: right;\n",
              "    }\n",
              "</style>\n",
              "<table border=\"1\" class=\"dataframe\">\n",
              "  <thead>\n",
              "    <tr style=\"text-align: right;\">\n",
              "      <th></th>\n",
              "      <th>Location</th>\n",
              "      <th>Area</th>\n",
              "      <th>Bed</th>\n",
              "      <th>Bath</th>\n",
              "      <th>Rent</th>\n",
              "    </tr>\n",
              "  </thead>\n",
              "  <tbody>\n",
              "    <tr>\n",
              "      <th>0</th>\n",
              "      <td>Bashundhara R-A</td>\n",
              "      <td>1600</td>\n",
              "      <td>3</td>\n",
              "      <td>3</td>\n",
              "      <td>20000</td>\n",
              "    </tr>\n",
              "    <tr>\n",
              "      <th>1</th>\n",
              "      <td>Tejgaon</td>\n",
              "      <td>900</td>\n",
              "      <td>2</td>\n",
              "      <td>2</td>\n",
              "      <td>20000</td>\n",
              "    </tr>\n",
              "    <tr>\n",
              "      <th>2</th>\n",
              "      <td>Mohammadpur</td>\n",
              "      <td>1250</td>\n",
              "      <td>3</td>\n",
              "      <td>3</td>\n",
              "      <td>18000</td>\n",
              "    </tr>\n",
              "  </tbody>\n",
              "</table>\n",
              "</div>\n",
              "      <button class=\"colab-df-convert\" onclick=\"convertToInteractive('df-4fe65438-a3de-4e03-9bf0-6717ca7776f0')\"\n",
              "              title=\"Convert this dataframe to an interactive table.\"\n",
              "              style=\"display:none;\">\n",
              "        \n",
              "  <svg xmlns=\"http://www.w3.org/2000/svg\" height=\"24px\"viewBox=\"0 0 24 24\"\n",
              "       width=\"24px\">\n",
              "    <path d=\"M0 0h24v24H0V0z\" fill=\"none\"/>\n",
              "    <path d=\"M18.56 5.44l.94 2.06.94-2.06 2.06-.94-2.06-.94-.94-2.06-.94 2.06-2.06.94zm-11 1L8.5 8.5l.94-2.06 2.06-.94-2.06-.94L8.5 2.5l-.94 2.06-2.06.94zm10 10l.94 2.06.94-2.06 2.06-.94-2.06-.94-.94-2.06-.94 2.06-2.06.94z\"/><path d=\"M17.41 7.96l-1.37-1.37c-.4-.4-.92-.59-1.43-.59-.52 0-1.04.2-1.43.59L10.3 9.45l-7.72 7.72c-.78.78-.78 2.05 0 2.83L4 21.41c.39.39.9.59 1.41.59.51 0 1.02-.2 1.41-.59l7.78-7.78 2.81-2.81c.8-.78.8-2.07 0-2.86zM5.41 20L4 18.59l7.72-7.72 1.47 1.35L5.41 20z\"/>\n",
              "  </svg>\n",
              "      </button>\n",
              "      \n",
              "  <style>\n",
              "    .colab-df-container {\n",
              "      display:flex;\n",
              "      flex-wrap:wrap;\n",
              "      gap: 12px;\n",
              "    }\n",
              "\n",
              "    .colab-df-convert {\n",
              "      background-color: #E8F0FE;\n",
              "      border: none;\n",
              "      border-radius: 50%;\n",
              "      cursor: pointer;\n",
              "      display: none;\n",
              "      fill: #1967D2;\n",
              "      height: 32px;\n",
              "      padding: 0 0 0 0;\n",
              "      width: 32px;\n",
              "    }\n",
              "\n",
              "    .colab-df-convert:hover {\n",
              "      background-color: #E2EBFA;\n",
              "      box-shadow: 0px 1px 2px rgba(60, 64, 67, 0.3), 0px 1px 3px 1px rgba(60, 64, 67, 0.15);\n",
              "      fill: #174EA6;\n",
              "    }\n",
              "\n",
              "    [theme=dark] .colab-df-convert {\n",
              "      background-color: #3B4455;\n",
              "      fill: #D2E3FC;\n",
              "    }\n",
              "\n",
              "    [theme=dark] .colab-df-convert:hover {\n",
              "      background-color: #434B5C;\n",
              "      box-shadow: 0px 1px 3px 1px rgba(0, 0, 0, 0.15);\n",
              "      filter: drop-shadow(0px 1px 2px rgba(0, 0, 0, 0.3));\n",
              "      fill: #FFFFFF;\n",
              "    }\n",
              "  </style>\n",
              "\n",
              "      <script>\n",
              "        const buttonEl =\n",
              "          document.querySelector('#df-4fe65438-a3de-4e03-9bf0-6717ca7776f0 button.colab-df-convert');\n",
              "        buttonEl.style.display =\n",
              "          google.colab.kernel.accessAllowed ? 'block' : 'none';\n",
              "\n",
              "        async function convertToInteractive(key) {\n",
              "          const element = document.querySelector('#df-4fe65438-a3de-4e03-9bf0-6717ca7776f0');\n",
              "          const dataTable =\n",
              "            await google.colab.kernel.invokeFunction('convertToInteractive',\n",
              "                                                     [key], {});\n",
              "          if (!dataTable) return;\n",
              "\n",
              "          const docLinkHtml = 'Like what you see? Visit the ' +\n",
              "            '<a target=\"_blank\" href=https://colab.research.google.com/notebooks/data_table.ipynb>data table notebook</a>'\n",
              "            + ' to learn more about interactive tables.';\n",
              "          element.innerHTML = '';\n",
              "          dataTable['output_type'] = 'display_data';\n",
              "          await google.colab.output.renderOutput(dataTable, element);\n",
              "          const docLink = document.createElement('div');\n",
              "          docLink.innerHTML = docLinkHtml;\n",
              "          element.appendChild(docLink);\n",
              "        }\n",
              "      </script>\n",
              "    </div>\n",
              "  </div>\n",
              "  "
            ]
          },
          "metadata": {},
          "execution_count": 24
        }
      ],
      "source": [
        "df.head(3)"
      ]
    },
    {
      "cell_type": "markdown",
      "id": "26c89e11",
      "metadata": {
        "id": "26c89e11"
      },
      "source": [
        "### **Exploratory Data Analysis (EDA)**\n",
        "In this step, we are going to perform the following steps:\n",
        "\n",
        "* Summarize quantitative data by describe()\n",
        "* Summarize categorical data by value_counts()\n",
        "* Visualize numeric data with box plot\n",
        "* Visualize relationship between a feature and the target using scatter plot\n",
        "* Use correlation to show relationship between two variables\n",
        "* Show correlation using Pearson Correlation\n",
        "* Visualize correlation with a heatmap\n",
        "* Use Chi-square to show the association/relationship between two categorical variables. It tests how likely it is that an observed distribution is due to chance\n"
      ]
    },
    {
      "cell_type": "code",
      "execution_count": 25,
      "id": "b0eaef27",
      "metadata": {
        "id": "b0eaef27",
        "outputId": "58ad81fa-cce0-4566-c27f-3b29fca88d31",
        "colab": {
          "base_uri": "https://localhost:8080/",
          "height": 300
        }
      },
      "outputs": [
        {
          "output_type": "execute_result",
          "data": {
            "text/plain": [
              "               Area           Bed          Bath           Rent\n",
              "count  28800.000000  28800.000000  28800.000000   28800.000000\n",
              "mean    1057.332049      2.511076      2.369653   21008.717153\n",
              "std      477.821030      0.601353      0.756758   21495.755843\n",
              "min      200.000000      1.000000      1.000000    5000.000000\n",
              "25%      700.000000      2.000000      2.000000   13000.000000\n",
              "50%      900.000000      2.000000      2.000000   16000.000000\n",
              "75%     1250.000000      3.000000      3.000000   22000.000000\n",
              "max     6300.000000      6.000000      8.000000  650000.000000"
            ],
            "text/html": [
              "\n",
              "  <div id=\"df-1253f781-73aa-4b09-a593-e79a0953ba45\">\n",
              "    <div class=\"colab-df-container\">\n",
              "      <div>\n",
              "<style scoped>\n",
              "    .dataframe tbody tr th:only-of-type {\n",
              "        vertical-align: middle;\n",
              "    }\n",
              "\n",
              "    .dataframe tbody tr th {\n",
              "        vertical-align: top;\n",
              "    }\n",
              "\n",
              "    .dataframe thead th {\n",
              "        text-align: right;\n",
              "    }\n",
              "</style>\n",
              "<table border=\"1\" class=\"dataframe\">\n",
              "  <thead>\n",
              "    <tr style=\"text-align: right;\">\n",
              "      <th></th>\n",
              "      <th>Area</th>\n",
              "      <th>Bed</th>\n",
              "      <th>Bath</th>\n",
              "      <th>Rent</th>\n",
              "    </tr>\n",
              "  </thead>\n",
              "  <tbody>\n",
              "    <tr>\n",
              "      <th>count</th>\n",
              "      <td>28800.000000</td>\n",
              "      <td>28800.000000</td>\n",
              "      <td>28800.000000</td>\n",
              "      <td>28800.000000</td>\n",
              "    </tr>\n",
              "    <tr>\n",
              "      <th>mean</th>\n",
              "      <td>1057.332049</td>\n",
              "      <td>2.511076</td>\n",
              "      <td>2.369653</td>\n",
              "      <td>21008.717153</td>\n",
              "    </tr>\n",
              "    <tr>\n",
              "      <th>std</th>\n",
              "      <td>477.821030</td>\n",
              "      <td>0.601353</td>\n",
              "      <td>0.756758</td>\n",
              "      <td>21495.755843</td>\n",
              "    </tr>\n",
              "    <tr>\n",
              "      <th>min</th>\n",
              "      <td>200.000000</td>\n",
              "      <td>1.000000</td>\n",
              "      <td>1.000000</td>\n",
              "      <td>5000.000000</td>\n",
              "    </tr>\n",
              "    <tr>\n",
              "      <th>25%</th>\n",
              "      <td>700.000000</td>\n",
              "      <td>2.000000</td>\n",
              "      <td>2.000000</td>\n",
              "      <td>13000.000000</td>\n",
              "    </tr>\n",
              "    <tr>\n",
              "      <th>50%</th>\n",
              "      <td>900.000000</td>\n",
              "      <td>2.000000</td>\n",
              "      <td>2.000000</td>\n",
              "      <td>16000.000000</td>\n",
              "    </tr>\n",
              "    <tr>\n",
              "      <th>75%</th>\n",
              "      <td>1250.000000</td>\n",
              "      <td>3.000000</td>\n",
              "      <td>3.000000</td>\n",
              "      <td>22000.000000</td>\n",
              "    </tr>\n",
              "    <tr>\n",
              "      <th>max</th>\n",
              "      <td>6300.000000</td>\n",
              "      <td>6.000000</td>\n",
              "      <td>8.000000</td>\n",
              "      <td>650000.000000</td>\n",
              "    </tr>\n",
              "  </tbody>\n",
              "</table>\n",
              "</div>\n",
              "      <button class=\"colab-df-convert\" onclick=\"convertToInteractive('df-1253f781-73aa-4b09-a593-e79a0953ba45')\"\n",
              "              title=\"Convert this dataframe to an interactive table.\"\n",
              "              style=\"display:none;\">\n",
              "        \n",
              "  <svg xmlns=\"http://www.w3.org/2000/svg\" height=\"24px\"viewBox=\"0 0 24 24\"\n",
              "       width=\"24px\">\n",
              "    <path d=\"M0 0h24v24H0V0z\" fill=\"none\"/>\n",
              "    <path d=\"M18.56 5.44l.94 2.06.94-2.06 2.06-.94-2.06-.94-.94-2.06-.94 2.06-2.06.94zm-11 1L8.5 8.5l.94-2.06 2.06-.94-2.06-.94L8.5 2.5l-.94 2.06-2.06.94zm10 10l.94 2.06.94-2.06 2.06-.94-2.06-.94-.94-2.06-.94 2.06-2.06.94z\"/><path d=\"M17.41 7.96l-1.37-1.37c-.4-.4-.92-.59-1.43-.59-.52 0-1.04.2-1.43.59L10.3 9.45l-7.72 7.72c-.78.78-.78 2.05 0 2.83L4 21.41c.39.39.9.59 1.41.59.51 0 1.02-.2 1.41-.59l7.78-7.78 2.81-2.81c.8-.78.8-2.07 0-2.86zM5.41 20L4 18.59l7.72-7.72 1.47 1.35L5.41 20z\"/>\n",
              "  </svg>\n",
              "      </button>\n",
              "      \n",
              "  <style>\n",
              "    .colab-df-container {\n",
              "      display:flex;\n",
              "      flex-wrap:wrap;\n",
              "      gap: 12px;\n",
              "    }\n",
              "\n",
              "    .colab-df-convert {\n",
              "      background-color: #E8F0FE;\n",
              "      border: none;\n",
              "      border-radius: 50%;\n",
              "      cursor: pointer;\n",
              "      display: none;\n",
              "      fill: #1967D2;\n",
              "      height: 32px;\n",
              "      padding: 0 0 0 0;\n",
              "      width: 32px;\n",
              "    }\n",
              "\n",
              "    .colab-df-convert:hover {\n",
              "      background-color: #E2EBFA;\n",
              "      box-shadow: 0px 1px 2px rgba(60, 64, 67, 0.3), 0px 1px 3px 1px rgba(60, 64, 67, 0.15);\n",
              "      fill: #174EA6;\n",
              "    }\n",
              "\n",
              "    [theme=dark] .colab-df-convert {\n",
              "      background-color: #3B4455;\n",
              "      fill: #D2E3FC;\n",
              "    }\n",
              "\n",
              "    [theme=dark] .colab-df-convert:hover {\n",
              "      background-color: #434B5C;\n",
              "      box-shadow: 0px 1px 3px 1px rgba(0, 0, 0, 0.15);\n",
              "      filter: drop-shadow(0px 1px 2px rgba(0, 0, 0, 0.3));\n",
              "      fill: #FFFFFF;\n",
              "    }\n",
              "  </style>\n",
              "\n",
              "      <script>\n",
              "        const buttonEl =\n",
              "          document.querySelector('#df-1253f781-73aa-4b09-a593-e79a0953ba45 button.colab-df-convert');\n",
              "        buttonEl.style.display =\n",
              "          google.colab.kernel.accessAllowed ? 'block' : 'none';\n",
              "\n",
              "        async function convertToInteractive(key) {\n",
              "          const element = document.querySelector('#df-1253f781-73aa-4b09-a593-e79a0953ba45');\n",
              "          const dataTable =\n",
              "            await google.colab.kernel.invokeFunction('convertToInteractive',\n",
              "                                                     [key], {});\n",
              "          if (!dataTable) return;\n",
              "\n",
              "          const docLinkHtml = 'Like what you see? Visit the ' +\n",
              "            '<a target=\"_blank\" href=https://colab.research.google.com/notebooks/data_table.ipynb>data table notebook</a>'\n",
              "            + ' to learn more about interactive tables.';\n",
              "          element.innerHTML = '';\n",
              "          dataTable['output_type'] = 'display_data';\n",
              "          await google.colab.output.renderOutput(dataTable, element);\n",
              "          const docLink = document.createElement('div');\n",
              "          docLink.innerHTML = docLinkHtml;\n",
              "          element.appendChild(docLink);\n",
              "        }\n",
              "      </script>\n",
              "    </div>\n",
              "  </div>\n",
              "  "
            ]
          },
          "metadata": {},
          "execution_count": 25
        }
      ],
      "source": [
        "#Summarizing quantitative data\n",
        "df.describe()"
      ]
    },
    {
      "cell_type": "code",
      "execution_count": 26,
      "id": "82387be8",
      "metadata": {
        "id": "82387be8",
        "outputId": "49de43dc-ec55-4f54-f046-9018af613275",
        "colab": {
          "base_uri": "https://localhost:8080/",
          "height": 265
        }
      },
      "outputs": [
        {
          "output_type": "display_data",
          "data": {
            "text/plain": [
              "<Figure size 432x288 with 1 Axes>"
            ],
            "image/png": "[encoded data removed]"
          },
          "metadata": {
            "needs_background": "light"
          }
        }
      ],
      "source": [
        "#Visualizing quantitative data with boxplot\n",
        "plt.boxplot(df[\"Area\"], vert=False, widths = 0.6)\n",
        "plt.show()"
      ]
    },
    {
      "cell_type": "code",
      "source": [
        "#Visualizing quantitative data with boxplot\n",
        "plt.boxplot(df[\"Bed\"], vert=False, widths = 0.6)\n",
        "plt.show()"
      ],
      "metadata": {
        "colab": {
          "base_uri": "https://localhost:8080/",
          "height": 265
        },
        "id": "vCToXl1j1r-3",
        "outputId": "799ec5c7-4c63-4220-bc6a-c6dab4a33f2d"
      },
      "id": "vCToXl1j1r-3",
      "execution_count": 27,
      "outputs": [
        {
          "output_type": "display_data",
          "data": {
            "text/plain": [
              "<Figure size 432x288 with 1 Axes>"
            ],
            "image/png": "[encoded data removed]"
          },
          "metadata": {
            "needs_background": "light"
          }
        }
      ]
    },
    {
      "cell_type": "code",
      "source": [
        "#Visualizing quantitative data with boxplot\n",
        "plt.boxplot(df[\"Bath\"], vert=False, widths = 0.6)\n",
        "plt.show()"
      ],
      "metadata": {
        "colab": {
          "base_uri": "https://localhost:8080/",
          "height": 265
        },
        "id": "W5Lyl11H1tpu",
        "outputId": "2b2b6310-4010-4bb7-d893-8b518738b736"
      },
      "id": "W5Lyl11H1tpu",
      "execution_count": 28,
      "outputs": [
        {
          "output_type": "display_data",
          "data": {
            "text/plain": [
              "<Figure size 432x288 with 1 Axes>"
            ],
            "image/png": "[encoded data removed]"
          },
          "metadata": {
            "needs_background": "light"
          }
        }
      ]
    },
    {
      "cell_type": "code",
      "source": [
        "#Visualizing quantitative data with boxplot\n",
        "plt.boxplot(df[\"Rent\"], vert=False, widths = 0.6)\n",
        "plt.show()"
      ],
      "metadata": {
        "colab": {
          "base_uri": "https://localhost:8080/",
          "height": 265
        },
        "id": "LK36XhhA1u42",
        "outputId": "835d2a87-3a5a-463b-b72a-56f53e7e7de0"
      },
      "id": "LK36XhhA1u42",
      "execution_count": 29,
      "outputs": [
        {
          "output_type": "display_data",
          "data": {
            "text/plain": [
              "<Figure size 432x288 with 1 Axes>"
            ],
            "image/png": "[encoded data removed]"
          },
          "metadata": {
            "needs_background": "light"
          }
        }
      ]
    },
    {
      "cell_type": "code",
      "execution_count": 30,
      "id": "99c6f342",
      "metadata": {
        "id": "99c6f342",
        "outputId": "4d0afe74-1d1f-4b73-8235-4b7643c44e66",
        "colab": {
          "base_uri": "https://localhost:8080/"
        }
      },
      "outputs": [
        {
          "output_type": "execute_result",
          "data": {
            "text/plain": [
              "Mirpur             8451\n",
              "Mohammadpur        3612\n",
              "Uttara             2070\n",
              "Badda              1831\n",
              "Bashundhara R-A    1397\n",
              "                   ... \n",
              "Shahbagh              7\n",
              "Demra                 7\n",
              "Keraniganj            3\n",
              "Sadarghat             2\n",
              "Banglamotors          2\n",
              "Name: Location, Length: 68, dtype: int64"
            ]
          },
          "metadata": {},
          "execution_count": 30
        }
      ],
      "source": [
        "#Summarizing categorical data [Location]\n",
        "df[\"Location\"].value_counts()"
      ]
    },
    {
      "cell_type": "code",
      "execution_count": 31,
      "id": "7b240c19",
      "metadata": {
        "id": "7b240c19",
        "outputId": "181f90b5-d394-4bc8-d866-77ec69e10a84",
        "colab": {
          "base_uri": "https://localhost:8080/"
        }
      },
      "outputs": [
        {
          "output_type": "execute_result",
          "data": {
            "text/plain": [
              "2    14277\n",
              "3    12972\n",
              "4     1064\n",
              "1      461\n",
              "5       24\n",
              "6        2\n",
              "Name: Bed, dtype: int64"
            ]
          },
          "metadata": {},
          "execution_count": 31
        }
      ],
      "source": [
        "#Summarizing categorical data [Bed]\n",
        "df[\"Bed\"].value_counts()"
      ]
    },
    {
      "cell_type": "code",
      "execution_count": 32,
      "id": "62323ffa",
      "metadata": {
        "id": "62323ffa",
        "outputId": "2875f253-0a46-4fc6-fda9-ba16781f7466",
        "colab": {
          "base_uri": "https://localhost:8080/"
        }
      },
      "outputs": [
        {
          "output_type": "execute_result",
          "data": {
            "text/plain": [
              "2    15768\n",
              "3     8468\n",
              "1     2369\n",
              "4     2048\n",
              "5      139\n",
              "6        7\n",
              "8        1\n",
              "Name: Bath, dtype: int64"
            ]
          },
          "metadata": {},
          "execution_count": 32
        }
      ],
      "source": [
        "#Summarizing categorical data [Bath]\n",
        "df[\"Bath\"].value_counts()"
      ]
    },
    {
      "cell_type": "code",
      "execution_count": 33,
      "id": "90d01db1",
      "metadata": {
        "scrolled": true,
        "id": "90d01db1",
        "outputId": "f6f3de94-be17-419a-8444-e390099e0236",
        "colab": {
          "base_uri": "https://localhost:8080/",
          "height": 265
        }
      },
      "outputs": [
        {
          "output_type": "display_data",
          "data": {
            "text/plain": [
              "<Figure size 432x288 with 1 Axes>"
            ],
            "image/png": "[encoded data removed]"
          },
          "metadata": {
            "needs_background": "light"
          }
        }
      ],
      "source": [
        "#Relationship between Area and Rent\n",
        "plt.scatter(df[\"Area\"], df[\"Rent\"])\n",
        "plt.show()"
      ]
    },
    {
      "cell_type": "code",
      "source": [
        "#Relationship between Bed and Rent\n",
        "plt.scatter(df[\"Bed\"], df[\"Rent\"])\n",
        "plt.show()"
      ],
      "metadata": {
        "colab": {
          "base_uri": "https://localhost:8080/",
          "height": 265
        },
        "id": "qRRmyYpW14Is",
        "outputId": "3c5d5eb6-34bd-4a2d-c5c5-cf804b495fed"
      },
      "id": "qRRmyYpW14Is",
      "execution_count": 34,
      "outputs": [
        {
          "output_type": "display_data",
          "data": {
            "text/plain": [
              "<Figure size 432x288 with 1 Axes>"
            ],
            "image/png": "[encoded data removed]"
          },
          "metadata": {
            "needs_background": "light"
          }
        }
      ]
    },
    {
      "cell_type": "code",
      "source": [
        "#Relationship between Bath and Rent\n",
        "plt.scatter(df[\"Bath\"], df[\"Rent\"])\n",
        "plt.show()"
      ],
      "metadata": {
        "colab": {
          "base_uri": "https://localhost:8080/",
          "height": 265
        },
        "id": "TwBkZHZa16KJ",
        "outputId": "95e66458-d327-4bbf-e317-03fa71f20f1f"
      },
      "id": "TwBkZHZa16KJ",
      "execution_count": 35,
      "outputs": [
        {
          "output_type": "display_data",
          "data": {
            "text/plain": [
              "<Figure size 432x288 with 1 Axes>"
            ],
            "image/png": "[encoded data removed]"
          },
          "metadata": {
            "needs_background": "light"
          }
        }
      ]
    },
    {
      "cell_type": "code",
      "execution_count": 36,
      "id": "e8c9475f",
      "metadata": {
        "id": "e8c9475f",
        "outputId": "e39febc3-56a7-4b99-820b-b26c5e5e9203",
        "colab": {
          "base_uri": "https://localhost:8080/",
          "height": 175
        }
      },
      "outputs": [
        {
          "output_type": "execute_result",
          "data": {
            "text/plain": [
              "          Area       Bed      Bath      Rent\n",
              "Area  1.000000  0.774598  0.808130  0.747625\n",
              "Bed   0.774598  1.000000  0.759135  0.426759\n",
              "Bath  0.808130  0.759135  1.000000  0.481448\n",
              "Rent  0.747625  0.426759  0.481448  1.000000"
            ],
            "text/html": [
              "\n",
              "  <div id=\"df-3b4f3ca5-12c5-4a74-9f53-faab808a9d41\">\n",
              "    <div class=\"colab-df-container\">\n",
              "      <div>\n",
              "<style scoped>\n",
              "    .dataframe tbody tr th:only-of-type {\n",
              "        vertical-align: middle;\n",
              "    }\n",
              "\n",
              "    .dataframe tbody tr th {\n",
              "        vertical-align: top;\n",
              "    }\n",
              "\n",
              "    .dataframe thead th {\n",
              "        text-align: right;\n",
              "    }\n",
              "</style>\n",
              "<table border=\"1\" class=\"dataframe\">\n",
              "  <thead>\n",
              "    <tr style=\"text-align: right;\">\n",
              "      <th></th>\n",
              "      <th>Area</th>\n",
              "      <th>Bed</th>\n",
              "      <th>Bath</th>\n",
              "      <th>Rent</th>\n",
              "    </tr>\n",
              "  </thead>\n",
              "  <tbody>\n",
              "    <tr>\n",
              "      <th>Area</th>\n",
              "      <td>1.000000</td>\n",
              "      <td>0.774598</td>\n",
              "      <td>0.808130</td>\n",
              "      <td>0.747625</td>\n",
              "    </tr>\n",
              "    <tr>\n",
              "      <th>Bed</th>\n",
              "      <td>0.774598</td>\n",
              "      <td>1.000000</td>\n",
              "      <td>0.759135</td>\n",
              "      <td>0.426759</td>\n",
              "    </tr>\n",
              "    <tr>\n",
              "      <th>Bath</th>\n",
              "      <td>0.808130</td>\n",
              "      <td>0.759135</td>\n",
              "      <td>1.000000</td>\n",
              "      <td>0.481448</td>\n",
              "    </tr>\n",
              "    <tr>\n",
              "      <th>Rent</th>\n",
              "      <td>0.747625</td>\n",
              "      <td>0.426759</td>\n",
              "      <td>0.481448</td>\n",
              "      <td>1.000000</td>\n",
              "    </tr>\n",
              "  </tbody>\n",
              "</table>\n",
              "</div>\n",
              "      <button class=\"colab-df-convert\" onclick=\"convertToInteractive('df-3b4f3ca5-12c5-4a74-9f53-faab808a9d41')\"\n",
              "              title=\"Convert this dataframe to an interactive table.\"\n",
              "              style=\"display:none;\">\n",
              "        \n",
              "  <svg xmlns=\"http://www.w3.org/2000/svg\" height=\"24px\"viewBox=\"0 0 24 24\"\n",
              "       width=\"24px\">\n",
              "    <path d=\"M0 0h24v24H0V0z\" fill=\"none\"/>\n",
              "    <path d=\"M18.56 5.44l.94 2.06.94-2.06 2.06-.94-2.06-.94-.94-2.06-.94 2.06-2.06.94zm-11 1L8.5 8.5l.94-2.06 2.06-.94-2.06-.94L8.5 2.5l-.94 2.06-2.06.94zm10 10l.94 2.06.94-2.06 2.06-.94-2.06-.94-.94-2.06-.94 2.06-2.06.94z\"/><path d=\"M17.41 7.96l-1.37-1.37c-.4-.4-.92-.59-1.43-.59-.52 0-1.04.2-1.43.59L10.3 9.45l-7.72 7.72c-.78.78-.78 2.05 0 2.83L4 21.41c.39.39.9.59 1.41.59.51 0 1.02-.2 1.41-.59l7.78-7.78 2.81-2.81c.8-.78.8-2.07 0-2.86zM5.41 20L4 18.59l7.72-7.72 1.47 1.35L5.41 20z\"/>\n",
              "  </svg>\n",
              "      </button>\n",
              "      \n",
              "  <style>\n",
              "    .colab-df-container {\n",
              "      display:flex;\n",
              "      flex-wrap:wrap;\n",
              "      gap: 12px;\n",
              "    }\n",
              "\n",
              "    .colab-df-convert {\n",
              "      background-color: #E8F0FE;\n",
              "      border: none;\n",
              "      border-radius: 50%;\n",
              "      cursor: pointer;\n",
              "      display: none;\n",
              "      fill: #1967D2;\n",
              "      height: 32px;\n",
              "      padding: 0 0 0 0;\n",
              "      width: 32px;\n",
              "    }\n",
              "\n",
              "    .colab-df-convert:hover {\n",
              "      background-color: #E2EBFA;\n",
              "      box-shadow: 0px 1px 2px rgba(60, 64, 67, 0.3), 0px 1px 3px 1px rgba(60, 64, 67, 0.15);\n",
              "      fill: #174EA6;\n",
              "    }\n",
              "\n",
              "    [theme=dark] .colab-df-convert {\n",
              "      background-color: #3B4455;\n",
              "      fill: #D2E3FC;\n",
              "    }\n",
              "\n",
              "    [theme=dark] .colab-df-convert:hover {\n",
              "      background-color: #434B5C;\n",
              "      box-shadow: 0px 1px 3px 1px rgba(0, 0, 0, 0.15);\n",
              "      filter: drop-shadow(0px 1px 2px rgba(0, 0, 0, 0.3));\n",
              "      fill: #FFFFFF;\n",
              "    }\n",
              "  </style>\n",
              "\n",
              "      <script>\n",
              "        const buttonEl =\n",
              "          document.querySelector('#df-3b4f3ca5-12c5-4a74-9f53-faab808a9d41 button.colab-df-convert');\n",
              "        buttonEl.style.display =\n",
              "          google.colab.kernel.accessAllowed ? 'block' : 'none';\n",
              "\n",
              "        async function convertToInteractive(key) {\n",
              "          const element = document.querySelector('#df-3b4f3ca5-12c5-4a74-9f53-faab808a9d41');\n",
              "          const dataTable =\n",
              "            await google.colab.kernel.invokeFunction('convertToInteractive',\n",
              "                                                     [key], {});\n",
              "          if (!dataTable) return;\n",
              "\n",
              "          const docLinkHtml = 'Like what you see? Visit the ' +\n",
              "            '<a target=\"_blank\" href=https://colab.research.google.com/notebooks/data_table.ipynb>data table notebook</a>'\n",
              "            + ' to learn more about interactive tables.';\n",
              "          element.innerHTML = '';\n",
              "          dataTable['output_type'] = 'display_data';\n",
              "          await google.colab.output.renderOutput(dataTable, element);\n",
              "          const docLink = document.createElement('div');\n",
              "          docLink.innerHTML = docLinkHtml;\n",
              "          element.appendChild(docLink);\n",
              "        }\n",
              "      </script>\n",
              "    </div>\n",
              "  </div>\n",
              "  "
            ]
          },
          "metadata": {},
          "execution_count": 36
        }
      ],
      "source": [
        "#Pearson's Correlation\n",
        "pearson = df.corr(method ='pearson')\n",
        "pearson"
      ]
    },
    {
      "cell_type": "code",
      "execution_count": 37,
      "id": "ae9f52fd",
      "metadata": {
        "scrolled": false,
        "id": "ae9f52fd",
        "outputId": "0150322f-ca1a-4db2-e1fc-c6dabf23a245",
        "colab": {
          "base_uri": "https://localhost:8080/",
          "height": 408
        }
      },
      "outputs": [
        {
          "output_type": "execute_result",
          "data": {
            "text/plain": [
              "Text(0.5, 1.0, 'Pearson Correlation')"
            ]
          },
          "metadata": {},
          "execution_count": 37
        },
        {
          "output_type": "display_data",
          "data": {
            "text/plain": [
              "<Figure size 720x432 with 2 Axes>"
            ],
            "image/png": "[encoded data removed]"
          },
          "metadata": {
            "needs_background": "light"
          }
        }
      ],
      "source": [
        "#Creating heatmap\n",
        "plt.figure(figsize=(10,6))\n",
        "heatmap = sns.heatmap(pearson, vmin=0,vmax=1, annot=True)\n",
        "plt.title(\"Pearson Correlation\")"
      ]
    },
    {
      "cell_type": "markdown",
      "id": "6421a4c1",
      "metadata": {
        "id": "6421a4c1"
      },
      "source": [
        "As it is observed, Area has the highest impact on Rent (0.75). No. of bedrooms and no. of bathrooms have too little to do with the rent of the houses (0.43 and 0.48, consecutively)."
      ]
    },
    {
      "cell_type": "markdown",
      "id": "a01d0983",
      "metadata": {
        "id": "a01d0983"
      },
      "source": [
        "#### Question 1: Which location has the highest average rent? Show top 5 locations."
      ]
    },
    {
      "cell_type": "code",
      "source": [
        "df.groupby(['Location'])['Rent'].mean().sort_values(ascending=False).nlargest(5)"
      ],
      "metadata": {
        "colab": {
          "base_uri": "https://localhost:8080/"
        },
        "id": "t2SJCxABBBle",
        "outputId": "085d40ac-59ab-4624-91ce-f20bad041b61"
      },
      "id": "t2SJCxABBBle",
      "execution_count": 38,
      "outputs": [
        {
          "output_type": "execute_result",
          "data": {
            "text/plain": [
              "Location\n",
              "Baridhara         141273.621891\n",
              "Gulshan           125727.937500\n",
              "Banani DOHS        98318.181818\n",
              "Mohakhali DOHS     89727.272727\n",
              "Banani             81178.564286\n",
              "Name: Rent, dtype: float64"
            ]
          },
          "metadata": {},
          "execution_count": 38
        }
      ]
    },
    {
      "cell_type": "markdown",
      "id": "5bee4977",
      "metadata": {
        "id": "5bee4977"
      },
      "source": [
        "#### Question 2: Which location has the lowest average rent? Show bottom 5 locations."
      ]
    },
    {
      "cell_type": "code",
      "source": [
        "df.groupby(['Location'])['Rent'].mean().sort_values(ascending=True).nsmallest(5)"
      ],
      "metadata": {
        "colab": {
          "base_uri": "https://localhost:8080/"
        },
        "id": "_07waLJMdtzc",
        "outputId": "2f7f55cd-c6c2-4f81-e104-a83df74e9549"
      },
      "id": "_07waLJMdtzc",
      "execution_count": 39,
      "outputs": [
        {
          "output_type": "execute_result",
          "data": {
            "text/plain": [
              "Location\n",
              "Demra           11642.857143\n",
              "Shyampur        11888.888889\n",
              "Khilkhet        12058.064516\n",
              "Dakshin Khan    12060.861423\n",
              "Uttar Khan      12411.764706\n",
              "Name: Rent, dtype: float64"
            ]
          },
          "metadata": {},
          "execution_count": 39
        }
      ]
    },
    {
      "cell_type": "markdown",
      "id": "490ae27d",
      "metadata": {
        "id": "490ae27d"
      },
      "source": [
        "#### Question 3: Which location has the largest houses on average?"
      ]
    },
    {
      "cell_type": "code",
      "source": [
        "df.groupby(['Location'])['Area'].mean().sort_values(ascending=False).nlargest(5)"
      ],
      "metadata": {
        "colab": {
          "base_uri": "https://localhost:8080/"
        },
        "id": "wdh80vskeNue",
        "outputId": "5562df0a-dd04-4e2a-b87c-0d3f6630384b"
      },
      "id": "wdh80vskeNue",
      "execution_count": 40,
      "outputs": [
        {
          "output_type": "execute_result",
          "data": {
            "text/plain": [
              "Location\n",
              "Gulshan           2692.720588\n",
              "Baridhara         2604.925373\n",
              "Banani DOHS       2466.727273\n",
              "Mohakhali DOHS    2350.000000\n",
              "Banani            2295.500000\n",
              "Name: Area, dtype: float64"
            ]
          },
          "metadata": {},
          "execution_count": 40
        }
      ]
    },
    {
      "cell_type": "markdown",
      "id": "792a3a0f",
      "metadata": {
        "id": "792a3a0f"
      },
      "source": [
        "#### Question 4: Which location has the smallest houses on average?"
      ]
    },
    {
      "cell_type": "code",
      "source": [
        "df.groupby(['Location'])['Area'].mean().sort_values(ascending=True).nsmallest(5)"
      ],
      "metadata": {
        "colab": {
          "base_uri": "https://localhost:8080/"
        },
        "id": "R7WkGyP0eTnf",
        "outputId": "5ea20dce-49af-49e7-89b0-b7edbc861864"
      },
      "id": "R7WkGyP0eTnf",
      "execution_count": 41,
      "outputs": [
        {
          "output_type": "execute_result",
          "data": {
            "text/plain": [
              "Location\n",
              "Sadarghat       675.000000\n",
              "Kotwali         686.363636\n",
              "Mohakhali       687.142857\n",
              "Shahjahanpur    725.254237\n",
              "Bangshal        726.000000\n",
              "Name: Area, dtype: float64"
            ]
          },
          "metadata": {},
          "execution_count": 41
        }
      ]
    },
    {
      "cell_type": "markdown",
      "id": "d7f6ff21",
      "metadata": {
        "id": "d7f6ff21"
      },
      "source": [
        "#### Question 5: What is the average house rent in Dhaka?"
      ]
    },
    {
      "cell_type": "code",
      "source": [
        "print(\"Average Rent in Dhaka:\", df['Rent'].mean())"
      ],
      "metadata": {
        "colab": {
          "base_uri": "https://localhost:8080/"
        },
        "id": "EYZN85oyejxo",
        "outputId": "e9234247-e48d-4e8e-87f1-4afe9453e20f"
      },
      "id": "EYZN85oyejxo",
      "execution_count": 42,
      "outputs": [
        {
          "output_type": "stream",
          "name": "stdout",
          "text": [
            "Average Rent in Dhaka: 21008.71715277778\n"
          ]
        }
      ]
    },
    {
      "cell_type": "markdown",
      "id": "58d8418d",
      "metadata": {
        "id": "58d8418d"
      },
      "source": [
        "#### Question 6: What is the average house size (in sqft) in Dhaka?"
      ]
    },
    {
      "cell_type": "code",
      "source": [
        "print(\"Average Size of Houses in Dhaka:\", round(df['Area'].mean()))"
      ],
      "metadata": {
        "colab": {
          "base_uri": "https://localhost:8080/"
        },
        "id": "-KfQlmT9gC5Q",
        "outputId": "61894b34-88c3-490d-df22-068fb769ac30"
      },
      "id": "-KfQlmT9gC5Q",
      "execution_count": 43,
      "outputs": [
        {
          "output_type": "stream",
          "name": "stdout",
          "text": [
            "Average Size of Houses in Dhaka: 1057\n"
          ]
        }
      ]
    },
    {
      "cell_type": "markdown",
      "id": "aac23a17",
      "metadata": {
        "id": "aac23a17"
      },
      "source": [
        "#**Model Building**\n",
        "In this step, we are going to build a model to predict house rent, given feature variables like location, area, no of bed rooms and no of bathrooms. We are going to use Artificial Neural Network (ANN) to predict the house rent.\n",
        "\n",
        "##**ANN-Artificial Neural Network**\n",
        "\n",
        "Artificial neural networks, usually simply called neural networks, are computing systems inspired by the biological neural networks that constitute animal brains. An ANN is based on a collection of connected units or nodes called artificial neurons, which loosely model the neurons in a biological brain.\n",
        "\n",
        "##**Linear Regression Using PyTorch**\n",
        "\n",
        "We're going to use PyTorch to perform Linear Regression. PyTorch is an optimized tensor library for deep learning using GPUs and CPUs. An official documentation of PyTorch library can be found here:\n",
        "\n",
        "[https://pytorch.org/docs/stable/index.html](https://pytorch.org/docs/stable/index.html)\n",
        "\n",
        "\n",
        "###Steps We're Going to Take\n",
        "- Import all dependencies\n",
        "- Get the dataset\n",
        "- Build a model\n",
        "- Define loss funtion and optimizer\n",
        "- Define trainer\n",
        "- Define test (on validation)\n",
        "- Run trainer and test"
      ]
    },
    {
      "cell_type": "markdown",
      "source": [
        "###**Import All Dependencies**"
      ],
      "metadata": {
        "id": "sV6n1gyGn-XW"
      },
      "id": "sV6n1gyGn-XW"
    },
    {
      "cell_type": "code",
      "source": [
        "###Import All Dependencies\n",
        "import torch\n",
        "from torch.utils.data import DataLoader, TensorDataset\n",
        "from torchvision.transforms import ToTensor\n",
        "from torch import nn, optim\n",
        "from sklearn.model_selection import train_test_split\n",
        "import torch.nn.functional as F"
      ],
      "metadata": {
        "id": "NUZAID2mlCfH"
      },
      "id": "NUZAID2mlCfH",
      "execution_count": 44,
      "outputs": []
    },
    {
      "cell_type": "code",
      "source": [
        "# set default device based on CUDA's availability\n",
        "device = 'cuda' if torch.cuda.is_available() else 'cpu'\n",
        "device"
      ],
      "metadata": {
        "colab": {
          "base_uri": "https://localhost:8080/",
          "height": 35
        },
        "id": "PBprZXJ3sXav",
        "outputId": "83f4af2a-0352-49d7-c8cc-bd8f7e33aec5"
      },
      "id": "PBprZXJ3sXav",
      "execution_count": 45,
      "outputs": [
        {
          "output_type": "execute_result",
          "data": {
            "text/plain": [
              "'cuda'"
            ],
            "application/vnd.google.colaboratory.intrinsic+json": {
              "type": "string"
            }
          },
          "metadata": {},
          "execution_count": 45
        }
      ]
    },
    {
      "cell_type": "markdown",
      "source": [
        "###**Get The Dataset**"
      ],
      "metadata": {
        "id": "OogSB77HqOVm"
      },
      "id": "OogSB77HqOVm"
    },
    {
      "cell_type": "code",
      "source": [
        "X = df.drop(['Rent'], axis = 1)"
      ],
      "metadata": {
        "id": "45ma3KpqqNv6"
      },
      "id": "45ma3KpqqNv6",
      "execution_count": 46,
      "outputs": []
    },
    {
      "cell_type": "code",
      "source": [
        "y = df['Rent']"
      ],
      "metadata": {
        "id": "ZIIfmLCNtOtV"
      },
      "id": "ZIIfmLCNtOtV",
      "execution_count": 47,
      "outputs": []
    },
    {
      "cell_type": "code",
      "source": [
        "y = y.values.reshape(-1, 1)"
      ],
      "metadata": {
        "id": "88SRyVhneTje"
      },
      "id": "88SRyVhneTje",
      "execution_count": 48,
      "outputs": []
    },
    {
      "cell_type": "markdown",
      "source": [
        "##**Handling the Categorical Values using `get_dummies()`**"
      ],
      "metadata": {
        "id": "6PxSfFxNeV15"
      },
      "id": "6PxSfFxNeV15"
    },
    {
      "cell_type": "code",
      "source": [
        "X_cat = pd.get_dummies(X.Location, prefix='Location')\n",
        "X = X.join(X_cat)\n",
        "X = X.drop(['Location'], axis=1)"
      ],
      "metadata": {
        "id": "Jx9Gwt3ouoZz"
      },
      "id": "Jx9Gwt3ouoZz",
      "execution_count": 49,
      "outputs": []
    },
    {
      "cell_type": "markdown",
      "source": [
        "###**Splitting the Dataset into Train, Validation and Test Datasets**"
      ],
      "metadata": {
        "id": "7RyrDWMcuNhf"
      },
      "id": "7RyrDWMcuNhf"
    },
    {
      "cell_type": "code",
      "source": [
        "#Splitting into train and test dataset\n",
        "X_train, X_test, y_train, y_test = train_test_split(X, y, test_size=0.2, random_state=42)"
      ],
      "metadata": {
        "id": "qzz36oGe1CU3"
      },
      "id": "qzz36oGe1CU3",
      "execution_count": 50,
      "outputs": []
    },
    {
      "cell_type": "code",
      "source": [
        "# Converting the pandas dataframes into PyTorch Tensors\n",
        "# From here onwards our features are inputs and labels are targets\n",
        "inputs = torch.tensor(X_train.values).float()\n",
        "targets = torch.tensor(y_train).float()\n",
        "print(inputs)\n",
        "print(targets)"
      ],
      "metadata": {
        "id": "_mVi0WJ-t5IB",
        "colab": {
          "base_uri": "https://localhost:8080/"
        },
        "outputId": "7f6743d9-72ab-4fd6-9eae-3d72da19595f"
      },
      "id": "_mVi0WJ-t5IB",
      "execution_count": 51,
      "outputs": [
        {
          "output_type": "stream",
          "name": "stdout",
          "text": [
            "tensor([[1.4000e+03, 3.0000e+00, 3.0000e+00,  ..., 0.0000e+00, 1.0000e+00,\n",
            "         0.0000e+00],\n",
            "        [9.0000e+02, 2.0000e+00, 2.0000e+00,  ..., 0.0000e+00, 0.0000e+00,\n",
            "         0.0000e+00],\n",
            "        [1.7500e+03, 3.0000e+00, 4.0000e+00,  ..., 0.0000e+00, 0.0000e+00,\n",
            "         0.0000e+00],\n",
            "        ...,\n",
            "        [3.5150e+03, 4.0000e+00, 4.0000e+00,  ..., 0.0000e+00, 0.0000e+00,\n",
            "         0.0000e+00],\n",
            "        [1.0000e+03, 3.0000e+00, 2.0000e+00,  ..., 0.0000e+00, 0.0000e+00,\n",
            "         0.0000e+00],\n",
            "        [8.5000e+02, 2.0000e+00, 2.0000e+00,  ..., 0.0000e+00, 0.0000e+00,\n",
            "         0.0000e+00]])\n",
            "tensor([[ 28000.],\n",
            "        [ 25000.],\n",
            "        [ 30000.],\n",
            "        ...,\n",
            "        [270000.],\n",
            "        [ 15000.],\n",
            "        [ 12500.]])\n"
          ]
        }
      ]
    },
    {
      "cell_type": "code",
      "source": [
        "# Shape of inputs and targets\n",
        "print(f\"Shape of inputs is {inputs.shape}\")\n",
        "print(f\"Shape of labels is {targets.shape}\")"
      ],
      "metadata": {
        "id": "etJQHq0muYUP",
        "colab": {
          "base_uri": "https://localhost:8080/"
        },
        "outputId": "8899bc35-7ec6-45b6-e6d1-b73c7a7157b2"
      },
      "id": "etJQHq0muYUP",
      "execution_count": 52,
      "outputs": [
        {
          "output_type": "stream",
          "name": "stdout",
          "text": [
            "Shape of inputs is torch.Size([23040, 71])\n",
            "Shape of labels is torch.Size([23040, 1])\n"
          ]
        }
      ]
    },
    {
      "cell_type": "markdown",
      "source": [
        "### **As observed, there are 71 different features and 23,040 sample in the training dataset**"
      ],
      "metadata": {
        "id": "gdzBXKlsevc2"
      },
      "id": "gdzBXKlsevc2"
    },
    {
      "cell_type": "code",
      "source": [
        "# Define Dataset\n",
        "train_ds = TensorDataset(inputs, targets)\n",
        "train_ds[0:3]"
      ],
      "metadata": {
        "id": "woyZwVrr5uyk",
        "colab": {
          "base_uri": "https://localhost:8080/"
        },
        "outputId": "631c1bca-fb41-48d6-931e-09a943b565d3"
      },
      "id": "woyZwVrr5uyk",
      "execution_count": 53,
      "outputs": [
        {
          "output_type": "execute_result",
          "data": {
            "text/plain": [
              "(tensor([[1.4000e+03, 3.0000e+00, 3.0000e+00, 0.0000e+00, 0.0000e+00, 0.0000e+00,\n",
              "          0.0000e+00, 0.0000e+00, 0.0000e+00, 0.0000e+00, 0.0000e+00, 0.0000e+00,\n",
              "          0.0000e+00, 0.0000e+00, 0.0000e+00, 0.0000e+00, 0.0000e+00, 0.0000e+00,\n",
              "          0.0000e+00, 0.0000e+00, 0.0000e+00, 0.0000e+00, 0.0000e+00, 0.0000e+00,\n",
              "          0.0000e+00, 0.0000e+00, 0.0000e+00, 0.0000e+00, 0.0000e+00, 0.0000e+00,\n",
              "          0.0000e+00, 0.0000e+00, 0.0000e+00, 0.0000e+00, 0.0000e+00, 0.0000e+00,\n",
              "          0.0000e+00, 0.0000e+00, 0.0000e+00, 0.0000e+00, 0.0000e+00, 0.0000e+00,\n",
              "          0.0000e+00, 0.0000e+00, 0.0000e+00, 0.0000e+00, 0.0000e+00, 0.0000e+00,\n",
              "          0.0000e+00, 0.0000e+00, 0.0000e+00, 0.0000e+00, 0.0000e+00, 0.0000e+00,\n",
              "          0.0000e+00, 0.0000e+00, 0.0000e+00, 0.0000e+00, 0.0000e+00, 0.0000e+00,\n",
              "          0.0000e+00, 0.0000e+00, 0.0000e+00, 0.0000e+00, 0.0000e+00, 0.0000e+00,\n",
              "          0.0000e+00, 0.0000e+00, 0.0000e+00, 1.0000e+00, 0.0000e+00],\n",
              "         [9.0000e+02, 2.0000e+00, 2.0000e+00, 0.0000e+00, 0.0000e+00, 0.0000e+00,\n",
              "          0.0000e+00, 0.0000e+00, 0.0000e+00, 0.0000e+00, 0.0000e+00, 0.0000e+00,\n",
              "          0.0000e+00, 0.0000e+00, 0.0000e+00, 0.0000e+00, 0.0000e+00, 0.0000e+00,\n",
              "          0.0000e+00, 0.0000e+00, 1.0000e+00, 0.0000e+00, 0.0000e+00, 0.0000e+00,\n",
              "          0.0000e+00, 0.0000e+00, 0.0000e+00, 0.0000e+00, 0.0000e+00, 0.0000e+00,\n",
              "          0.0000e+00, 0.0000e+00, 0.0000e+00, 0.0000e+00, 0.0000e+00, 0.0000e+00,\n",
              "          0.0000e+00, 0.0000e+00, 0.0000e+00, 0.0000e+00, 0.0000e+00, 0.0000e+00,\n",
              "          0.0000e+00, 0.0000e+00, 0.0000e+00, 0.0000e+00, 0.0000e+00, 0.0000e+00,\n",
              "          0.0000e+00, 0.0000e+00, 0.0000e+00, 0.0000e+00, 0.0000e+00, 0.0000e+00,\n",
              "          0.0000e+00, 0.0000e+00, 0.0000e+00, 0.0000e+00, 0.0000e+00, 0.0000e+00,\n",
              "          0.0000e+00, 0.0000e+00, 0.0000e+00, 0.0000e+00, 0.0000e+00, 0.0000e+00,\n",
              "          0.0000e+00, 0.0000e+00, 0.0000e+00, 0.0000e+00, 0.0000e+00],\n",
              "         [1.7500e+03, 3.0000e+00, 4.0000e+00, 0.0000e+00, 0.0000e+00, 0.0000e+00,\n",
              "          0.0000e+00, 0.0000e+00, 0.0000e+00, 0.0000e+00, 0.0000e+00, 0.0000e+00,\n",
              "          0.0000e+00, 0.0000e+00, 0.0000e+00, 1.0000e+00, 0.0000e+00, 0.0000e+00,\n",
              "          0.0000e+00, 0.0000e+00, 0.0000e+00, 0.0000e+00, 0.0000e+00, 0.0000e+00,\n",
              "          0.0000e+00, 0.0000e+00, 0.0000e+00, 0.0000e+00, 0.0000e+00, 0.0000e+00,\n",
              "          0.0000e+00, 0.0000e+00, 0.0000e+00, 0.0000e+00, 0.0000e+00, 0.0000e+00,\n",
              "          0.0000e+00, 0.0000e+00, 0.0000e+00, 0.0000e+00, 0.0000e+00, 0.0000e+00,\n",
              "          0.0000e+00, 0.0000e+00, 0.0000e+00, 0.0000e+00, 0.0000e+00, 0.0000e+00,\n",
              "          0.0000e+00, 0.0000e+00, 0.0000e+00, 0.0000e+00, 0.0000e+00, 0.0000e+00,\n",
              "          0.0000e+00, 0.0000e+00, 0.0000e+00, 0.0000e+00, 0.0000e+00, 0.0000e+00,\n",
              "          0.0000e+00, 0.0000e+00, 0.0000e+00, 0.0000e+00, 0.0000e+00, 0.0000e+00,\n",
              "          0.0000e+00, 0.0000e+00, 0.0000e+00, 0.0000e+00, 0.0000e+00]]),\n",
              " tensor([[28000.],\n",
              "         [25000.],\n",
              "         [30000.]]))"
            ]
          },
          "metadata": {},
          "execution_count": 53
        }
      ]
    },
    {
      "cell_type": "code",
      "source": [
        "# Define the Dataloader\n",
        "batch_size = 16\n",
        "train_dl = DataLoader(train_ds, batch_size, shuffle = True)\n"
      ],
      "metadata": {
        "id": "K7th_S6r5911"
      },
      "id": "K7th_S6r5911",
      "execution_count": 54,
      "outputs": []
    },
    {
      "cell_type": "markdown",
      "source": [
        "##**Definining The Model**"
      ],
      "metadata": {
        "id": "L3ZIVbkW6ISL"
      },
      "id": "L3ZIVbkW6ISL"
    },
    {
      "cell_type": "code",
      "source": [
        "class LinearRegression(nn.Module):\n",
        "    def __init__(self, **kwargs):\n",
        "        super(LinearRegression, self).__init__(**kwargs)\n",
        "        self.dense_1 = torch.nn.Linear(71, 1)\n",
        "        \n",
        "    def forward(self, x):\n",
        "        x = self.dense_1(x)\n",
        "        return x\n",
        "    \n",
        "model = LinearRegression()\n",
        "model.to(device)"
      ],
      "metadata": {
        "colab": {
          "base_uri": "https://localhost:8080/"
        },
        "id": "aacqQ8ghsuDo",
        "outputId": "860ffd8c-0ab1-48d2-b31e-f258cc0d354f"
      },
      "id": "aacqQ8ghsuDo",
      "execution_count": 55,
      "outputs": [
        {
          "output_type": "execute_result",
          "data": {
            "text/plain": [
              "LinearRegression(\n",
              "  (dense_1): Linear(in_features=71, out_features=1, bias=True)\n",
              ")"
            ]
          },
          "metadata": {},
          "execution_count": 55
        }
      ]
    },
    {
      "cell_type": "code",
      "source": [
        "# Generate predictions\n",
        "inputs = inputs.to(device)\n",
        "targets = targets.to(device)\n",
        "preds = model(inputs)\n",
        "preds\n"
      ],
      "metadata": {
        "id": "ENYyqGZT6WIa",
        "colab": {
          "base_uri": "https://localhost:8080/"
        },
        "outputId": "33f51cbf-f55e-4691-dd67-6a21a430f7cb"
      },
      "id": "ENYyqGZT6WIa",
      "execution_count": 56,
      "outputs": [
        {
          "output_type": "execute_result",
          "data": {
            "text/plain": [
              "tensor([[159.9164],\n",
              "        [102.8178],\n",
              "        [199.9278],\n",
              "        ...,\n",
              "        [401.5519],\n",
              "        [114.3034],\n",
              "        [ 97.1386]], device='cuda:0', grad_fn=<AddmmBackward0>)"
            ]
          },
          "metadata": {},
          "execution_count": 56
        }
      ]
    },
    {
      "cell_type": "markdown",
      "source": [
        "##**Testing with 3 Different Loss Functions**\n",
        "There are a number of loss functions that are appropriate for regression problems. We're going to test 3 popular funtions:\n",
        "1. Mean Squared Error/L2 Loss\n",
        "2. Mean Absolute Error / L1 Loss\n",
        "3. Huber Loss"
      ],
      "metadata": {
        "id": "vTLu8s98gO4m"
      },
      "id": "vTLu8s98gO4m"
    },
    {
      "cell_type": "code",
      "source": [
        "# Define the loss function and compute the loss (L2)\n",
        "loss_fn_mse = F.mse_loss\n",
        "loss_mse = loss_fn_mse(preds, targets)\n",
        "print(loss_mse)"
      ],
      "metadata": {
        "id": "rqFzXmsy6WTM",
        "colab": {
          "base_uri": "https://localhost:8080/"
        },
        "outputId": "f979b8a9-bf8c-4490-cbeb-d744200f7507"
      },
      "id": "rqFzXmsy6WTM",
      "execution_count": 57,
      "outputs": [
        {
          "output_type": "stream",
          "name": "stdout",
          "text": [
            "tensor(9.1033e+08, device='cuda:0', grad_fn=<MseLossBackward0>)\n"
          ]
        }
      ]
    },
    {
      "cell_type": "code",
      "source": [
        "# Define the loss function and compute the loss (L1)\n",
        "loss_fn_mae = F.l1_loss\n",
        "loss_mae = loss_fn_mae(preds, targets)\n",
        "print(loss_mae)"
      ],
      "metadata": {
        "colab": {
          "base_uri": "https://localhost:8080/"
        },
        "outputId": "ec45ce8d-0f52-4fc6-9f68-caac008f39d5",
        "id": "52v7cThEf9uY"
      },
      "execution_count": 58,
      "outputs": [
        {
          "output_type": "stream",
          "name": "stdout",
          "text": [
            "tensor(20963.9004, device='cuda:0', grad_fn=<L1LossBackward0>)\n"
          ]
        }
      ],
      "id": "52v7cThEf9uY"
    },
    {
      "cell_type": "code",
      "source": [
        "# Define the loss function and compute the loss (Huber)\n",
        "loss_fn_huber = F.huber_loss\n",
        "loss_huber = loss_fn_huber(preds, targets)\n",
        "print(loss_huber)"
      ],
      "metadata": {
        "colab": {
          "base_uri": "https://localhost:8080/"
        },
        "id": "Iv6rROqxg71k",
        "outputId": "1ef9778b-8552-427a-96b4-41c8e653fb82"
      },
      "id": "Iv6rROqxg71k",
      "execution_count": 59,
      "outputs": [
        {
          "output_type": "stream",
          "name": "stdout",
          "text": [
            "tensor(20963.4004, device='cuda:0', grad_fn=<HuberLossBackward0>)\n"
          ]
        }
      ]
    },
    {
      "cell_type": "markdown",
      "source": [
        "###**We'll choose Huber Loss for Our Loss Function**"
      ],
      "metadata": {
        "id": "EZcnaqfYcNMB"
      },
      "id": "EZcnaqfYcNMB"
    },
    {
      "cell_type": "code",
      "source": [
        "loss_fn = F.huber_loss"
      ],
      "metadata": {
        "id": "cDgB_Ly-6Wov"
      },
      "id": "cDgB_Ly-6Wov",
      "execution_count": 60,
      "outputs": []
    },
    {
      "cell_type": "markdown",
      "source": [
        "###**Define Optimizer**"
      ],
      "metadata": {
        "id": "GkeED3lUmtWy"
      },
      "id": "GkeED3lUmtWy"
    },
    {
      "cell_type": "code",
      "source": [
        "# Define Optimizer\n",
        "opt = torch.optim.SGD(model.parameters(), lr = 0.001, momentum = 0.9)\n",
        "print(opt)"
      ],
      "metadata": {
        "id": "Ctqm29xH6We6",
        "colab": {
          "base_uri": "https://localhost:8080/"
        },
        "outputId": "32c22b4d-919a-4b43-d591-9911ecf818f8"
      },
      "id": "Ctqm29xH6We6",
      "execution_count": 61,
      "outputs": [
        {
          "output_type": "stream",
          "name": "stdout",
          "text": [
            "SGD (\n",
            "Parameter Group 0\n",
            "    dampening: 0\n",
            "    lr: 0.001\n",
            "    maximize: False\n",
            "    momentum: 0.9\n",
            "    nesterov: False\n",
            "    weight_decay: 0\n",
            ")\n"
          ]
        }
      ]
    },
    {
      "cell_type": "markdown",
      "source": [
        "##**Train Our Model**\n",
        "In this step, we're going to set the number of epochs and train our model "
      ],
      "metadata": {
        "id": "M2dBTmzbdGul"
      },
      "id": "M2dBTmzbdGul"
    },
    {
      "cell_type": "code",
      "source": [
        "num_epochs = 1000\n",
        "num_examples = 23040\n",
        "dl = train_dl"
      ],
      "metadata": {
        "id": "mUfGY2fFdF_d"
      },
      "id": "mUfGY2fFdF_d",
      "execution_count": 62,
      "outputs": []
    },
    {
      "cell_type": "code",
      "source": [
        "# Utility Function to train the model\n",
        "losses = []\n",
        "def fit(num_epochs, model, loss_fn, opt, dl):\n",
        "  num_batches = num_examples / batch_size\n",
        "  losees = []\n",
        "  # Repeat for given number of epochs\n",
        "  for epoch in range(num_epochs):\n",
        "      cumulative_loss = 0\n",
        "      # inner loop\n",
        "      for inp, tgt in dl:\n",
        "        inp = inp.to(device)\n",
        "        tgt = tgt.to(device)\n",
        "        # 1. Geenrate Predictions\n",
        "        preds = model(inp)\n",
        "        # 2. Calculate loss\n",
        "        loss = loss_fn(preds, tgt)\n",
        "        # 3. Reset the gradients to zero\n",
        "        opt.zero_grad()\n",
        "        # 4. Compute gradients\n",
        "        loss.backward()\n",
        "        # 5. Update parameters using gradients\n",
        "        opt.step()\n",
        "        cumulative_loss += loss.item()\n",
        "      # Print the progress\n",
        "      if (epoch+1) % 100 == 0:\n",
        "        print(\"Epoch %s, loss: %s\" % (epoch+1, cumulative_loss / num_examples))\n",
        "      losses.append(cumulative_loss / num_batches)\n"
      ],
      "metadata": {
        "id": "YdWC5dgYzA4_"
      },
      "id": "YdWC5dgYzA4_",
      "execution_count": 63,
      "outputs": []
    },
    {
      "cell_type": "code",
      "source": [
        "# Calling the Training function of our dataset\n",
        "fit(num_epochs, model, loss_fn, opt, dl)"
      ],
      "metadata": {
        "id": "nitDpfSI68Zq",
        "colab": {
          "base_uri": "https://localhost:8080/"
        },
        "outputId": "e510036d-c4a4-4a66-fe35-80f4265727f5"
      },
      "id": "nitDpfSI68Zq",
      "execution_count": 64,
      "outputs": [
        {
          "output_type": "stream",
          "name": "stdout",
          "text": [
            "Epoch 100, loss: 340.33082168896993\n",
            "Epoch 200, loss: 337.6441610283322\n",
            "Epoch 300, loss: 334.0354954560598\n",
            "Epoch 400, loss: 333.60384554862975\n",
            "Epoch 500, loss: 333.31048797501455\n",
            "Epoch 600, loss: 335.879924498664\n",
            "Epoch 700, loss: 332.9397239473131\n",
            "Epoch 800, loss: 330.25552110672\n",
            "Epoch 900, loss: 330.4877708170149\n",
            "Epoch 1000, loss: 330.58422256575693\n"
          ]
        }
      ]
    },
    {
      "cell_type": "markdown",
      "source": [
        "##**Visualizing the Learning Curve**"
      ],
      "metadata": {
        "id": "xHbhcZpR_4A_"
      },
      "id": "xHbhcZpR_4A_"
    },
    {
      "cell_type": "code",
      "source": [
        "plt.figure(num=None, figsize=(8, 6))\n",
        "plt.plot(losses)\n",
        "\n",
        "# Adding some bells and whistles to the plot\n",
        "plt.grid(True, which=\"both\")\n",
        "plt.xlabel('epoch', fontsize=14)\n",
        "plt.ylabel('average loss', fontsize=14)\n",
        "plt.show()"
      ],
      "metadata": {
        "colab": {
          "base_uri": "https://localhost:8080/",
          "height": 392
        },
        "id": "e2C4HAJu_tPl",
        "outputId": "22feeeef-2252-4978-b041-ceac6819f80b"
      },
      "id": "e2C4HAJu_tPl",
      "execution_count": 65,
      "outputs": [
        {
          "output_type": "display_data",
          "data": {
            "text/plain": [
              "<Figure size 576x432 with 1 Axes>"
            ],
            "image/png": "[encoded data removed]"
          },
          "metadata": {
            "needs_background": "light"
          }
        }
      ]
    },
    {
      "cell_type": "markdown",
      "source": [
        "##**Saving and Loading the Model**"
      ],
      "metadata": {
        "id": "nGzISFw2GLBO"
      },
      "id": "nGzISFw2GLBO"
    },
    {
      "cell_type": "code",
      "source": [
        "# Specify a path\n",
        "PATH = \"houserend_model.pt\"\n",
        "\n",
        "# Save\n",
        "torch.save(model, PATH)\n",
        "\n",
        "# Load\n",
        "model = torch.load(PATH)\n",
        "model.eval()"
      ],
      "metadata": {
        "colab": {
          "base_uri": "https://localhost:8080/"
        },
        "id": "4QTC6HEXGPQI",
        "outputId": "1450d40e-b942-49ad-e9f7-1a050b24818f"
      },
      "id": "4QTC6HEXGPQI",
      "execution_count": 66,
      "outputs": [
        {
          "output_type": "execute_result",
          "data": {
            "text/plain": [
              "LinearRegression(\n",
              "  (dense_1): Linear(in_features=71, out_features=1, bias=True)\n",
              ")"
            ]
          },
          "metadata": {},
          "execution_count": 66
        }
      ]
    },
    {
      "cell_type": "markdown",
      "source": [
        "##**Testing Our Model on the Test Dataset**"
      ],
      "metadata": {
        "id": "kLOnOOaUg2QA"
      },
      "id": "kLOnOOaUg2QA"
    },
    {
      "cell_type": "code",
      "source": [
        "# Converting the pandas dataframes into PyTorch Tensors\n",
        "# From here onwards our features are inputs and labels are targets\n",
        "\n",
        "inputs_test = torch.tensor(X_test.values).float()\n",
        "targets_test = torch.tensor(y_test).float()\n",
        "print(inputs_test)\n",
        "print(targets_test)"
      ],
      "metadata": {
        "id": "cDpFaXLGgFR4",
        "colab": {
          "base_uri": "https://localhost:8080/"
        },
        "outputId": "d64904c4-c04e-4417-9c89-badb4783fa9a"
      },
      "execution_count": 67,
      "outputs": [
        {
          "output_type": "stream",
          "name": "stdout",
          "text": [
            "tensor([[1300.,    3.,    3.,  ...,    0.,    0.,    0.],\n",
            "        [ 700.,    2.,    2.,  ...,    0.,    0.,    0.],\n",
            "        [ 600.,    2.,    2.,  ...,    0.,    0.,    0.],\n",
            "        ...,\n",
            "        [ 720.,    2.,    2.,  ...,    0.,    0.,    0.],\n",
            "        [1000.,    3.,    2.,  ...,    0.,    0.,    0.],\n",
            "        [1600.,    3.,    3.,  ...,    0.,    0.,    0.]])\n",
            "tensor([[18000.],\n",
            "        [11000.],\n",
            "        [11000.],\n",
            "        ...,\n",
            "        [12500.],\n",
            "        [15000.],\n",
            "        [30000.]])\n"
          ]
        }
      ],
      "id": "cDpFaXLGgFR4"
    },
    {
      "cell_type": "code",
      "source": [
        "# Define Dataset\n",
        "test_ds = TensorDataset(inputs_test, targets_test)\n",
        "test_ds[0:3]"
      ],
      "metadata": {
        "id": "EuHgp0YigaFS",
        "colab": {
          "base_uri": "https://localhost:8080/"
        },
        "outputId": "b14eba65-91db-4e52-c8d0-c0ac321b97d7"
      },
      "execution_count": 68,
      "outputs": [
        {
          "output_type": "execute_result",
          "data": {
            "text/plain": [
              "(tensor([[1.3000e+03, 3.0000e+00, 3.0000e+00, 0.0000e+00, 0.0000e+00, 0.0000e+00,\n",
              "          0.0000e+00, 0.0000e+00, 0.0000e+00, 0.0000e+00, 0.0000e+00, 0.0000e+00,\n",
              "          0.0000e+00, 0.0000e+00, 0.0000e+00, 0.0000e+00, 0.0000e+00, 0.0000e+00,\n",
              "          0.0000e+00, 0.0000e+00, 0.0000e+00, 0.0000e+00, 0.0000e+00, 0.0000e+00,\n",
              "          0.0000e+00, 0.0000e+00, 0.0000e+00, 0.0000e+00, 0.0000e+00, 0.0000e+00,\n",
              "          0.0000e+00, 0.0000e+00, 0.0000e+00, 0.0000e+00, 0.0000e+00, 0.0000e+00,\n",
              "          0.0000e+00, 0.0000e+00, 0.0000e+00, 0.0000e+00, 0.0000e+00, 0.0000e+00,\n",
              "          0.0000e+00, 1.0000e+00, 0.0000e+00, 0.0000e+00, 0.0000e+00, 0.0000e+00,\n",
              "          0.0000e+00, 0.0000e+00, 0.0000e+00, 0.0000e+00, 0.0000e+00, 0.0000e+00,\n",
              "          0.0000e+00, 0.0000e+00, 0.0000e+00, 0.0000e+00, 0.0000e+00, 0.0000e+00,\n",
              "          0.0000e+00, 0.0000e+00, 0.0000e+00, 0.0000e+00, 0.0000e+00, 0.0000e+00,\n",
              "          0.0000e+00, 0.0000e+00, 0.0000e+00, 0.0000e+00, 0.0000e+00],\n",
              "         [7.0000e+02, 2.0000e+00, 2.0000e+00, 0.0000e+00, 0.0000e+00, 0.0000e+00,\n",
              "          0.0000e+00, 0.0000e+00, 0.0000e+00, 0.0000e+00, 0.0000e+00, 0.0000e+00,\n",
              "          0.0000e+00, 0.0000e+00, 0.0000e+00, 0.0000e+00, 0.0000e+00, 1.0000e+00,\n",
              "          0.0000e+00, 0.0000e+00, 0.0000e+00, 0.0000e+00, 0.0000e+00, 0.0000e+00,\n",
              "          0.0000e+00, 0.0000e+00, 0.0000e+00, 0.0000e+00, 0.0000e+00, 0.0000e+00,\n",
              "          0.0000e+00, 0.0000e+00, 0.0000e+00, 0.0000e+00, 0.0000e+00, 0.0000e+00,\n",
              "          0.0000e+00, 0.0000e+00, 0.0000e+00, 0.0000e+00, 0.0000e+00, 0.0000e+00,\n",
              "          0.0000e+00, 0.0000e+00, 0.0000e+00, 0.0000e+00, 0.0000e+00, 0.0000e+00,\n",
              "          0.0000e+00, 0.0000e+00, 0.0000e+00, 0.0000e+00, 0.0000e+00, 0.0000e+00,\n",
              "          0.0000e+00, 0.0000e+00, 0.0000e+00, 0.0000e+00, 0.0000e+00, 0.0000e+00,\n",
              "          0.0000e+00, 0.0000e+00, 0.0000e+00, 0.0000e+00, 0.0000e+00, 0.0000e+00,\n",
              "          0.0000e+00, 0.0000e+00, 0.0000e+00, 0.0000e+00, 0.0000e+00],\n",
              "         [6.0000e+02, 2.0000e+00, 2.0000e+00, 0.0000e+00, 0.0000e+00, 0.0000e+00,\n",
              "          0.0000e+00, 0.0000e+00, 0.0000e+00, 0.0000e+00, 0.0000e+00, 0.0000e+00,\n",
              "          0.0000e+00, 0.0000e+00, 0.0000e+00, 0.0000e+00, 0.0000e+00, 0.0000e+00,\n",
              "          0.0000e+00, 0.0000e+00, 0.0000e+00, 0.0000e+00, 0.0000e+00, 0.0000e+00,\n",
              "          0.0000e+00, 0.0000e+00, 0.0000e+00, 0.0000e+00, 0.0000e+00, 0.0000e+00,\n",
              "          0.0000e+00, 0.0000e+00, 0.0000e+00, 0.0000e+00, 0.0000e+00, 0.0000e+00,\n",
              "          0.0000e+00, 0.0000e+00, 1.0000e+00, 0.0000e+00, 0.0000e+00, 0.0000e+00,\n",
              "          0.0000e+00, 0.0000e+00, 0.0000e+00, 0.0000e+00, 0.0000e+00, 0.0000e+00,\n",
              "          0.0000e+00, 0.0000e+00, 0.0000e+00, 0.0000e+00, 0.0000e+00, 0.0000e+00,\n",
              "          0.0000e+00, 0.0000e+00, 0.0000e+00, 0.0000e+00, 0.0000e+00, 0.0000e+00,\n",
              "          0.0000e+00, 0.0000e+00, 0.0000e+00, 0.0000e+00, 0.0000e+00, 0.0000e+00,\n",
              "          0.0000e+00, 0.0000e+00, 0.0000e+00, 0.0000e+00, 0.0000e+00]]),\n",
              " tensor([[18000.],\n",
              "         [11000.],\n",
              "         [11000.]]))"
            ]
          },
          "metadata": {},
          "execution_count": 68
        }
      ],
      "id": "EuHgp0YigaFS"
    },
    {
      "cell_type": "code",
      "source": [
        "# Define the Dataloader\n",
        "test_dl = DataLoader(test_ds, batch_size, shuffle = True)"
      ],
      "metadata": {
        "id": "JTzazMQ9gLtu"
      },
      "execution_count": 69,
      "outputs": [],
      "id": "JTzazMQ9gLtu"
    },
    {
      "cell_type": "code",
      "source": [
        "len(test_ds)"
      ],
      "metadata": {
        "colab": {
          "base_uri": "https://localhost:8080/"
        },
        "id": "3pID6HNrHzbd",
        "outputId": "34f3d4ee-245b-4019-d1c9-bc476d02f3b8"
      },
      "id": "3pID6HNrHzbd",
      "execution_count": 70,
      "outputs": [
        {
          "output_type": "execute_result",
          "data": {
            "text/plain": [
              "5760"
            ]
          },
          "metadata": {},
          "execution_count": 70
        }
      ]
    },
    {
      "cell_type": "code",
      "source": [
        "num_epochs = 1000\n",
        "num_examples = 5750\n",
        "dl = test_dl"
      ],
      "metadata": {
        "id": "XxZ_5AWyhT3h"
      },
      "id": "XxZ_5AWyhT3h",
      "execution_count": 71,
      "outputs": []
    },
    {
      "cell_type": "code",
      "source": [
        "# Calling the Training function of our dataset\n",
        "fit(num_epochs, model, loss_fn, opt, dl)"
      ],
      "metadata": {
        "id": "3nVnTFjshODX",
        "colab": {
          "base_uri": "https://localhost:8080/"
        },
        "outputId": "542081da-cdf8-4347-87bb-dcd2a9b037ce"
      },
      "id": "3nVnTFjshODX",
      "execution_count": 72,
      "outputs": [
        {
          "output_type": "stream",
          "name": "stdout",
          "text": [
            "Epoch 100, loss: 307.8693161090353\n",
            "Epoch 200, loss: 307.869317743716\n",
            "Epoch 300, loss: 307.8693181470788\n",
            "Epoch 400, loss: 307.8693188901155\n",
            "Epoch 500, loss: 307.8693191661005\n",
            "Epoch 600, loss: 307.86931519616166\n",
            "Epoch 700, loss: 307.86931787109376\n",
            "Epoch 800, loss: 307.86931710682745\n",
            "Epoch 900, loss: 307.86931808338994\n",
            "Epoch 1000, loss: 307.8693179347826\n"
          ]
        }
      ]
    },
    {
      "cell_type": "markdown",
      "source": [
        "##**Visualizing the Learning Curve**"
      ],
      "metadata": {
        "id": "7PSeHmWKeitY"
      },
      "id": "7PSeHmWKeitY"
    },
    {
      "cell_type": "markdown",
      "source": [
        "### **Conclusion**\n",
        "As observed, our loss slowly decreases as we increase the number of epochs. We can use this model to predict the house rent in Dhaka city based on different features, such as the location of the house, the area of the house, the number of beds, the number of baths, etc. The biggest challenge of this project was to prepare the dataset for building a model. There are other scope of improvements, such as trying different model architecture, experimenting with different hyperparameters, training the model for longer, collecting more data and so on. Overall, the result showed satisfactory result on the test dataset."
      ],
      "metadata": {
        "id": "Y-mjRrd2gs7u"
      },
      "id": "Y-mjRrd2gs7u"
    }
  ],
  "metadata": {
    "kernelspec": {
      "display_name": "Python 3",
      "language": "python",
      "name": "python3"
    },
    "language_info": {
      "codemirror_mode": {
        "name": "ipython",
        "version": 3
      },
      "file_extension": ".py",
      "mimetype": "text/x-python",
      "name": "python",
      "nbconvert_exporter": "python",
      "pygments_lexer": "ipython3",
      "version": "3.8.8"
    },
    "colab": {
      "name": "Predicting House Rent in Dhaka using ANN [Final].ipynb",
      "provenance": [],
      "collapsed_sections": []
    },
    "accelerator": "GPU"
  },
  "nbformat": 4,
  "nbformat_minor": 5
}