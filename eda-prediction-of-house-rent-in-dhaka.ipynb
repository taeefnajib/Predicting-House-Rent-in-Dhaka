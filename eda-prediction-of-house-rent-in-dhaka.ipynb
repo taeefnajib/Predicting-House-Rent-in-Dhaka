{
 "cells": [
  {
   "cell_type": "markdown",
   "id": "991a9211",
   "metadata": {
    "papermill": {
     "duration": 0.025569,
     "end_time": "2023-08-20T08:03:55.324071",
     "exception": false,
     "start_time": "2023-08-20T08:03:55.298502",
     "status": "completed"
    },
    "tags": []
   },
   "source": [
    "# **Pre-processing, EDA and Prediction of House Rent in Dhaka**\n",
    "\n",
    "Dhaka is one of the most populated megacities of the world. It is the capital of Bangladesh, a country of 164.7m population in the South-East Asian sub-continent. Dhaka is inhabited by over 20 million people, with 75-80% people living in rented houses. The rent hike in the city was recorded 29% in the last five years. Nearly 65 percent or more of the city dwellers' monthly income is spent on paying the rent.\n",
    "\n",
    "However, house rent vary depending on various factors. We have tried to build a Machine Learning model, using Artificial Neural Network (ANN) in PyTorch, to predict house rent in Dhaka.\n",
    "\n",
    "The dataset used in this project to train and test the model is webscrapped from [bproperties.com](https://www.bproperty.com/)"
   ]
  },
  {
   "cell_type": "code",
   "execution_count": 1,
   "id": "1a5b4bc9",
   "metadata": {
    "execution": {
     "iopub.execute_input": "2023-08-20T08:03:55.379745Z",
     "iopub.status.busy": "2023-08-20T08:03:55.379045Z",
     "iopub.status.idle": "2023-08-20T08:03:59.674901Z",
     "shell.execute_reply": "2023-08-20T08:03:59.673399Z"
    },
    "papermill": {
     "duration": 4.328334,
     "end_time": "2023-08-20T08:03:59.677908",
     "exception": false,
     "start_time": "2023-08-20T08:03:55.349574",
     "status": "completed"
    },
    "tags": []
   },
   "outputs": [
    {
     "name": "stderr",
     "output_type": "stream",
     "text": [
      "/opt/conda/lib/python3.10/site-packages/scipy/__init__.py:146: UserWarning: A NumPy version >=1.16.5 and <1.23.0 is required for this version of SciPy (detected version 1.23.5\n",
      "  warnings.warn(f\"A NumPy version >={np_minversion} and <{np_maxversion}\"\n"
     ]
    }
   ],
   "source": [
    "# Import dependencies\n",
    "import pandas as pd\n",
    "import numpy as np\n",
    "import matplotlib.pyplot as plt\n",
    "import seaborn as sns\n",
    "import sklearn as sk\n",
    "from sklearn.preprocessing import MinMaxScaler\n",
    "from sklearn.model_selection import train_test_split, GridSearchCV\n",
    "from sklearn.metrics import mean_squared_error\n",
    "from sklearn.linear_model import LinearRegression, Ridge, Lasso, BayesianRidge\n",
    "from sklearn.ensemble import RandomForestRegressor\n",
    "from xgboost import XGBRegressor\n",
    "from sklearn.svm import SVR\n",
    "from lightgbm import LGBMRegressor\n",
    "from catboost import CatBoostRegressor\n",
    "import os\n",
    "import warnings\n",
    "warnings.filterwarnings('ignore')"
   ]
  },
  {
   "cell_type": "markdown",
   "id": "a01bbd73",
   "metadata": {
    "papermill": {
     "duration": 0.023795,
     "end_time": "2023-08-20T08:03:59.727377",
     "exception": false,
     "start_time": "2023-08-20T08:03:59.703582",
     "status": "completed"
    },
    "tags": []
   },
   "source": [
    "### **Collect Dataset and Create Dataframe**"
   ]
  },
  {
   "cell_type": "code",
   "execution_count": 2,
   "id": "8443d9e6",
   "metadata": {
    "execution": {
     "iopub.execute_input": "2023-08-20T08:03:59.779319Z",
     "iopub.status.busy": "2023-08-20T08:03:59.777832Z",
     "iopub.status.idle": "2023-08-20T08:03:59.788573Z",
     "shell.execute_reply": "2023-08-20T08:03:59.787048Z"
    },
    "papermill": {
     "duration": 0.038909,
     "end_time": "2023-08-20T08:03:59.791126",
     "exception": false,
     "start_time": "2023-08-20T08:03:59.752217",
     "status": "completed"
    },
    "tags": []
   },
   "outputs": [
    {
     "name": "stdout",
     "output_type": "stream",
     "text": [
      "/kaggle/input/house-rent-in-dhaka-city/houserentdhaka.csv\n"
     ]
    }
   ],
   "source": [
    "# Get filename of Kaggle dataset\n",
    "for dirname, _, filenames in os.walk('/kaggle/input'):\n",
    "    for filename in filenames:\n",
    "        print(os.path.join(dirname, filename))"
   ]
  },
  {
   "cell_type": "code",
   "execution_count": 3,
   "id": "4a409e37",
   "metadata": {
    "execution": {
     "iopub.execute_input": "2023-08-20T08:03:59.842664Z",
     "iopub.status.busy": "2023-08-20T08:03:59.841853Z",
     "iopub.status.idle": "2023-08-20T08:03:59.933395Z",
     "shell.execute_reply": "2023-08-20T08:03:59.932503Z"
    },
    "papermill": {
     "duration": 0.120246,
     "end_time": "2023-08-20T08:03:59.935971",
     "exception": false,
     "start_time": "2023-08-20T08:03:59.815725",
     "status": "completed"
    },
    "tags": []
   },
   "outputs": [
    {
     "data": {
      "text/html": [
       "<div>\n",
       "<style scoped>\n",
       "    .dataframe tbody tr th:only-of-type {\n",
       "        vertical-align: middle;\n",
       "    }\n",
       "\n",
       "    .dataframe tbody tr th {\n",
       "        vertical-align: top;\n",
       "    }\n",
       "\n",
       "    .dataframe thead th {\n",
       "        text-align: right;\n",
       "    }\n",
       "</style>\n",
       "<table border=\"1\" class=\"dataframe\">\n",
       "  <thead>\n",
       "    <tr style=\"text-align: right;\">\n",
       "      <th></th>\n",
       "      <th>Unnamed: 0</th>\n",
       "      <th>Location</th>\n",
       "      <th>Area</th>\n",
       "      <th>Bed</th>\n",
       "      <th>Bath</th>\n",
       "      <th>Price</th>\n",
       "    </tr>\n",
       "  </thead>\n",
       "  <tbody>\n",
       "    <tr>\n",
       "      <th>0</th>\n",
       "      <td>0</td>\n",
       "      <td>Block H, Bashundhara R-A, Dhaka</td>\n",
       "      <td>1,600 sqft</td>\n",
       "      <td>3</td>\n",
       "      <td>3</td>\n",
       "      <td>20 Thousand</td>\n",
       "    </tr>\n",
       "    <tr>\n",
       "      <th>1</th>\n",
       "      <td>1</td>\n",
       "      <td>Farmgate, Tejgaon, Dhaka</td>\n",
       "      <td>900 sqft</td>\n",
       "      <td>2</td>\n",
       "      <td>2</td>\n",
       "      <td>20 Thousand</td>\n",
       "    </tr>\n",
       "    <tr>\n",
       "      <th>2</th>\n",
       "      <td>2</td>\n",
       "      <td>Block B, Nobodoy Housing Society, Mohammadpur,...</td>\n",
       "      <td>1,250 sqft</td>\n",
       "      <td>3</td>\n",
       "      <td>3</td>\n",
       "      <td>18 Thousand</td>\n",
       "    </tr>\n",
       "    <tr>\n",
       "      <th>3</th>\n",
       "      <td>3</td>\n",
       "      <td>Gulshan 1, Gulshan, Dhaka</td>\n",
       "      <td>2,200 sqft</td>\n",
       "      <td>3</td>\n",
       "      <td>4</td>\n",
       "      <td>75 Thousand</td>\n",
       "    </tr>\n",
       "    <tr>\n",
       "      <th>4</th>\n",
       "      <td>4</td>\n",
       "      <td>Baridhara, Dhaka</td>\n",
       "      <td>2,200 sqft</td>\n",
       "      <td>3</td>\n",
       "      <td>3</td>\n",
       "      <td>75 Thousand</td>\n",
       "    </tr>\n",
       "  </tbody>\n",
       "</table>\n",
       "</div>"
      ],
      "text/plain": [
       "   Unnamed: 0                                           Location        Area  \\\n",
       "0           0                    Block H, Bashundhara R-A, Dhaka  1,600 sqft   \n",
       "1           1                           Farmgate, Tejgaon, Dhaka    900 sqft   \n",
       "2           2  Block B, Nobodoy Housing Society, Mohammadpur,...  1,250 sqft   \n",
       "3           3                          Gulshan 1, Gulshan, Dhaka  2,200 sqft   \n",
       "4           4                                   Baridhara, Dhaka  2,200 sqft   \n",
       "\n",
       "   Bed  Bath        Price  \n",
       "0    3     3  20 Thousand  \n",
       "1    2     2  20 Thousand  \n",
       "2    3     3  18 Thousand  \n",
       "3    3     4  75 Thousand  \n",
       "4    3     3  75 Thousand  "
      ]
     },
     "execution_count": 3,
     "metadata": {},
     "output_type": "execute_result"
    }
   ],
   "source": [
    "df = pd.read_csv(os.path.join(dirname, filenames[0]))\n",
    "df.head()"
   ]
  },
  {
   "cell_type": "markdown",
   "id": "ba4bd49c",
   "metadata": {
    "papermill": {
     "duration": 0.024737,
     "end_time": "2023-08-20T08:03:59.987227",
     "exception": false,
     "start_time": "2023-08-20T08:03:59.962490",
     "status": "completed"
    },
    "tags": []
   },
   "source": [
    "### **General Inspection**\n",
    "As observed, there are 3 columns and 28800 rows in the dataset. There is no missing values."
   ]
  },
  {
   "cell_type": "code",
   "execution_count": 4,
   "id": "21c2d82c",
   "metadata": {
    "execution": {
     "iopub.execute_input": "2023-08-20T08:04:00.040608Z",
     "iopub.status.busy": "2023-08-20T08:04:00.039369Z",
     "iopub.status.idle": "2023-08-20T08:04:00.046925Z",
     "shell.execute_reply": "2023-08-20T08:04:00.045686Z"
    },
    "papermill": {
     "duration": 0.036091,
     "end_time": "2023-08-20T08:04:00.049313",
     "exception": false,
     "start_time": "2023-08-20T08:04:00.013222",
     "status": "completed"
    },
    "tags": []
   },
   "outputs": [
    {
     "data": {
      "text/plain": [
       "(28800, 6)"
      ]
     },
     "execution_count": 4,
     "metadata": {},
     "output_type": "execute_result"
    }
   ],
   "source": [
    "# Get the shape of the dataset\n",
    "df.shape"
   ]
  },
  {
   "cell_type": "code",
   "execution_count": 5,
   "id": "8b4f605a",
   "metadata": {
    "execution": {
     "iopub.execute_input": "2023-08-20T08:04:00.103134Z",
     "iopub.status.busy": "2023-08-20T08:04:00.102327Z",
     "iopub.status.idle": "2023-08-20T08:04:00.160614Z",
     "shell.execute_reply": "2023-08-20T08:04:00.159281Z"
    },
    "papermill": {
     "duration": 0.088691,
     "end_time": "2023-08-20T08:04:00.163567",
     "exception": false,
     "start_time": "2023-08-20T08:04:00.074876",
     "status": "completed"
    },
    "tags": []
   },
   "outputs": [
    {
     "name": "stdout",
     "output_type": "stream",
     "text": [
      "<class 'pandas.core.frame.DataFrame'>\n",
      "RangeIndex: 28800 entries, 0 to 28799\n",
      "Data columns (total 6 columns):\n",
      " #   Column      Non-Null Count  Dtype \n",
      "---  ------      --------------  ----- \n",
      " 0   Unnamed: 0  28800 non-null  int64 \n",
      " 1   Location    28800 non-null  object\n",
      " 2   Area        28800 non-null  object\n",
      " 3   Bed         28800 non-null  int64 \n",
      " 4   Bath        28800 non-null  int64 \n",
      " 5   Price       28800 non-null  object\n",
      "dtypes: int64(3), object(3)\n",
      "memory usage: 1.3+ MB\n"
     ]
    }
   ],
   "source": [
    "# Describe dataset\n",
    "df.info()"
   ]
  },
  {
   "cell_type": "markdown",
   "id": "c82c1296",
   "metadata": {
    "papermill": {
     "duration": 0.024248,
     "end_time": "2023-08-20T08:04:00.212502",
     "exception": false,
     "start_time": "2023-08-20T08:04:00.188254",
     "status": "completed"
    },
    "tags": []
   },
   "source": [
    "## **Data Pre-processing**\n",
    "\n",
    "In this step, we are going to perform the following actions for data wrangling:\n",
    "\n",
    "* Check for column names\n",
    "* Treating unnecessary columns\n",
    "* Checking for missing values and treating them\n",
    "* Formating data and changing datatypes\n",
    "* One-hot Encoding: Preparing categorical values for Machine Learning (LATER)"
   ]
  },
  {
   "cell_type": "code",
   "execution_count": 6,
   "id": "1be296c8",
   "metadata": {
    "execution": {
     "iopub.execute_input": "2023-08-20T08:04:00.264919Z",
     "iopub.status.busy": "2023-08-20T08:04:00.264166Z",
     "iopub.status.idle": "2023-08-20T08:04:00.271559Z",
     "shell.execute_reply": "2023-08-20T08:04:00.270294Z"
    },
    "papermill": {
     "duration": 0.037386,
     "end_time": "2023-08-20T08:04:00.274221",
     "exception": false,
     "start_time": "2023-08-20T08:04:00.236835",
     "status": "completed"
    },
    "tags": []
   },
   "outputs": [
    {
     "data": {
      "text/plain": [
       "Index(['Unnamed: 0', 'Location', 'Area', 'Bed', 'Bath', 'Price'], dtype='object')"
      ]
     },
     "execution_count": 6,
     "metadata": {},
     "output_type": "execute_result"
    }
   ],
   "source": [
    "# Check for column names\n",
    "df.columns"
   ]
  },
  {
   "cell_type": "markdown",
   "id": "13966129",
   "metadata": {
    "papermill": {
     "duration": 0.024415,
     "end_time": "2023-08-20T08:04:00.323289",
     "exception": false,
     "start_time": "2023-08-20T08:04:00.298874",
     "status": "completed"
    },
    "tags": []
   },
   "source": [
    "Note: As we can see, the column for Rent is named as Price, which is not a good practice. We are going to fix this."
   ]
  },
  {
   "cell_type": "code",
   "execution_count": 7,
   "id": "5a39e13e",
   "metadata": {
    "execution": {
     "iopub.execute_input": "2023-08-20T08:04:00.377248Z",
     "iopub.status.busy": "2023-08-20T08:04:00.376377Z",
     "iopub.status.idle": "2023-08-20T08:04:00.382593Z",
     "shell.execute_reply": "2023-08-20T08:04:00.381362Z"
    },
    "papermill": {
     "duration": 0.03766,
     "end_time": "2023-08-20T08:04:00.385491",
     "exception": false,
     "start_time": "2023-08-20T08:04:00.347831",
     "status": "completed"
    },
    "tags": []
   },
   "outputs": [],
   "source": [
    "# Rename the header of the column Price as Rent \n",
    "df.rename({'Price': 'Rent'}, axis=1, inplace=True)"
   ]
  },
  {
   "cell_type": "code",
   "execution_count": 8,
   "id": "c7b60012",
   "metadata": {
    "execution": {
     "iopub.execute_input": "2023-08-20T08:04:00.438562Z",
     "iopub.status.busy": "2023-08-20T08:04:00.438083Z",
     "iopub.status.idle": "2023-08-20T08:04:00.447672Z",
     "shell.execute_reply": "2023-08-20T08:04:00.446635Z"
    },
    "papermill": {
     "duration": 0.03829,
     "end_time": "2023-08-20T08:04:00.450110",
     "exception": false,
     "start_time": "2023-08-20T08:04:00.411820",
     "status": "completed"
    },
    "tags": []
   },
   "outputs": [],
   "source": [
    "# Treat unnecessary column \"Unnamed: 0\"\n",
    "df.drop(columns=df.columns[0], axis=1, inplace=True)"
   ]
  },
  {
   "cell_type": "code",
   "execution_count": 9,
   "id": "22caf629",
   "metadata": {
    "execution": {
     "iopub.execute_input": "2023-08-20T08:04:00.502876Z",
     "iopub.status.busy": "2023-08-20T08:04:00.501449Z",
     "iopub.status.idle": "2023-08-20T08:04:00.510909Z",
     "shell.execute_reply": "2023-08-20T08:04:00.509520Z"
    },
    "papermill": {
     "duration": 0.03851,
     "end_time": "2023-08-20T08:04:00.513592",
     "exception": false,
     "start_time": "2023-08-20T08:04:00.475082",
     "status": "completed"
    },
    "tags": []
   },
   "outputs": [
    {
     "data": {
      "text/plain": [
       "Location    object\n",
       "Area        object\n",
       "Bed          int64\n",
       "Bath         int64\n",
       "Rent        object\n",
       "dtype: object"
      ]
     },
     "execution_count": 9,
     "metadata": {},
     "output_type": "execute_result"
    }
   ],
   "source": [
    "# Check for datatypes\n",
    "df.dtypes"
   ]
  },
  {
   "cell_type": "markdown",
   "id": "f29dd213",
   "metadata": {
    "papermill": {
     "duration": 0.026277,
     "end_time": "2023-08-20T08:04:00.564656",
     "exception": false,
     "start_time": "2023-08-20T08:04:00.538379",
     "status": "completed"
    },
    "tags": []
   },
   "source": [
    "There are a few things we need to format in the dataframe:\n",
    "\n",
    "* We need to remove the city name from the Location column\n",
    "* We need to remove sqft from the Area column and remove comma \",\" from the digits\n",
    "* We need to change the datatype of the Area column to int64 from object\n",
    "* We need to turn any string in the Rent column to its neumeric form. For this, we need to turn 65 Thousand into 65000 and 1.5 Lakh into 150000\n",
    "* We need to also change the datatype of the Rent column to float from object"
   ]
  },
  {
   "cell_type": "code",
   "execution_count": 10,
   "id": "07c361f6",
   "metadata": {
    "execution": {
     "iopub.execute_input": "2023-08-20T08:04:00.617064Z",
     "iopub.status.busy": "2023-08-20T08:04:00.616564Z",
     "iopub.status.idle": "2023-08-20T08:04:00.746598Z",
     "shell.execute_reply": "2023-08-20T08:04:00.744958Z"
    },
    "papermill": {
     "duration": 0.160065,
     "end_time": "2023-08-20T08:04:00.749631",
     "exception": false,
     "start_time": "2023-08-20T08:04:00.589566",
     "status": "completed"
    },
    "tags": []
   },
   "outputs": [
    {
     "data": {
      "text/plain": [
       "0    Bashundhara R-A\n",
       "1            Tejgaon\n",
       "2        Mohammadpur\n",
       "3            Gulshan\n",
       "4          Baridhara\n",
       "Name: Location, dtype: object"
      ]
     },
     "execution_count": 10,
     "metadata": {},
     "output_type": "execute_result"
    }
   ],
   "source": [
    "# Remove city names from the Location column\n",
    "df['Location']=df['Location'].str.split(',').str[:-1]\n",
    "# Keep only the thana/PO/area name in the Location column\n",
    "df['Location'] = df['Location'].str[-1]\n",
    "# Remove the leading space from the Location strings\n",
    "df['Location'] = df['Location'].str.strip()\n",
    "\n",
    "df['Location'].head()"
   ]
  },
  {
   "cell_type": "code",
   "execution_count": 11,
   "id": "c242ceab",
   "metadata": {
    "execution": {
     "iopub.execute_input": "2023-08-20T08:04:00.806251Z",
     "iopub.status.busy": "2023-08-20T08:04:00.805778Z",
     "iopub.status.idle": "2023-08-20T08:04:01.209478Z",
     "shell.execute_reply": "2023-08-20T08:04:01.207494Z"
    },
    "papermill": {
     "duration": 0.437598,
     "end_time": "2023-08-20T08:04:01.213982",
     "exception": false,
     "start_time": "2023-08-20T08:04:00.776384",
     "status": "completed"
    },
    "tags": []
   },
   "outputs": [
    {
     "name": "stdout",
     "output_type": "stream",
     "text": [
      "Area Column Data Type: int64\n"
     ]
    },
    {
     "data": {
      "text/plain": [
       "0    1600\n",
       "1     900\n",
       "2    1250\n",
       "3    2200\n",
       "4    2200\n",
       "Name: Area, dtype: int64"
      ]
     },
     "execution_count": 11,
     "metadata": {},
     "output_type": "execute_result"
    }
   ],
   "source": [
    "# Remove sqft from the Area column and formating the digits\n",
    "df['Area']=df['Area'].str.split(' ').str[:-1]\n",
    "# Turn data in the location column into string from list type\n",
    "df['Area'] = df['Area'].apply(lambda x: ''.join(map(str, x)))\n",
    "# Remove comma from the digits\n",
    "df['Area']=df['Area'].str.replace(',', '')\n",
    "# Change datatype of the Area column to int64 from object\n",
    "df['Area'] = df['Area'].astype(int)\n",
    "\n",
    "print(\"Area Column Data Type:\", df['Area'].dtypes)\n",
    "\n",
    "df['Area'].head()"
   ]
  },
  {
   "cell_type": "code",
   "execution_count": 12,
   "id": "e872f1e7",
   "metadata": {
    "execution": {
     "iopub.execute_input": "2023-08-20T08:04:01.275239Z",
     "iopub.status.busy": "2023-08-20T08:04:01.274782Z",
     "iopub.status.idle": "2023-08-20T08:04:08.669380Z",
     "shell.execute_reply": "2023-08-20T08:04:08.668421Z"
    },
    "papermill": {
     "duration": 7.426753,
     "end_time": "2023-08-20T08:04:08.671545",
     "exception": false,
     "start_time": "2023-08-20T08:04:01.244792",
     "status": "completed"
    },
    "tags": []
   },
   "outputs": [
    {
     "data": {
      "text/plain": [
       "0    20000\n",
       "1    20000\n",
       "2    18000\n",
       "3    75000\n",
       "4    75000\n",
       "Name: Rent, dtype: int64"
      ]
     },
     "execution_count": 12,
     "metadata": {},
     "output_type": "execute_result"
    }
   ],
   "source": [
    "# Format the Rent column as required and changing the datatype to int64\n",
    "df['Rent']=df['Rent'].replace({\"Thousand\":\"*1e3\", \"Lakh\":\"*1e5\"}, regex=True).map(pd.eval).astype(int)\n",
    "\n",
    "df['Rent'].head()"
   ]
  },
  {
   "cell_type": "code",
   "execution_count": 13,
   "id": "a1fd4544",
   "metadata": {
    "execution": {
     "iopub.execute_input": "2023-08-20T08:04:08.724198Z",
     "iopub.status.busy": "2023-08-20T08:04:08.723636Z",
     "iopub.status.idle": "2023-08-20T08:04:08.744281Z",
     "shell.execute_reply": "2023-08-20T08:04:08.743240Z"
    },
    "papermill": {
     "duration": 0.049869,
     "end_time": "2023-08-20T08:04:08.746733",
     "exception": false,
     "start_time": "2023-08-20T08:04:08.696864",
     "status": "completed"
    },
    "tags": []
   },
   "outputs": [
    {
     "data": {
      "text/plain": [
       "Location    13\n",
       "Area         0\n",
       "Bed          0\n",
       "Bath         0\n",
       "Rent         0\n",
       "dtype: int64"
      ]
     },
     "execution_count": 13,
     "metadata": {},
     "output_type": "execute_result"
    }
   ],
   "source": [
    "# Check for nan values\n",
    "df.isna().sum()"
   ]
  },
  {
   "cell_type": "code",
   "execution_count": 14,
   "id": "839274c6",
   "metadata": {
    "execution": {
     "iopub.execute_input": "2023-08-20T08:04:08.801889Z",
     "iopub.status.busy": "2023-08-20T08:04:08.801503Z",
     "iopub.status.idle": "2023-08-20T08:04:08.820752Z",
     "shell.execute_reply": "2023-08-20T08:04:08.819482Z"
    },
    "papermill": {
     "duration": 0.050393,
     "end_time": "2023-08-20T08:04:08.823566",
     "exception": false,
     "start_time": "2023-08-20T08:04:08.773173",
     "status": "completed"
    },
    "tags": []
   },
   "outputs": [],
   "source": [
    "# Drop the rows containing nan values in the Location column\n",
    "df.dropna(inplace=True)"
   ]
  },
  {
   "cell_type": "markdown",
   "id": "1e11f685",
   "metadata": {
    "papermill": {
     "duration": 0.026591,
     "end_time": "2023-08-20T08:04:08.877220",
     "exception": false,
     "start_time": "2023-08-20T08:04:08.850629",
     "status": "completed"
    },
    "tags": []
   },
   "source": [
    "## **Exploratory Data Analysis (EDA)**\n",
    "\n",
    "In this step, we are going to perform the following steps:\n",
    "\n",
    "* Summarize quantitative data by describe()\n",
    "* Summarize categorical data by value_counts()\n",
    "* Visualize numeric data with box plot\n",
    "* Visualize relationship between a feature and the target using scatter plot\n",
    "* Use correlation to show relationship between two variables\n",
    "* Show correlation using Pearson Correlation\n",
    "* Visualize correlation with a heatmap"
   ]
  },
  {
   "cell_type": "code",
   "execution_count": 15,
   "id": "58e400e0",
   "metadata": {
    "execution": {
     "iopub.execute_input": "2023-08-20T08:04:08.930775Z",
     "iopub.status.busy": "2023-08-20T08:04:08.930365Z",
     "iopub.status.idle": "2023-08-20T08:04:08.959452Z",
     "shell.execute_reply": "2023-08-20T08:04:08.958573Z"
    },
    "papermill": {
     "duration": 0.05869,
     "end_time": "2023-08-20T08:04:08.961869",
     "exception": false,
     "start_time": "2023-08-20T08:04:08.903179",
     "status": "completed"
    },
    "tags": []
   },
   "outputs": [
    {
     "data": {
      "text/html": [
       "<div>\n",
       "<style scoped>\n",
       "    .dataframe tbody tr th:only-of-type {\n",
       "        vertical-align: middle;\n",
       "    }\n",
       "\n",
       "    .dataframe tbody tr th {\n",
       "        vertical-align: top;\n",
       "    }\n",
       "\n",
       "    .dataframe thead th {\n",
       "        text-align: right;\n",
       "    }\n",
       "</style>\n",
       "<table border=\"1\" class=\"dataframe\">\n",
       "  <thead>\n",
       "    <tr style=\"text-align: right;\">\n",
       "      <th></th>\n",
       "      <th>Area</th>\n",
       "      <th>Bed</th>\n",
       "      <th>Bath</th>\n",
       "      <th>Rent</th>\n",
       "    </tr>\n",
       "  </thead>\n",
       "  <tbody>\n",
       "    <tr>\n",
       "      <th>count</th>\n",
       "      <td>28787.000000</td>\n",
       "      <td>28787.000000</td>\n",
       "      <td>28787.000000</td>\n",
       "      <td>28787.000000</td>\n",
       "    </tr>\n",
       "    <tr>\n",
       "      <th>mean</th>\n",
       "      <td>1057.316740</td>\n",
       "      <td>2.510995</td>\n",
       "      <td>2.369750</td>\n",
       "      <td>21009.554799</td>\n",
       "    </tr>\n",
       "    <tr>\n",
       "      <th>std</th>\n",
       "      <td>477.767777</td>\n",
       "      <td>0.601339</td>\n",
       "      <td>0.756555</td>\n",
       "      <td>21499.249095</td>\n",
       "    </tr>\n",
       "    <tr>\n",
       "      <th>min</th>\n",
       "      <td>200.000000</td>\n",
       "      <td>1.000000</td>\n",
       "      <td>1.000000</td>\n",
       "      <td>5000.000000</td>\n",
       "    </tr>\n",
       "    <tr>\n",
       "      <th>25%</th>\n",
       "      <td>700.000000</td>\n",
       "      <td>2.000000</td>\n",
       "      <td>2.000000</td>\n",
       "      <td>13000.000000</td>\n",
       "    </tr>\n",
       "    <tr>\n",
       "      <th>50%</th>\n",
       "      <td>900.000000</td>\n",
       "      <td>2.000000</td>\n",
       "      <td>2.000000</td>\n",
       "      <td>16000.000000</td>\n",
       "    </tr>\n",
       "    <tr>\n",
       "      <th>75%</th>\n",
       "      <td>1250.000000</td>\n",
       "      <td>3.000000</td>\n",
       "      <td>3.000000</td>\n",
       "      <td>22000.000000</td>\n",
       "    </tr>\n",
       "    <tr>\n",
       "      <th>max</th>\n",
       "      <td>6300.000000</td>\n",
       "      <td>6.000000</td>\n",
       "      <td>8.000000</td>\n",
       "      <td>650000.000000</td>\n",
       "    </tr>\n",
       "  </tbody>\n",
       "</table>\n",
       "</div>"
      ],
      "text/plain": [
       "               Area           Bed          Bath           Rent\n",
       "count  28787.000000  28787.000000  28787.000000   28787.000000\n",
       "mean    1057.316740      2.510995      2.369750   21009.554799\n",
       "std      477.767777      0.601339      0.756555   21499.249095\n",
       "min      200.000000      1.000000      1.000000    5000.000000\n",
       "25%      700.000000      2.000000      2.000000   13000.000000\n",
       "50%      900.000000      2.000000      2.000000   16000.000000\n",
       "75%     1250.000000      3.000000      3.000000   22000.000000\n",
       "max     6300.000000      6.000000      8.000000  650000.000000"
      ]
     },
     "execution_count": 15,
     "metadata": {},
     "output_type": "execute_result"
    }
   ],
   "source": [
    "# Summarize quantitative data\n",
    "df.describe()"
   ]
  },
  {
   "cell_type": "code",
   "execution_count": 16,
   "id": "7ed28c57",
   "metadata": {
    "execution": {
     "iopub.execute_input": "2023-08-20T08:04:09.017088Z",
     "iopub.status.busy": "2023-08-20T08:04:09.016464Z",
     "iopub.status.idle": "2023-08-20T08:04:09.255657Z",
     "shell.execute_reply": "2023-08-20T08:04:09.254525Z"
    },
    "papermill": {
     "duration": 0.270103,
     "end_time": "2023-08-20T08:04:09.258383",
     "exception": false,
     "start_time": "2023-08-20T08:04:08.988280",
     "status": "completed"
    },
    "tags": []
   },
   "outputs": [
    {
     "data": {
      "image/png": "[encoded data removed]",
      "text/plain": [
       "<Figure size 640x480 with 1 Axes>"
      ]
     },
     "metadata": {},
     "output_type": "display_data"
    }
   ],
   "source": [
    "# Visualize quantitative data with boxplot\n",
    "plt.boxplot(df[\"Area\"], vert=False, widths = 0.6)\n",
    "plt.show()"
   ]
  },
  {
   "cell_type": "code",
   "execution_count": 17,
   "id": "e63dd04f",
   "metadata": {
    "execution": {
     "iopub.execute_input": "2023-08-20T08:04:09.314851Z",
     "iopub.status.busy": "2023-08-20T08:04:09.313849Z",
     "iopub.status.idle": "2023-08-20T08:04:09.513649Z",
     "shell.execute_reply": "2023-08-20T08:04:09.512444Z"
    },
    "papermill": {
     "duration": 0.230957,
     "end_time": "2023-08-20T08:04:09.516550",
     "exception": false,
     "start_time": "2023-08-20T08:04:09.285593",
     "status": "completed"
    },
    "tags": []
   },
   "outputs": [
    {
     "data": {
      "image/png": "[encoded data removed]",
      "text/plain": [
       "<Figure size 640x480 with 1 Axes>"
      ]
     },
     "metadata": {},
     "output_type": "display_data"
    }
   ],
   "source": [
    "# Visualize quantitative data with boxplot\n",
    "plt.boxplot(df[\"Bed\"], vert=False, widths = 0.6)\n",
    "plt.show()"
   ]
  },
  {
   "cell_type": "code",
   "execution_count": 18,
   "id": "0ae502e4",
   "metadata": {
    "execution": {
     "iopub.execute_input": "2023-08-20T08:04:09.577310Z",
     "iopub.status.busy": "2023-08-20T08:04:09.576871Z",
     "iopub.status.idle": "2023-08-20T08:04:09.802832Z",
     "shell.execute_reply": "2023-08-20T08:04:09.801592Z"
    },
    "papermill": {
     "duration": 0.259466,
     "end_time": "2023-08-20T08:04:09.805735",
     "exception": false,
     "start_time": "2023-08-20T08:04:09.546269",
     "status": "completed"
    },
    "tags": []
   },
   "outputs": [
    {
     "data": {
      "image/png": "[encoded data removed]",
      "text/plain": [
       "<Figure size 640x480 with 1 Axes>"
      ]
     },
     "metadata": {},
     "output_type": "display_data"
    }
   ],
   "source": [
    "# Visualize quantitative data with boxplot\n",
    "plt.boxplot(df[\"Bath\"], vert=False, widths = 0.6)\n",
    "plt.show()"
   ]
  },
  {
   "cell_type": "code",
   "execution_count": 19,
   "id": "96a7d62a",
   "metadata": {
    "execution": {
     "iopub.execute_input": "2023-08-20T08:04:09.863054Z",
     "iopub.status.busy": "2023-08-20T08:04:09.862280Z",
     "iopub.status.idle": "2023-08-20T08:04:10.082735Z",
     "shell.execute_reply": "2023-08-20T08:04:10.081484Z"
    },
    "papermill": {
     "duration": 0.25247,
     "end_time": "2023-08-20T08:04:10.085723",
     "exception": false,
     "start_time": "2023-08-20T08:04:09.833253",
     "status": "completed"
    },
    "tags": []
   },
   "outputs": [
    {
     "data": {
      "image/png": "[encoded data removed]",
      "text/plain": [
       "<Figure size 640x480 with 1 Axes>"
      ]
     },
     "metadata": {},
     "output_type": "display_data"
    }
   ],
   "source": [
    "# Visualize quantitative data with boxplot\n",
    "plt.boxplot(df[\"Rent\"], vert=False, widths = 0.6)\n",
    "plt.show()"
   ]
  },
  {
   "cell_type": "code",
   "execution_count": 20,
   "id": "aff55512",
   "metadata": {
    "execution": {
     "iopub.execute_input": "2023-08-20T08:04:10.144563Z",
     "iopub.status.busy": "2023-08-20T08:04:10.143718Z",
     "iopub.status.idle": "2023-08-20T08:04:10.164629Z",
     "shell.execute_reply": "2023-08-20T08:04:10.162912Z"
    },
    "papermill": {
     "duration": 0.058921,
     "end_time": "2023-08-20T08:04:10.172939",
     "exception": false,
     "start_time": "2023-08-20T08:04:10.114018",
     "status": "completed"
    },
    "tags": []
   },
   "outputs": [
    {
     "data": {
      "text/plain": [
       "Mirpur             8451\n",
       "Mohammadpur        3612\n",
       "Uttara             2070\n",
       "Badda              1831\n",
       "Bashundhara R-A    1397\n",
       "                   ... \n",
       "Shahbagh              7\n",
       "Demra                 7\n",
       "Keraniganj            3\n",
       "Sadarghat             2\n",
       "Banglamotors          2\n",
       "Name: Location, Length: 68, dtype: int64"
      ]
     },
     "execution_count": 20,
     "metadata": {},
     "output_type": "execute_result"
    }
   ],
   "source": [
    "# Summarize categorical data [Location]\n",
    "df[\"Location\"].value_counts()"
   ]
  },
  {
   "cell_type": "code",
   "execution_count": 21,
   "id": "45c31cbf",
   "metadata": {
    "execution": {
     "iopub.execute_input": "2023-08-20T08:04:10.239275Z",
     "iopub.status.busy": "2023-08-20T08:04:10.238753Z",
     "iopub.status.idle": "2023-08-20T08:04:10.249277Z",
     "shell.execute_reply": "2023-08-20T08:04:10.248049Z"
    },
    "papermill": {
     "duration": 0.044902,
     "end_time": "2023-08-20T08:04:10.251677",
     "exception": false,
     "start_time": "2023-08-20T08:04:10.206775",
     "status": "completed"
    },
    "tags": []
   },
   "outputs": [
    {
     "data": {
      "text/plain": [
       "2    14272\n",
       "3    12965\n",
       "4     1063\n",
       "1      461\n",
       "5       24\n",
       "6        2\n",
       "Name: Bed, dtype: int64"
      ]
     },
     "execution_count": 21,
     "metadata": {},
     "output_type": "execute_result"
    }
   ],
   "source": [
    "# Summarize data [Bed]\n",
    "df[\"Bed\"].value_counts()"
   ]
  },
  {
   "cell_type": "code",
   "execution_count": 22,
   "id": "60d44120",
   "metadata": {
    "execution": {
     "iopub.execute_input": "2023-08-20T08:04:10.311964Z",
     "iopub.status.busy": "2023-08-20T08:04:10.311116Z",
     "iopub.status.idle": "2023-08-20T08:04:10.323399Z",
     "shell.execute_reply": "2023-08-20T08:04:10.321285Z"
    },
    "papermill": {
     "duration": 0.046416,
     "end_time": "2023-08-20T08:04:10.326654",
     "exception": false,
     "start_time": "2023-08-20T08:04:10.280238",
     "status": "completed"
    },
    "tags": []
   },
   "outputs": [
    {
     "data": {
      "text/plain": [
       "2    15765\n",
       "3     8465\n",
       "1     2364\n",
       "4     2046\n",
       "5      139\n",
       "6        7\n",
       "8        1\n",
       "Name: Bath, dtype: int64"
      ]
     },
     "execution_count": 22,
     "metadata": {},
     "output_type": "execute_result"
    }
   ],
   "source": [
    "# Summarize categorical data [Bath]\n",
    "df[\"Bath\"].value_counts()"
   ]
  },
  {
   "cell_type": "code",
   "execution_count": 23,
   "id": "1de3f9ac",
   "metadata": {
    "execution": {
     "iopub.execute_input": "2023-08-20T08:04:10.387260Z",
     "iopub.status.busy": "2023-08-20T08:04:10.386262Z",
     "iopub.status.idle": "2023-08-20T08:04:10.724829Z",
     "shell.execute_reply": "2023-08-20T08:04:10.723848Z"
    },
    "papermill": {
     "duration": 0.371782,
     "end_time": "2023-08-20T08:04:10.727287",
     "exception": false,
     "start_time": "2023-08-20T08:04:10.355505",
     "status": "completed"
    },
    "tags": []
   },
   "outputs": [
    {
     "data": {
      "image/png": "[encoded data removed]",
      "text/plain": [
       "<Figure size 640x480 with 1 Axes>"
      ]
     },
     "metadata": {},
     "output_type": "display_data"
    }
   ],
   "source": [
    "# Show relationship between Area and Rent\n",
    "plt.scatter(df[\"Area\"], df[\"Rent\"])\n",
    "plt.show()"
   ]
  },
  {
   "cell_type": "code",
   "execution_count": 24,
   "id": "7fce4a76",
   "metadata": {
    "execution": {
     "iopub.execute_input": "2023-08-20T08:04:10.784964Z",
     "iopub.status.busy": "2023-08-20T08:04:10.784201Z",
     "iopub.status.idle": "2023-08-20T08:04:11.089656Z",
     "shell.execute_reply": "2023-08-20T08:04:11.086910Z"
    },
    "papermill": {
     "duration": 0.340823,
     "end_time": "2023-08-20T08:04:11.095801",
     "exception": false,
     "start_time": "2023-08-20T08:04:10.754978",
     "status": "completed"
    },
    "tags": []
   },
   "outputs": [
    {
     "data": {
      "image/png": "[encoded data removed]",
      "text/plain": [
       "<Figure size 640x480 with 1 Axes>"
      ]
     },
     "metadata": {},
     "output_type": "display_data"
    }
   ],
   "source": [
    "# Show relationship between Bed and Rent\n",
    "plt.scatter(df[\"Bed\"], df[\"Rent\"])\n",
    "plt.show()"
   ]
  },
  {
   "cell_type": "code",
   "execution_count": 25,
   "id": "d7a28c69",
   "metadata": {
    "execution": {
     "iopub.execute_input": "2023-08-20T08:04:11.162347Z",
     "iopub.status.busy": "2023-08-20T08:04:11.161852Z",
     "iopub.status.idle": "2023-08-20T08:04:11.495319Z",
     "shell.execute_reply": "2023-08-20T08:04:11.494302Z"
    },
    "papermill": {
     "duration": 0.366893,
     "end_time": "2023-08-20T08:04:11.497605",
     "exception": false,
     "start_time": "2023-08-20T08:04:11.130712",
     "status": "completed"
    },
    "tags": []
   },
   "outputs": [
    {
     "data": {
      "image/png": "[encoded data removed]",
      "text/plain": [
       "<Figure size 640x480 with 1 Axes>"
      ]
     },
     "metadata": {},
     "output_type": "display_data"
    }
   ],
   "source": [
    "# Show relationship between Bath and Rent\n",
    "plt.scatter(df[\"Bath\"], df[\"Rent\"])\n",
    "plt.show()"
   ]
  },
  {
   "cell_type": "code",
   "execution_count": 26,
   "id": "a3755d47",
   "metadata": {
    "execution": {
     "iopub.execute_input": "2023-08-20T08:04:11.561162Z",
     "iopub.status.busy": "2023-08-20T08:04:11.560516Z",
     "iopub.status.idle": "2023-08-20T08:04:11.577180Z",
     "shell.execute_reply": "2023-08-20T08:04:11.576060Z"
    },
    "papermill": {
     "duration": 0.051869,
     "end_time": "2023-08-20T08:04:11.579862",
     "exception": false,
     "start_time": "2023-08-20T08:04:11.527993",
     "status": "completed"
    },
    "tags": []
   },
   "outputs": [
    {
     "data": {
      "text/html": [
       "<div>\n",
       "<style scoped>\n",
       "    .dataframe tbody tr th:only-of-type {\n",
       "        vertical-align: middle;\n",
       "    }\n",
       "\n",
       "    .dataframe tbody tr th {\n",
       "        vertical-align: top;\n",
       "    }\n",
       "\n",
       "    .dataframe thead th {\n",
       "        text-align: right;\n",
       "    }\n",
       "</style>\n",
       "<table border=\"1\" class=\"dataframe\">\n",
       "  <thead>\n",
       "    <tr style=\"text-align: right;\">\n",
       "      <th></th>\n",
       "      <th>Area</th>\n",
       "      <th>Bed</th>\n",
       "      <th>Bath</th>\n",
       "      <th>Rent</th>\n",
       "    </tr>\n",
       "  </thead>\n",
       "  <tbody>\n",
       "    <tr>\n",
       "      <th>Area</th>\n",
       "      <td>1.000000</td>\n",
       "      <td>0.774539</td>\n",
       "      <td>0.808109</td>\n",
       "      <td>0.747651</td>\n",
       "    </tr>\n",
       "    <tr>\n",
       "      <th>Bed</th>\n",
       "      <td>0.774539</td>\n",
       "      <td>1.000000</td>\n",
       "      <td>0.759157</td>\n",
       "      <td>0.426704</td>\n",
       "    </tr>\n",
       "    <tr>\n",
       "      <th>Bath</th>\n",
       "      <td>0.808109</td>\n",
       "      <td>0.759157</td>\n",
       "      <td>1.000000</td>\n",
       "      <td>0.481407</td>\n",
       "    </tr>\n",
       "    <tr>\n",
       "      <th>Rent</th>\n",
       "      <td>0.747651</td>\n",
       "      <td>0.426704</td>\n",
       "      <td>0.481407</td>\n",
       "      <td>1.000000</td>\n",
       "    </tr>\n",
       "  </tbody>\n",
       "</table>\n",
       "</div>"
      ],
      "text/plain": [
       "          Area       Bed      Bath      Rent\n",
       "Area  1.000000  0.774539  0.808109  0.747651\n",
       "Bed   0.774539  1.000000  0.759157  0.426704\n",
       "Bath  0.808109  0.759157  1.000000  0.481407\n",
       "Rent  0.747651  0.426704  0.481407  1.000000"
      ]
     },
     "execution_count": 26,
     "metadata": {},
     "output_type": "execute_result"
    }
   ],
   "source": [
    "# Show Pearson's Correlation\n",
    "df.corr(method ='pearson')"
   ]
  },
  {
   "cell_type": "code",
   "execution_count": 27,
   "id": "508e5b2c",
   "metadata": {
    "execution": {
     "iopub.execute_input": "2023-08-20T08:04:11.643205Z",
     "iopub.status.busy": "2023-08-20T08:04:11.642693Z",
     "iopub.status.idle": "2023-08-20T08:04:12.079441Z",
     "shell.execute_reply": "2023-08-20T08:04:12.078165Z"
    },
    "papermill": {
     "duration": 0.472298,
     "end_time": "2023-08-20T08:04:12.082456",
     "exception": false,
     "start_time": "2023-08-20T08:04:11.610158",
     "status": "completed"
    },
    "tags": []
   },
   "outputs": [
    {
     "data": {
      "text/plain": [
       "Text(0.5, 1.0, 'Pearson Correlation')"
      ]
     },
     "execution_count": 27,
     "metadata": {},
     "output_type": "execute_result"
    },
    {
     "data": {
      "image/png": "[encoded data removed]",
      "text/plain": [
       "<Figure size 1000x600 with 2 Axes>"
      ]
     },
     "metadata": {},
     "output_type": "display_data"
    }
   ],
   "source": [
    "# Create heatmap\n",
    "plt.figure(figsize=(10,6))\n",
    "heatmap = sns.heatmap(df.corr(method ='pearson'), vmin=0,vmax=1, annot=True)\n",
    "plt.title(\"Pearson Correlation\")"
   ]
  },
  {
   "cell_type": "markdown",
   "id": "d55a529f",
   "metadata": {
    "papermill": {
     "duration": 0.029967,
     "end_time": "2023-08-20T08:04:12.142659",
     "exception": false,
     "start_time": "2023-08-20T08:04:12.112692",
     "status": "completed"
    },
    "tags": []
   },
   "source": [
    "As it is observed, Area has the highest impact on Rent (0.75). No. of bedrooms and no. of bathrooms have too little to do with the rent of the houses (0.43 and 0.48, consecutively)."
   ]
  },
  {
   "cell_type": "markdown",
   "id": "f99e60f9",
   "metadata": {
    "papermill": {
     "duration": 0.029538,
     "end_time": "2023-08-20T08:04:12.202112",
     "exception": false,
     "start_time": "2023-08-20T08:04:12.172574",
     "status": "completed"
    },
    "tags": []
   },
   "source": [
    "## **Some Questions Answered**"
   ]
  },
  {
   "cell_type": "markdown",
   "id": "0615329f",
   "metadata": {
    "papermill": {
     "duration": 0.029085,
     "end_time": "2023-08-20T08:04:12.261041",
     "exception": false,
     "start_time": "2023-08-20T08:04:12.231956",
     "status": "completed"
    },
    "tags": []
   },
   "source": [
    "#### **Question 1: Which location has the highest average rent? Show top 5 locations.**"
   ]
  },
  {
   "cell_type": "code",
   "execution_count": 28,
   "id": "db1552ba",
   "metadata": {
    "execution": {
     "iopub.execute_input": "2023-08-20T08:04:12.327854Z",
     "iopub.status.busy": "2023-08-20T08:04:12.326973Z",
     "iopub.status.idle": "2023-08-20T08:04:12.350718Z",
     "shell.execute_reply": "2023-08-20T08:04:12.349364Z"
    },
    "papermill": {
     "duration": 0.060471,
     "end_time": "2023-08-20T08:04:12.353378",
     "exception": false,
     "start_time": "2023-08-20T08:04:12.292907",
     "status": "completed"
    },
    "tags": []
   },
   "outputs": [
    {
     "data": {
      "text/plain": [
       "Location\n",
       "Baridhara         141273.621891\n",
       "Gulshan           125727.937500\n",
       "Banani DOHS        98318.181818\n",
       "Mohakhali DOHS     89727.272727\n",
       "Banani             81178.564286\n",
       "Name: Rent, dtype: float64"
      ]
     },
     "execution_count": 28,
     "metadata": {},
     "output_type": "execute_result"
    }
   ],
   "source": [
    "df.groupby(['Location'])['Rent'].mean().sort_values(ascending=False).nlargest(5)"
   ]
  },
  {
   "cell_type": "markdown",
   "id": "3c4c0c37",
   "metadata": {
    "papermill": {
     "duration": 0.031011,
     "end_time": "2023-08-20T08:04:12.414293",
     "exception": false,
     "start_time": "2023-08-20T08:04:12.383282",
     "status": "completed"
    },
    "tags": []
   },
   "source": [
    "#### **Question 2: Which location has the lowest average rent? Show bottom 5 locations.**"
   ]
  },
  {
   "cell_type": "code",
   "execution_count": 29,
   "id": "50adde39",
   "metadata": {
    "execution": {
     "iopub.execute_input": "2023-08-20T08:04:12.481111Z",
     "iopub.status.busy": "2023-08-20T08:04:12.480586Z",
     "iopub.status.idle": "2023-08-20T08:04:12.507870Z",
     "shell.execute_reply": "2023-08-20T08:04:12.505794Z"
    },
    "papermill": {
     "duration": 0.068153,
     "end_time": "2023-08-20T08:04:12.512104",
     "exception": false,
     "start_time": "2023-08-20T08:04:12.443951",
     "status": "completed"
    },
    "tags": []
   },
   "outputs": [
    {
     "data": {
      "text/plain": [
       "Location\n",
       "Demra           11642.857143\n",
       "Shyampur        11888.888889\n",
       "Khilkhet        12058.064516\n",
       "Dakshin Khan    12060.861423\n",
       "Uttar Khan      12411.764706\n",
       "Name: Rent, dtype: float64"
      ]
     },
     "execution_count": 29,
     "metadata": {},
     "output_type": "execute_result"
    }
   ],
   "source": [
    "df.groupby(['Location'])['Rent'].mean().sort_values(ascending=True).nsmallest(5)"
   ]
  },
  {
   "cell_type": "markdown",
   "id": "27930216",
   "metadata": {
    "papermill": {
     "duration": 0.031393,
     "end_time": "2023-08-20T08:04:12.580466",
     "exception": false,
     "start_time": "2023-08-20T08:04:12.549073",
     "status": "completed"
    },
    "tags": []
   },
   "source": [
    "#### **Question 3: Which location has the largest houses on average?**"
   ]
  },
  {
   "cell_type": "code",
   "execution_count": 30,
   "id": "a75f9dbd",
   "metadata": {
    "execution": {
     "iopub.execute_input": "2023-08-20T08:04:12.645279Z",
     "iopub.status.busy": "2023-08-20T08:04:12.644785Z",
     "iopub.status.idle": "2023-08-20T08:04:12.664333Z",
     "shell.execute_reply": "2023-08-20T08:04:12.662770Z"
    },
    "papermill": {
     "duration": 0.055668,
     "end_time": "2023-08-20T08:04:12.667187",
     "exception": false,
     "start_time": "2023-08-20T08:04:12.611519",
     "status": "completed"
    },
    "tags": []
   },
   "outputs": [
    {
     "data": {
      "text/plain": [
       "Location\n",
       "Gulshan           2692.720588\n",
       "Baridhara         2604.925373\n",
       "Banani DOHS       2466.727273\n",
       "Mohakhali DOHS    2350.000000\n",
       "Banani            2295.500000\n",
       "Name: Area, dtype: float64"
      ]
     },
     "execution_count": 30,
     "metadata": {},
     "output_type": "execute_result"
    }
   ],
   "source": [
    "df.groupby(['Location'])['Area'].mean().sort_values(ascending=False).nlargest(5)"
   ]
  },
  {
   "cell_type": "markdown",
   "id": "20776cd5",
   "metadata": {
    "papermill": {
     "duration": 0.029772,
     "end_time": "2023-08-20T08:04:12.728043",
     "exception": false,
     "start_time": "2023-08-20T08:04:12.698271",
     "status": "completed"
    },
    "tags": []
   },
   "source": [
    "#### **Question 4: Which location has the smallest houses on average?**"
   ]
  },
  {
   "cell_type": "code",
   "execution_count": 31,
   "id": "98eff9b6",
   "metadata": {
    "execution": {
     "iopub.execute_input": "2023-08-20T08:04:12.790530Z",
     "iopub.status.busy": "2023-08-20T08:04:12.790058Z",
     "iopub.status.idle": "2023-08-20T08:04:12.807508Z",
     "shell.execute_reply": "2023-08-20T08:04:12.806350Z"
    },
    "papermill": {
     "duration": 0.052062,
     "end_time": "2023-08-20T08:04:12.809990",
     "exception": false,
     "start_time": "2023-08-20T08:04:12.757928",
     "status": "completed"
    },
    "tags": []
   },
   "outputs": [
    {
     "data": {
      "text/plain": [
       "Location\n",
       "Sadarghat       675.000000\n",
       "Kotwali         686.363636\n",
       "Mohakhali       687.142857\n",
       "Shahjahanpur    725.254237\n",
       "Bangshal        726.000000\n",
       "Name: Area, dtype: float64"
      ]
     },
     "execution_count": 31,
     "metadata": {},
     "output_type": "execute_result"
    }
   ],
   "source": [
    "df.groupby(['Location'])['Area'].mean().sort_values(ascending=True).nsmallest(5)"
   ]
  },
  {
   "cell_type": "markdown",
   "id": "825a0262",
   "metadata": {
    "papermill": {
     "duration": 0.031909,
     "end_time": "2023-08-20T08:04:12.873870",
     "exception": false,
     "start_time": "2023-08-20T08:04:12.841961",
     "status": "completed"
    },
    "tags": []
   },
   "source": [
    "#### **Question 5: What is the average house rent in Dhaka?**"
   ]
  },
  {
   "cell_type": "code",
   "execution_count": 32,
   "id": "ca421848",
   "metadata": {
    "execution": {
     "iopub.execute_input": "2023-08-20T08:04:12.939811Z",
     "iopub.status.busy": "2023-08-20T08:04:12.939385Z",
     "iopub.status.idle": "2023-08-20T08:04:12.945759Z",
     "shell.execute_reply": "2023-08-20T08:04:12.944844Z"
    },
    "papermill": {
     "duration": 0.042843,
     "end_time": "2023-08-20T08:04:12.948096",
     "exception": false,
     "start_time": "2023-08-20T08:04:12.905253",
     "status": "completed"
    },
    "tags": []
   },
   "outputs": [
    {
     "name": "stdout",
     "output_type": "stream",
     "text": [
      "Average Rent in Dhaka: 21009.554799041234\n"
     ]
    }
   ],
   "source": [
    "print(\"Average Rent in Dhaka:\", df['Rent'].mean())"
   ]
  },
  {
   "cell_type": "markdown",
   "id": "6e8676e4",
   "metadata": {
    "papermill": {
     "duration": 0.031984,
     "end_time": "2023-08-20T08:04:13.011783",
     "exception": false,
     "start_time": "2023-08-20T08:04:12.979799",
     "status": "completed"
    },
    "tags": []
   },
   "source": [
    "#### **Question 6: What is the average house size (in sqft) in Dhaka?**"
   ]
  },
  {
   "cell_type": "code",
   "execution_count": 33,
   "id": "e5d1ef9f",
   "metadata": {
    "execution": {
     "iopub.execute_input": "2023-08-20T08:04:13.077472Z",
     "iopub.status.busy": "2023-08-20T08:04:13.077049Z",
     "iopub.status.idle": "2023-08-20T08:04:13.084265Z",
     "shell.execute_reply": "2023-08-20T08:04:13.082568Z"
    },
    "papermill": {
     "duration": 0.043095,
     "end_time": "2023-08-20T08:04:13.086696",
     "exception": false,
     "start_time": "2023-08-20T08:04:13.043601",
     "status": "completed"
    },
    "tags": []
   },
   "outputs": [
    {
     "name": "stdout",
     "output_type": "stream",
     "text": [
      "Average Size of Houses in Dhaka: 1057\n"
     ]
    }
   ],
   "source": [
    "print(\"Average Size of Houses in Dhaka:\", round(df['Area'].mean()))"
   ]
  },
  {
   "cell_type": "markdown",
   "id": "84a3e7af",
   "metadata": {
    "papermill": {
     "duration": 0.031155,
     "end_time": "2023-08-20T08:04:13.150240",
     "exception": false,
     "start_time": "2023-08-20T08:04:13.119085",
     "status": "completed"
    },
    "tags": []
   },
   "source": [
    "## **Feature Creation**\n",
    "Before jumping into building and training a model, we are going to create a new feature `Avg House Price`. For this, we are going to browse through the website: [bproperty.com](https://www.bproperty.com/) and manually search the house price of different areas. Then we are going to get the average with the highest and the lowest house price in that area."
   ]
  },
  {
   "cell_type": "code",
   "execution_count": 34,
   "id": "f43ce475",
   "metadata": {
    "execution": {
     "iopub.execute_input": "2023-08-20T08:04:13.215849Z",
     "iopub.status.busy": "2023-08-20T08:04:13.215426Z",
     "iopub.status.idle": "2023-08-20T08:04:13.227468Z",
     "shell.execute_reply": "2023-08-20T08:04:13.226102Z"
    },
    "papermill": {
     "duration": 0.047925,
     "end_time": "2023-08-20T08:04:13.229986",
     "exception": false,
     "start_time": "2023-08-20T08:04:13.182061",
     "status": "completed"
    },
    "tags": []
   },
   "outputs": [
    {
     "data": {
      "text/plain": [
       "array(['Bashundhara R-A', 'Tejgaon', 'Mohammadpur', 'Gulshan',\n",
       "       'Baridhara', 'Hazaribag', 'Mirpur', 'Nikunja', 'Uttara',\n",
       "       'Khilgaon', 'Ibrahimpur', 'Badda', 'Adabor', 'Jatra Bari',\n",
       "       'Malibagh', 'Banani', 'Kakrail', 'Dhanmondi', 'Maghbazar',\n",
       "       'Kalachandpur', 'Niketan', 'Eskaton', 'Banasree', 'Bashabo',\n",
       "       'Baridhara DOHS', 'Aftab Nagar', 'Lalmatia', 'Dakshin Khan',\n",
       "       'Mohakhali DOHS', 'Sutrapur', 'Hatirpool', 'Agargaon', 'Rampura',\n",
       "       'Cantonment', 'Shahbagh', 'Khilkhet', 'Motijheel', 'Shantinagar',\n",
       "       'Shegunbagicha', 'Kathalbagan', 'Shyamoli', 'Kalabagan', 'Demra',\n",
       "       'Kuril', 'Mohakhali', 'Lalbagh', 'New Market', 'Kafrul',\n",
       "       'Kachukhet', 'Turag', 'Nadda', 'Shyampur', 'Maniknagar',\n",
       "       'Banani DOHS', 'Shiddheswari', 'Bangshal', 'Paribagh',\n",
       "       'Joar Sahara', 'Mugdapara', 'North Shahjahanpur', 'Kotwali',\n",
       "       'Shahjahanpur', 'Uttar Khan', 'Taltola', 'Sadarghat',\n",
       "       'Banglamotors', 'Zafrabad', 'Keraniganj'], dtype=object)"
      ]
     },
     "execution_count": 34,
     "metadata": {},
     "output_type": "execute_result"
    }
   ],
   "source": [
    "# Get the names of all locations\n",
    "df['Location'].unique()"
   ]
  },
  {
   "cell_type": "code",
   "execution_count": 35,
   "id": "4a66242f",
   "metadata": {
    "execution": {
     "iopub.execute_input": "2023-08-20T08:04:13.296591Z",
     "iopub.status.busy": "2023-08-20T08:04:13.296173Z",
     "iopub.status.idle": "2023-08-20T08:04:13.316923Z",
     "shell.execute_reply": "2023-08-20T08:04:13.315727Z"
    },
    "papermill": {
     "duration": 0.057219,
     "end_time": "2023-08-20T08:04:13.319853",
     "exception": false,
     "start_time": "2023-08-20T08:04:13.262634",
     "status": "completed"
    },
    "tags": []
   },
   "outputs": [],
   "source": [
    "avg_price_dict = {\n",
    "    'Bashundhara R-A': 31700000, \n",
    "    'Tejgaon': 12000000, \n",
    "    'Mohammadpur': 27350000, \n",
    "    'Gulshan': 59750000,\n",
    "    'Baridhara': 47850000, \n",
    "    'Hazaribag': 8250000, \n",
    "    'Mirpur': 23125000, \n",
    "    'Nikunja': 9000000, \n",
    "    'Uttara': 30500000,\n",
    "    'Khilgaon': 18000000, \n",
    "    'Ibrahimpur': 7150000, \n",
    "    'Badda': 12100000, \n",
    "    'Adabor': 12950000, \n",
    "    'Jatra Bari': 5950000,\n",
    "    'Malibagh': 11650000, \n",
    "    'Banani': 32000000, \n",
    "    'Kakrail': 17050000, \n",
    "    'Dhanmondi': 31575000, \n",
    "    'Maghbazar': 10050000,\n",
    "    'Kalachandpur': 6430000, \n",
    "    'Niketan': 28250000, \n",
    "    'Eskaton': 17000000, \n",
    "    'Banasree': 12450000, \n",
    "    'Bashabo': 6800000,\n",
    "    'Baridhara DOHS': 31250000, \n",
    "    'Aftab Nagar': 14500000, \n",
    "    'Lalmatia': 23400000, \n",
    "    'Dakshin Khan': 10300000,\n",
    "    'Mohakhali DOHS': 31600000, \n",
    "    'Sutrapur': 10500000, \n",
    "    'Hatirpool': 11062500, \n",
    "    'Agargaon': 7450000, \n",
    "    'Rampura': 10900000,\n",
    "    'Cantonment': 28100000, \n",
    "    'Shahbagh': 15900000, \n",
    "    'Khilkhet': 5530500, \n",
    "    'Motijheel': 11312000, \n",
    "    'Shantinagar': 16500000,\n",
    "    'Shegunbagicha': 17000000, \n",
    "    'Kathalbagan': 12250000, \n",
    "    'Shyamoli': 13250000, \n",
    "    'Kalabagan': 13500000, \n",
    "    'Demra': 5873000,\n",
    "    'Kuril': 7575000, \n",
    "    'Mohakhali': 7800000, \n",
    "    'Lalbagh': 8257500, \n",
    "    'New Market': 15100000, \n",
    "    'Kafrul': 11937500,\n",
    "    'Kachukhet': 8155000, \n",
    "    'Turag': 12000000, \n",
    "    'Nadda': 7150000, \n",
    "    'Shyampur': 5800000, \n",
    "    'Maniknagar': 7750000,\n",
    "    'Banani DOHS': 59750000, \n",
    "    'Shiddheswari': 17500000, \n",
    "    'Bangshal': 5550000, \n",
    "    'Paribagh': 12250000,\n",
    "    'Joar Sahara': 6550000, \n",
    "    'Mugdapara': 8850000, \n",
    "    'North Shahjahanpur': 6840000, \n",
    "    'Kotwali': 5950000,\n",
    "    'Shahjahanpur': 6840000, \n",
    "    'Uttar Khan': 5250000, \n",
    "    'Taltola': 6000000, \n",
    "    'Sadarghat': 5950000,\n",
    "    'Banglamotors': 12250000, \n",
    "    'Zafrabad': 5150000, \n",
    "    'Keraniganj': 12250000,\n",
    "}\n",
    "# Create a Series by mapping the \"Location\" column to the dictionary values\n",
    "avg_price_series = df['Location'].map(avg_price_dict)\n",
    "\n",
    "# Create a new column \"avg_price\" using the Series\n",
    "df['avg_price'] = avg_price_series\n"
   ]
  },
  {
   "cell_type": "code",
   "execution_count": 36,
   "id": "f6b12363",
   "metadata": {
    "execution": {
     "iopub.execute_input": "2023-08-20T08:04:13.385291Z",
     "iopub.status.busy": "2023-08-20T08:04:13.384844Z",
     "iopub.status.idle": "2023-08-20T08:04:13.396665Z",
     "shell.execute_reply": "2023-08-20T08:04:13.395754Z"
    },
    "papermill": {
     "duration": 0.047474,
     "end_time": "2023-08-20T08:04:13.399217",
     "exception": false,
     "start_time": "2023-08-20T08:04:13.351743",
     "status": "completed"
    },
    "tags": []
   },
   "outputs": [
    {
     "data": {
      "text/html": [
       "<div>\n",
       "<style scoped>\n",
       "    .dataframe tbody tr th:only-of-type {\n",
       "        vertical-align: middle;\n",
       "    }\n",
       "\n",
       "    .dataframe tbody tr th {\n",
       "        vertical-align: top;\n",
       "    }\n",
       "\n",
       "    .dataframe thead th {\n",
       "        text-align: right;\n",
       "    }\n",
       "</style>\n",
       "<table border=\"1\" class=\"dataframe\">\n",
       "  <thead>\n",
       "    <tr style=\"text-align: right;\">\n",
       "      <th></th>\n",
       "      <th>Location</th>\n",
       "      <th>Area</th>\n",
       "      <th>Bed</th>\n",
       "      <th>Bath</th>\n",
       "      <th>Rent</th>\n",
       "      <th>avg_price</th>\n",
       "    </tr>\n",
       "  </thead>\n",
       "  <tbody>\n",
       "    <tr>\n",
       "      <th>0</th>\n",
       "      <td>Bashundhara R-A</td>\n",
       "      <td>1600</td>\n",
       "      <td>3</td>\n",
       "      <td>3</td>\n",
       "      <td>20000</td>\n",
       "      <td>31700000</td>\n",
       "    </tr>\n",
       "    <tr>\n",
       "      <th>1</th>\n",
       "      <td>Tejgaon</td>\n",
       "      <td>900</td>\n",
       "      <td>2</td>\n",
       "      <td>2</td>\n",
       "      <td>20000</td>\n",
       "      <td>12000000</td>\n",
       "    </tr>\n",
       "    <tr>\n",
       "      <th>2</th>\n",
       "      <td>Mohammadpur</td>\n",
       "      <td>1250</td>\n",
       "      <td>3</td>\n",
       "      <td>3</td>\n",
       "      <td>18000</td>\n",
       "      <td>27350000</td>\n",
       "    </tr>\n",
       "    <tr>\n",
       "      <th>3</th>\n",
       "      <td>Gulshan</td>\n",
       "      <td>2200</td>\n",
       "      <td>3</td>\n",
       "      <td>4</td>\n",
       "      <td>75000</td>\n",
       "      <td>59750000</td>\n",
       "    </tr>\n",
       "    <tr>\n",
       "      <th>4</th>\n",
       "      <td>Baridhara</td>\n",
       "      <td>2200</td>\n",
       "      <td>3</td>\n",
       "      <td>3</td>\n",
       "      <td>75000</td>\n",
       "      <td>47850000</td>\n",
       "    </tr>\n",
       "  </tbody>\n",
       "</table>\n",
       "</div>"
      ],
      "text/plain": [
       "          Location  Area  Bed  Bath   Rent  avg_price\n",
       "0  Bashundhara R-A  1600    3     3  20000   31700000\n",
       "1          Tejgaon   900    2     2  20000   12000000\n",
       "2      Mohammadpur  1250    3     3  18000   27350000\n",
       "3          Gulshan  2200    3     4  75000   59750000\n",
       "4        Baridhara  2200    3     3  75000   47850000"
      ]
     },
     "execution_count": 36,
     "metadata": {},
     "output_type": "execute_result"
    }
   ],
   "source": [
    "# Display the first 5 rows\n",
    "df.head()"
   ]
  },
  {
   "cell_type": "markdown",
   "id": "8dbd78fd",
   "metadata": {
    "papermill": {
     "duration": 0.033004,
     "end_time": "2023-08-20T08:04:13.464115",
     "exception": false,
     "start_time": "2023-08-20T08:04:13.431111",
     "status": "completed"
    },
    "tags": []
   },
   "source": [
    "### **Scaling the features**\n",
    "As we can see the columns have values at different scales. So we need to treat this accordingly."
   ]
  },
  {
   "cell_type": "code",
   "execution_count": 37,
   "id": "64cbbeb4",
   "metadata": {
    "execution": {
     "iopub.execute_input": "2023-08-20T08:04:13.531669Z",
     "iopub.status.busy": "2023-08-20T08:04:13.530955Z",
     "iopub.status.idle": "2023-08-20T08:04:13.538216Z",
     "shell.execute_reply": "2023-08-20T08:04:13.537307Z"
    },
    "papermill": {
     "duration": 0.044394,
     "end_time": "2023-08-20T08:04:13.541478",
     "exception": false,
     "start_time": "2023-08-20T08:04:13.497084",
     "status": "completed"
    },
    "tags": []
   },
   "outputs": [
    {
     "name": "stdout",
     "output_type": "stream",
     "text": [
      "Minimum Area: 200\n",
      "Maximum Area: 6300\n",
      "Minimum Average Price: 5150000\n",
      "Maximum Average Price: 59750000\n"
     ]
    }
   ],
   "source": [
    "print(\"Minimum Area:\", df['Area'].min())\n",
    "print(\"Maximum Area:\", df['Area'].max())\n",
    "print(\"Minimum Average Price:\", df['avg_price'].min())\n",
    "print(\"Maximum Average Price:\", df['avg_price'].max())"
   ]
  },
  {
   "cell_type": "code",
   "execution_count": 38,
   "id": "76a99606",
   "metadata": {
    "execution": {
     "iopub.execute_input": "2023-08-20T08:04:13.610662Z",
     "iopub.status.busy": "2023-08-20T08:04:13.610242Z",
     "iopub.status.idle": "2023-08-20T08:04:13.626542Z",
     "shell.execute_reply": "2023-08-20T08:04:13.625121Z"
    },
    "papermill": {
     "duration": 0.054585,
     "end_time": "2023-08-20T08:04:13.628960",
     "exception": false,
     "start_time": "2023-08-20T08:04:13.574375",
     "status": "completed"
    },
    "tags": []
   },
   "outputs": [
    {
     "data": {
      "text/html": [
       "<div>\n",
       "<style scoped>\n",
       "    .dataframe tbody tr th:only-of-type {\n",
       "        vertical-align: middle;\n",
       "    }\n",
       "\n",
       "    .dataframe tbody tr th {\n",
       "        vertical-align: top;\n",
       "    }\n",
       "\n",
       "    .dataframe thead th {\n",
       "        text-align: right;\n",
       "    }\n",
       "</style>\n",
       "<table border=\"1\" class=\"dataframe\">\n",
       "  <thead>\n",
       "    <tr style=\"text-align: right;\">\n",
       "      <th></th>\n",
       "      <th>Location</th>\n",
       "      <th>Area</th>\n",
       "      <th>Bed</th>\n",
       "      <th>Bath</th>\n",
       "      <th>Rent</th>\n",
       "      <th>avg_price</th>\n",
       "    </tr>\n",
       "  </thead>\n",
       "  <tbody>\n",
       "    <tr>\n",
       "      <th>0</th>\n",
       "      <td>Bashundhara R-A</td>\n",
       "      <td>16.0</td>\n",
       "      <td>3</td>\n",
       "      <td>3</td>\n",
       "      <td>20000</td>\n",
       "      <td>31.70</td>\n",
       "    </tr>\n",
       "    <tr>\n",
       "      <th>1</th>\n",
       "      <td>Tejgaon</td>\n",
       "      <td>9.0</td>\n",
       "      <td>2</td>\n",
       "      <td>2</td>\n",
       "      <td>20000</td>\n",
       "      <td>12.00</td>\n",
       "    </tr>\n",
       "    <tr>\n",
       "      <th>2</th>\n",
       "      <td>Mohammadpur</td>\n",
       "      <td>12.5</td>\n",
       "      <td>3</td>\n",
       "      <td>3</td>\n",
       "      <td>18000</td>\n",
       "      <td>27.35</td>\n",
       "    </tr>\n",
       "    <tr>\n",
       "      <th>3</th>\n",
       "      <td>Gulshan</td>\n",
       "      <td>22.0</td>\n",
       "      <td>3</td>\n",
       "      <td>4</td>\n",
       "      <td>75000</td>\n",
       "      <td>59.75</td>\n",
       "    </tr>\n",
       "    <tr>\n",
       "      <th>4</th>\n",
       "      <td>Baridhara</td>\n",
       "      <td>22.0</td>\n",
       "      <td>3</td>\n",
       "      <td>3</td>\n",
       "      <td>75000</td>\n",
       "      <td>47.85</td>\n",
       "    </tr>\n",
       "  </tbody>\n",
       "</table>\n",
       "</div>"
      ],
      "text/plain": [
       "          Location  Area  Bed  Bath   Rent  avg_price\n",
       "0  Bashundhara R-A  16.0    3     3  20000      31.70\n",
       "1          Tejgaon   9.0    2     2  20000      12.00\n",
       "2      Mohammadpur  12.5    3     3  18000      27.35\n",
       "3          Gulshan  22.0    3     4  75000      59.75\n",
       "4        Baridhara  22.0    3     3  75000      47.85"
      ]
     },
     "execution_count": 38,
     "metadata": {},
     "output_type": "execute_result"
    }
   ],
   "source": [
    "# Divide values in the \"Area\" column by 100\n",
    "df['Area'] = df['Area'] / 100\n",
    "\n",
    "# Divide values in the \"avg_price\" column by 1000000\n",
    "df['avg_price'] = df['avg_price'] / 1000000\n",
    "\n",
    "df.head()"
   ]
  },
  {
   "cell_type": "markdown",
   "id": "3b9346b7",
   "metadata": {
    "papermill": {
     "duration": 0.032175,
     "end_time": "2023-08-20T08:04:13.693581",
     "exception": false,
     "start_time": "2023-08-20T08:04:13.661406",
     "status": "completed"
    },
    "tags": []
   },
   "source": [
    "### **Avoiding Sparsity in Dataset**\n",
    "Let's check the number of locations we have"
   ]
  },
  {
   "cell_type": "code",
   "execution_count": 39,
   "id": "ef7fbfc7",
   "metadata": {
    "execution": {
     "iopub.execute_input": "2023-08-20T08:04:13.760806Z",
     "iopub.status.busy": "2023-08-20T08:04:13.759858Z",
     "iopub.status.idle": "2023-08-20T08:04:13.772267Z",
     "shell.execute_reply": "2023-08-20T08:04:13.771320Z"
    },
    "papermill": {
     "duration": 0.04867,
     "end_time": "2023-08-20T08:04:13.774511",
     "exception": false,
     "start_time": "2023-08-20T08:04:13.725841",
     "status": "completed"
    },
    "tags": []
   },
   "outputs": [
    {
     "data": {
      "text/plain": [
       "68"
      ]
     },
     "execution_count": 39,
     "metadata": {},
     "output_type": "execute_result"
    }
   ],
   "source": [
    "len(df['Location'].unique())"
   ]
  },
  {
   "cell_type": "markdown",
   "id": "fa962e9c",
   "metadata": {
    "papermill": {
     "duration": 0.032451,
     "end_time": "2023-08-20T08:04:13.838398",
     "exception": false,
     "start_time": "2023-08-20T08:04:13.805947",
     "status": "completed"
    },
    "tags": []
   },
   "source": [
    "One-hot encoding a categorical column with 68 different locations can potentially lead to a larger and more sparse dataset, which might have implications on memory usage and computation efficiency. Since we already quantified the locations using the average house price, we may drop the `Location` column."
   ]
  },
  {
   "cell_type": "code",
   "execution_count": 40,
   "id": "8a4bb1dd",
   "metadata": {
    "execution": {
     "iopub.execute_input": "2023-08-20T08:04:13.904355Z",
     "iopub.status.busy": "2023-08-20T08:04:13.903580Z",
     "iopub.status.idle": "2023-08-20T08:04:13.910452Z",
     "shell.execute_reply": "2023-08-20T08:04:13.909310Z"
    },
    "papermill": {
     "duration": 0.042585,
     "end_time": "2023-08-20T08:04:13.912813",
     "exception": false,
     "start_time": "2023-08-20T08:04:13.870228",
     "status": "completed"
    },
    "tags": []
   },
   "outputs": [],
   "source": [
    "df.drop(['Location'], axis=1, inplace=True)"
   ]
  },
  {
   "cell_type": "markdown",
   "id": "5efcbcc6",
   "metadata": {
    "papermill": {
     "duration": 0.031133,
     "end_time": "2023-08-20T08:04:13.975670",
     "exception": false,
     "start_time": "2023-08-20T08:04:13.944537",
     "status": "completed"
    },
    "tags": []
   },
   "source": [
    "### **Normalizing Features**"
   ]
  },
  {
   "cell_type": "code",
   "execution_count": 41,
   "id": "e3d747ca",
   "metadata": {
    "execution": {
     "iopub.execute_input": "2023-08-20T08:04:14.041989Z",
     "iopub.status.busy": "2023-08-20T08:04:14.041266Z",
     "iopub.status.idle": "2023-08-20T08:04:14.066253Z",
     "shell.execute_reply": "2023-08-20T08:04:14.064859Z"
    },
    "papermill": {
     "duration": 0.061779,
     "end_time": "2023-08-20T08:04:14.069172",
     "exception": false,
     "start_time": "2023-08-20T08:04:14.007393",
     "status": "completed"
    },
    "tags": []
   },
   "outputs": [
    {
     "data": {
      "text/html": [
       "<div>\n",
       "<style scoped>\n",
       "    .dataframe tbody tr th:only-of-type {\n",
       "        vertical-align: middle;\n",
       "    }\n",
       "\n",
       "    .dataframe tbody tr th {\n",
       "        vertical-align: top;\n",
       "    }\n",
       "\n",
       "    .dataframe thead th {\n",
       "        text-align: right;\n",
       "    }\n",
       "</style>\n",
       "<table border=\"1\" class=\"dataframe\">\n",
       "  <thead>\n",
       "    <tr style=\"text-align: right;\">\n",
       "      <th></th>\n",
       "      <th>Area</th>\n",
       "      <th>Bed</th>\n",
       "      <th>Bath</th>\n",
       "      <th>Rent</th>\n",
       "      <th>avg_price</th>\n",
       "    </tr>\n",
       "  </thead>\n",
       "  <tbody>\n",
       "    <tr>\n",
       "      <th>0</th>\n",
       "      <td>0.229508</td>\n",
       "      <td>0.4</td>\n",
       "      <td>0.285714</td>\n",
       "      <td>20000</td>\n",
       "      <td>0.486264</td>\n",
       "    </tr>\n",
       "    <tr>\n",
       "      <th>1</th>\n",
       "      <td>0.114754</td>\n",
       "      <td>0.2</td>\n",
       "      <td>0.142857</td>\n",
       "      <td>20000</td>\n",
       "      <td>0.125458</td>\n",
       "    </tr>\n",
       "    <tr>\n",
       "      <th>2</th>\n",
       "      <td>0.172131</td>\n",
       "      <td>0.4</td>\n",
       "      <td>0.285714</td>\n",
       "      <td>18000</td>\n",
       "      <td>0.406593</td>\n",
       "    </tr>\n",
       "    <tr>\n",
       "      <th>3</th>\n",
       "      <td>0.327869</td>\n",
       "      <td>0.4</td>\n",
       "      <td>0.428571</td>\n",
       "      <td>75000</td>\n",
       "      <td>1.000000</td>\n",
       "    </tr>\n",
       "    <tr>\n",
       "      <th>4</th>\n",
       "      <td>0.327869</td>\n",
       "      <td>0.4</td>\n",
       "      <td>0.285714</td>\n",
       "      <td>75000</td>\n",
       "      <td>0.782051</td>\n",
       "    </tr>\n",
       "  </tbody>\n",
       "</table>\n",
       "</div>"
      ],
      "text/plain": [
       "       Area  Bed      Bath   Rent  avg_price\n",
       "0  0.229508  0.4  0.285714  20000   0.486264\n",
       "1  0.114754  0.2  0.142857  20000   0.125458\n",
       "2  0.172131  0.4  0.285714  18000   0.406593\n",
       "3  0.327869  0.4  0.428571  75000   1.000000\n",
       "4  0.327869  0.4  0.285714  75000   0.782051"
      ]
     },
     "execution_count": 41,
     "metadata": {},
     "output_type": "execute_result"
    }
   ],
   "source": [
    "# Columns to normalize\n",
    "columns_to_normalize = ['Area', 'Bed', 'Bath', 'avg_price']\n",
    "\n",
    "# Initialize the MinMaxScaler\n",
    "scaler = MinMaxScaler()\n",
    "\n",
    "# Fit and transform the selected columns\n",
    "df[columns_to_normalize] = scaler.fit_transform(df[columns_to_normalize])\n",
    "\n",
    "# Display the first 5 rows\n",
    "df.head()"
   ]
  },
  {
   "cell_type": "markdown",
   "id": "008d7664",
   "metadata": {
    "papermill": {
     "duration": 0.03162,
     "end_time": "2023-08-20T08:04:14.132950",
     "exception": false,
     "start_time": "2023-08-20T08:04:14.101330",
     "status": "completed"
    },
    "tags": []
   },
   "source": [
    "### **Splitting Train and Test Datasets**"
   ]
  },
  {
   "cell_type": "code",
   "execution_count": 42,
   "id": "cfdc80b1",
   "metadata": {
    "execution": {
     "iopub.execute_input": "2023-08-20T08:04:14.199239Z",
     "iopub.status.busy": "2023-08-20T08:04:14.197928Z",
     "iopub.status.idle": "2023-08-20T08:04:14.215147Z",
     "shell.execute_reply": "2023-08-20T08:04:14.213322Z"
    },
    "papermill": {
     "duration": 0.053187,
     "end_time": "2023-08-20T08:04:14.217884",
     "exception": false,
     "start_time": "2023-08-20T08:04:14.164697",
     "status": "completed"
    },
    "tags": []
   },
   "outputs": [
    {
     "name": "stdout",
     "output_type": "stream",
     "text": [
      "Shape of X_train (23029, 4)\n",
      "Shape of X_test (5758, 4)\n",
      "Shape of y_train (23029,)\n",
      "Shape of y_test (5758,)\n"
     ]
    }
   ],
   "source": [
    "features = df[['Area', 'Bed', 'Bath', 'avg_price']]\n",
    "target = df['Rent']\n",
    "\n",
    "# Split the dataset into training and test sets (80% for training, 20% for testing)\n",
    "X_train, X_test, y_train, y_test = train_test_split(features, target, test_size=0.2, random_state=42)\n",
    "\n",
    "print(\"Shape of X_train\", X_train.shape)\n",
    "print(\"Shape of X_test\", X_test.shape)\n",
    "print(\"Shape of y_train\", y_train.shape)\n",
    "print(\"Shape of y_test\", y_test.shape)"
   ]
  },
  {
   "cell_type": "markdown",
   "id": "8cbc6e3e",
   "metadata": {
    "papermill": {
     "duration": 0.032414,
     "end_time": "2023-08-20T08:04:14.282303",
     "exception": false,
     "start_time": "2023-08-20T08:04:14.249889",
     "status": "completed"
    },
    "tags": []
   },
   "source": [
    "## **Model Building & Training**\n",
    "\n",
    "We are going to try multiple ML algorithms and Neural Networks. To evaluate performance, we are going to use `Mean Squared Error (MSE)`"
   ]
  },
  {
   "cell_type": "markdown",
   "id": "741985a2",
   "metadata": {
    "papermill": {
     "duration": 0.03159,
     "end_time": "2023-08-20T08:04:14.346982",
     "exception": false,
     "start_time": "2023-08-20T08:04:14.315392",
     "status": "completed"
    },
    "tags": []
   },
   "source": [
    "#### **Machine Learning Models**"
   ]
  },
  {
   "cell_type": "code",
   "execution_count": 43,
   "id": "ad23d801",
   "metadata": {
    "execution": {
     "iopub.execute_input": "2023-08-20T08:04:14.415130Z",
     "iopub.status.busy": "2023-08-20T08:04:14.413970Z",
     "iopub.status.idle": "2023-08-20T08:04:14.469419Z",
     "shell.execute_reply": "2023-08-20T08:04:14.464597Z"
    },
    "papermill": {
     "duration": 0.094067,
     "end_time": "2023-08-20T08:04:14.473831",
     "exception": false,
     "start_time": "2023-08-20T08:04:14.379764",
     "status": "completed"
    },
    "tags": []
   },
   "outputs": [
    {
     "name": "stdout",
     "output_type": "stream",
     "text": [
      "Root Mean Squared Error:  11846.288923661506\n"
     ]
    }
   ],
   "source": [
    "# Linear Regression\n",
    "lr = LinearRegression()\n",
    "lr.fit(X_train,y_train)\n",
    "y_pred = lr.predict(X_test)\n",
    "lr_mse = mean_squared_error(y_test, y_pred)\n",
    "print(\"Root Mean Squared Error: \", np.sqrt(lr_mse))"
   ]
  },
  {
   "cell_type": "code",
   "execution_count": 44,
   "id": "7306f6cf",
   "metadata": {
    "execution": {
     "iopub.execute_input": "2023-08-20T08:04:14.594274Z",
     "iopub.status.busy": "2023-08-20T08:04:14.593754Z",
     "iopub.status.idle": "2023-08-20T08:04:16.560239Z",
     "shell.execute_reply": "2023-08-20T08:04:16.559084Z"
    },
    "papermill": {
     "duration": 2.021765,
     "end_time": "2023-08-20T08:04:16.563036",
     "exception": false,
     "start_time": "2023-08-20T08:04:14.541271",
     "status": "completed"
    },
    "tags": []
   },
   "outputs": [
    {
     "name": "stdout",
     "output_type": "stream",
     "text": [
      "Root Mean Squared Error:  7066.18462607061\n"
     ]
    }
   ],
   "source": [
    "# Random Forest Regressor\n",
    "rf = RandomForestRegressor(n_estimators=100, random_state=42)\n",
    "rf.fit(X_train, y_train)\n",
    "y_pred = rf.predict(X_test)\n",
    "rf_mse = mean_squared_error(y_test, y_pred)\n",
    "print(\"Root Mean Squared Error: \", np.sqrt(rf_mse))"
   ]
  },
  {
   "cell_type": "code",
   "execution_count": 45,
   "id": "c6bead0c",
   "metadata": {
    "execution": {
     "iopub.execute_input": "2023-08-20T08:04:16.632855Z",
     "iopub.status.busy": "2023-08-20T08:04:16.631871Z",
     "iopub.status.idle": "2023-08-20T08:04:17.428722Z",
     "shell.execute_reply": "2023-08-20T08:04:17.427803Z"
    },
    "papermill": {
     "duration": 0.834819,
     "end_time": "2023-08-20T08:04:17.431272",
     "exception": false,
     "start_time": "2023-08-20T08:04:16.596453",
     "status": "completed"
    },
    "tags": []
   },
   "outputs": [
    {
     "name": "stdout",
     "output_type": "stream",
     "text": [
      "Root Mean Squared Error:  6726.597125221454\n"
     ]
    }
   ],
   "source": [
    "# XGBoost Regressor\n",
    "xgb = XGBRegressor(n_estimators=100, random_state=42)\n",
    "xgb.fit(X_train, y_train)\n",
    "y_pred = xgb.predict(X_test)\n",
    "xgb_mse = mean_squared_error(y_test, y_pred)\n",
    "print(\"Root Mean Squared Error: \", np.sqrt(xgb_mse))"
   ]
  },
  {
   "cell_type": "code",
   "execution_count": 46,
   "id": "f0eb4fc4",
   "metadata": {
    "execution": {
     "iopub.execute_input": "2023-08-20T08:04:17.503156Z",
     "iopub.status.busy": "2023-08-20T08:04:17.502644Z",
     "iopub.status.idle": "2023-08-20T08:04:51.696417Z",
     "shell.execute_reply": "2023-08-20T08:04:51.694906Z"
    },
    "papermill": {
     "duration": 34.26427,
     "end_time": "2023-08-20T08:04:51.729947",
     "exception": false,
     "start_time": "2023-08-20T08:04:17.465677",
     "status": "completed"
    },
    "tags": []
   },
   "outputs": [
    {
     "name": "stdout",
     "output_type": "stream",
     "text": [
      "Root Mean Squared Error:  20204.0251703601\n"
     ]
    }
   ],
   "source": [
    "# Support Vector Regressor\n",
    "svr = SVR(kernel='rbf')\n",
    "svr.fit(X_train, y_train)\n",
    "y_pred = svr.predict(X_test)\n",
    "svr_mse = mean_squared_error(y_test, y_pred)\n",
    "print(\"Root Mean Squared Error: \", np.sqrt(svr_mse))"
   ]
  },
  {
   "cell_type": "code",
   "execution_count": 47,
   "id": "570a339e",
   "metadata": {
    "execution": {
     "iopub.execute_input": "2023-08-20T08:04:51.795612Z",
     "iopub.status.busy": "2023-08-20T08:04:51.795213Z",
     "iopub.status.idle": "2023-08-20T08:04:51.821191Z",
     "shell.execute_reply": "2023-08-20T08:04:51.818539Z"
    },
    "papermill": {
     "duration": 0.063724,
     "end_time": "2023-08-20T08:04:51.825464",
     "exception": false,
     "start_time": "2023-08-20T08:04:51.761740",
     "status": "completed"
    },
    "tags": []
   },
   "outputs": [
    {
     "name": "stdout",
     "output_type": "stream",
     "text": [
      "Root Mean Squared Error:  11838.768406899822\n"
     ]
    }
   ],
   "source": [
    "# Ridge Regressor\n",
    "ridge = Ridge(alpha=1.0)\n",
    "ridge.fit(X_train, y_train)\n",
    "y_pred = ridge.predict(X_test)\n",
    "ridge_mse = mean_squared_error(y_test, y_pred)\n",
    "print(\"Root Mean Squared Error: \", np.sqrt(ridge_mse))"
   ]
  },
  {
   "cell_type": "code",
   "execution_count": 48,
   "id": "6e92902a",
   "metadata": {
    "execution": {
     "iopub.execute_input": "2023-08-20T08:04:51.949124Z",
     "iopub.status.busy": "2023-08-20T08:04:51.948660Z",
     "iopub.status.idle": "2023-08-20T08:04:51.980322Z",
     "shell.execute_reply": "2023-08-20T08:04:51.978246Z"
    },
    "papermill": {
     "duration": 0.089209,
     "end_time": "2023-08-20T08:04:51.984177",
     "exception": false,
     "start_time": "2023-08-20T08:04:51.894968",
     "status": "completed"
    },
    "tags": []
   },
   "outputs": [
    {
     "name": "stdout",
     "output_type": "stream",
     "text": [
      "Root Mean Squared Error:  11844.962666356483\n"
     ]
    }
   ],
   "source": [
    "# Lasso Regressor\n",
    "lasso = Lasso(alpha=1.0)\n",
    "lasso.fit(X_train, y_train)\n",
    "y_pred = lasso.predict(X_test)\n",
    "lasso_mse = mean_squared_error(y_test, y_pred)\n",
    "print(\"Root Mean Squared Error: \", np.sqrt(lasso_mse))"
   ]
  },
  {
   "cell_type": "code",
   "execution_count": 49,
   "id": "d3d470ab",
   "metadata": {
    "execution": {
     "iopub.execute_input": "2023-08-20T08:04:52.129990Z",
     "iopub.status.busy": "2023-08-20T08:04:52.129508Z",
     "iopub.status.idle": "2023-08-20T08:04:52.169606Z",
     "shell.execute_reply": "2023-08-20T08:04:52.166951Z"
    },
    "papermill": {
     "duration": 0.078354,
     "end_time": "2023-08-20T08:04:52.173722",
     "exception": false,
     "start_time": "2023-08-20T08:04:52.095368",
     "status": "completed"
    },
    "tags": []
   },
   "outputs": [
    {
     "name": "stdout",
     "output_type": "stream",
     "text": [
      "Root Mean Squared Error:  11846.20077636714\n"
     ]
    }
   ],
   "source": [
    "# Bayesian Ridge Regressor\n",
    "bayesian = BayesianRidge()\n",
    "bayesian.fit(X_train, y_train)\n",
    "y_pred = bayesian.predict(X_test)\n",
    "bayesian_mse = mean_squared_error(y_test, y_pred)\n",
    "print(\"Root Mean Squared Error: \", np.sqrt(bayesian_mse))"
   ]
  },
  {
   "cell_type": "code",
   "execution_count": 50,
   "id": "7dd3ff1e",
   "metadata": {
    "execution": {
     "iopub.execute_input": "2023-08-20T08:04:52.318752Z",
     "iopub.status.busy": "2023-08-20T08:04:52.318381Z",
     "iopub.status.idle": "2023-08-20T08:04:53.327435Z",
     "shell.execute_reply": "2023-08-20T08:04:53.325971Z"
    },
    "papermill": {
     "duration": 1.048483,
     "end_time": "2023-08-20T08:04:53.329890",
     "exception": false,
     "start_time": "2023-08-20T08:04:52.281407",
     "status": "completed"
    },
    "tags": []
   },
   "outputs": [
    {
     "name": "stdout",
     "output_type": "stream",
     "text": [
      "Root Mean Squared Error:  6980.896421463606\n"
     ]
    }
   ],
   "source": [
    "# LightGBM Regressor\n",
    "lgbm = LGBMRegressor(n_estimators=100)\n",
    "lgbm.fit(X_train, y_train)\n",
    "y_pred = lgbm.predict(X_test)\n",
    "lgbm_mse = mean_squared_error(y_test, y_pred)\n",
    "print(\"Root Mean Squared Error: \", np.sqrt(lgbm_mse))"
   ]
  },
  {
   "cell_type": "code",
   "execution_count": 51,
   "id": "fe3e3c5f",
   "metadata": {
    "execution": {
     "iopub.execute_input": "2023-08-20T08:04:53.398084Z",
     "iopub.status.busy": "2023-08-20T08:04:53.397304Z",
     "iopub.status.idle": "2023-08-20T08:04:53.930676Z",
     "shell.execute_reply": "2023-08-20T08:04:53.929548Z"
    },
    "papermill": {
     "duration": 0.570436,
     "end_time": "2023-08-20T08:04:53.933224",
     "exception": false,
     "start_time": "2023-08-20T08:04:53.362788",
     "status": "completed"
    },
    "tags": []
   },
   "outputs": [
    {
     "name": "stdout",
     "output_type": "stream",
     "text": [
      "Learning rate set to 0.436937\n",
      "0:\tlearn: 14985.0205579\ttotal: 59.7ms\tremaining: 5.91s\n",
      "1:\tlearn: 11622.2902390\ttotal: 63.7ms\tremaining: 3.12s\n",
      "2:\tlearn: 9999.4099443\ttotal: 66.8ms\tremaining: 2.16s\n",
      "3:\tlearn: 9187.8789894\ttotal: 69.8ms\tremaining: 1.68s\n",
      "4:\tlearn: 8748.2486466\ttotal: 72.9ms\tremaining: 1.39s\n",
      "5:\tlearn: 8627.6889465\ttotal: 75.6ms\tremaining: 1.18s\n",
      "6:\tlearn: 8563.2048979\ttotal: 78.2ms\tremaining: 1.04s\n",
      "7:\tlearn: 8395.9085291\ttotal: 81.5ms\tremaining: 937ms\n",
      "8:\tlearn: 8225.2745308\ttotal: 85.2ms\tremaining: 861ms\n",
      "9:\tlearn: 8134.3619244\ttotal: 88.7ms\tremaining: 798ms\n",
      "10:\tlearn: 8112.1108373\ttotal: 91.9ms\tremaining: 744ms\n",
      "11:\tlearn: 8095.2575814\ttotal: 95.3ms\tremaining: 699ms\n",
      "12:\tlearn: 7978.3329994\ttotal: 98.7ms\tremaining: 660ms\n",
      "13:\tlearn: 7867.5892951\ttotal: 102ms\tremaining: 624ms\n",
      "14:\tlearn: 7853.6107115\ttotal: 104ms\tremaining: 589ms\n",
      "15:\tlearn: 7812.9562554\ttotal: 107ms\tremaining: 561ms\n",
      "16:\tlearn: 7771.8192545\ttotal: 110ms\tremaining: 537ms\n",
      "17:\tlearn: 7653.4789152\ttotal: 113ms\tremaining: 516ms\n",
      "18:\tlearn: 7575.2050925\ttotal: 116ms\tremaining: 495ms\n",
      "19:\tlearn: 7534.6728573\ttotal: 119ms\tremaining: 477ms\n",
      "20:\tlearn: 7528.4114028\ttotal: 122ms\tremaining: 460ms\n",
      "21:\tlearn: 7472.4868565\ttotal: 125ms\tremaining: 445ms\n",
      "22:\tlearn: 7432.5900664\ttotal: 129ms\tremaining: 430ms\n",
      "23:\tlearn: 7389.5235064\ttotal: 132ms\tremaining: 417ms\n",
      "24:\tlearn: 7384.6674592\ttotal: 135ms\tremaining: 404ms\n",
      "25:\tlearn: 7353.2658079\ttotal: 138ms\tremaining: 392ms\n",
      "26:\tlearn: 7330.0395130\ttotal: 141ms\tremaining: 381ms\n",
      "27:\tlearn: 7294.5832257\ttotal: 144ms\tremaining: 371ms\n",
      "28:\tlearn: 7291.6123897\ttotal: 148ms\tremaining: 361ms\n",
      "29:\tlearn: 7249.3809631\ttotal: 152ms\tremaining: 354ms\n",
      "30:\tlearn: 7228.4189168\ttotal: 155ms\tremaining: 345ms\n",
      "31:\tlearn: 7187.9337499\ttotal: 158ms\tremaining: 335ms\n",
      "32:\tlearn: 7157.4998103\ttotal: 161ms\tremaining: 326ms\n",
      "33:\tlearn: 7147.6158308\ttotal: 163ms\tremaining: 317ms\n",
      "34:\tlearn: 7141.2354393\ttotal: 166ms\tremaining: 309ms\n",
      "35:\tlearn: 7101.6085357\ttotal: 169ms\tremaining: 301ms\n",
      "36:\tlearn: 7093.3326152\ttotal: 172ms\tremaining: 294ms\n",
      "37:\tlearn: 7076.0363568\ttotal: 176ms\tremaining: 287ms\n",
      "38:\tlearn: 7026.5819945\ttotal: 179ms\tremaining: 280ms\n",
      "39:\tlearn: 7000.3752464\ttotal: 186ms\tremaining: 278ms\n",
      "40:\tlearn: 6964.0100506\ttotal: 189ms\tremaining: 272ms\n",
      "41:\tlearn: 6953.1131363\ttotal: 193ms\tremaining: 267ms\n",
      "42:\tlearn: 6932.3373820\ttotal: 197ms\tremaining: 261ms\n",
      "43:\tlearn: 6928.4420463\ttotal: 200ms\tremaining: 254ms\n",
      "44:\tlearn: 6913.3812135\ttotal: 203ms\tremaining: 248ms\n",
      "45:\tlearn: 6902.2497396\ttotal: 206ms\tremaining: 242ms\n",
      "46:\tlearn: 6889.2488039\ttotal: 209ms\tremaining: 236ms\n",
      "47:\tlearn: 6839.9778041\ttotal: 213ms\tremaining: 231ms\n",
      "48:\tlearn: 6824.8749656\ttotal: 216ms\tremaining: 225ms\n",
      "49:\tlearn: 6810.3892285\ttotal: 219ms\tremaining: 219ms\n",
      "50:\tlearn: 6802.3294889\ttotal: 223ms\tremaining: 214ms\n",
      "51:\tlearn: 6794.2896111\ttotal: 226ms\tremaining: 208ms\n",
      "52:\tlearn: 6786.6077241\ttotal: 229ms\tremaining: 203ms\n",
      "53:\tlearn: 6781.8313904\ttotal: 232ms\tremaining: 197ms\n",
      "54:\tlearn: 6776.7619513\ttotal: 235ms\tremaining: 192ms\n",
      "55:\tlearn: 6757.2360208\ttotal: 238ms\tremaining: 187ms\n",
      "56:\tlearn: 6739.3266929\ttotal: 242ms\tremaining: 183ms\n",
      "57:\tlearn: 6728.6321583\ttotal: 245ms\tremaining: 178ms\n",
      "58:\tlearn: 6701.2018641\ttotal: 249ms\tremaining: 173ms\n",
      "59:\tlearn: 6687.5327619\ttotal: 252ms\tremaining: 168ms\n",
      "60:\tlearn: 6675.8158641\ttotal: 258ms\tremaining: 165ms\n",
      "61:\tlearn: 6661.3409415\ttotal: 261ms\tremaining: 160ms\n",
      "62:\tlearn: 6645.3340895\ttotal: 264ms\tremaining: 155ms\n",
      "63:\tlearn: 6632.2755213\ttotal: 267ms\tremaining: 150ms\n",
      "64:\tlearn: 6609.6608686\ttotal: 271ms\tremaining: 146ms\n",
      "65:\tlearn: 6580.0024321\ttotal: 274ms\tremaining: 141ms\n",
      "66:\tlearn: 6570.8709242\ttotal: 278ms\tremaining: 137ms\n",
      "67:\tlearn: 6561.3066019\ttotal: 281ms\tremaining: 132ms\n",
      "68:\tlearn: 6550.6381778\ttotal: 284ms\tremaining: 128ms\n",
      "69:\tlearn: 6539.7975993\ttotal: 287ms\tremaining: 123ms\n",
      "70:\tlearn: 6536.6101200\ttotal: 290ms\tremaining: 119ms\n",
      "71:\tlearn: 6531.3130809\ttotal: 293ms\tremaining: 114ms\n",
      "72:\tlearn: 6527.9586002\ttotal: 296ms\tremaining: 110ms\n",
      "73:\tlearn: 6520.6353179\ttotal: 300ms\tremaining: 105ms\n",
      "74:\tlearn: 6506.3234721\ttotal: 303ms\tremaining: 101ms\n",
      "75:\tlearn: 6501.7095007\ttotal: 306ms\tremaining: 96.6ms\n",
      "76:\tlearn: 6498.6751066\ttotal: 309ms\tremaining: 92.3ms\n",
      "77:\tlearn: 6482.3484418\ttotal: 312ms\tremaining: 88ms\n",
      "78:\tlearn: 6468.5451782\ttotal: 315ms\tremaining: 83.7ms\n",
      "79:\tlearn: 6464.1040008\ttotal: 318ms\tremaining: 79.6ms\n",
      "80:\tlearn: 6459.8192993\ttotal: 322ms\tremaining: 75.5ms\n",
      "81:\tlearn: 6453.9709489\ttotal: 325ms\tremaining: 71.3ms\n",
      "82:\tlearn: 6448.3996481\ttotal: 328ms\tremaining: 67.2ms\n",
      "83:\tlearn: 6440.1004496\ttotal: 331ms\tremaining: 63.1ms\n",
      "84:\tlearn: 6431.2829207\ttotal: 335ms\tremaining: 59ms\n",
      "85:\tlearn: 6424.8897322\ttotal: 338ms\tremaining: 55ms\n",
      "86:\tlearn: 6417.6819204\ttotal: 341ms\tremaining: 51ms\n",
      "87:\tlearn: 6402.8220824\ttotal: 344ms\tremaining: 46.9ms\n",
      "88:\tlearn: 6398.0298746\ttotal: 347ms\tremaining: 42.9ms\n",
      "89:\tlearn: 6393.4929255\ttotal: 350ms\tremaining: 38.9ms\n",
      "90:\tlearn: 6391.3991132\ttotal: 353ms\tremaining: 34.9ms\n",
      "91:\tlearn: 6381.9727460\ttotal: 356ms\tremaining: 31ms\n",
      "92:\tlearn: 6369.5257053\ttotal: 359ms\tremaining: 27.1ms\n",
      "93:\tlearn: 6362.1118629\ttotal: 363ms\tremaining: 23.2ms\n",
      "94:\tlearn: 6353.6219596\ttotal: 366ms\tremaining: 19.3ms\n",
      "95:\tlearn: 6351.4473259\ttotal: 369ms\tremaining: 15.4ms\n",
      "96:\tlearn: 6340.4621614\ttotal: 373ms\tremaining: 11.5ms\n",
      "97:\tlearn: 6335.3908524\ttotal: 376ms\tremaining: 7.67ms\n",
      "98:\tlearn: 6331.5210477\ttotal: 382ms\tremaining: 3.86ms\n",
      "99:\tlearn: 6325.8430819\ttotal: 385ms\tremaining: 0us\n",
      "Root Mean Squared Error:  6840.172492060051\n"
     ]
    }
   ],
   "source": [
    "# CatBoost Regressor\n",
    "cat = CatBoostRegressor(iterations=100)\n",
    "cat.fit(X_train, y_train)\n",
    "y_pred = cat.predict(X_test)\n",
    "cat_mse = mean_squared_error(y_test, y_pred)\n",
    "print(\"Root Mean Squared Error: \", np.sqrt(cat_mse))"
   ]
  },
  {
   "cell_type": "markdown",
   "id": "fcf7796b",
   "metadata": {
    "papermill": {
     "duration": 0.032625,
     "end_time": "2023-08-20T08:04:53.999188",
     "exception": false,
     "start_time": "2023-08-20T08:04:53.966563",
     "status": "completed"
    },
    "tags": []
   },
   "source": [
    "#### **Neural Network**"
   ]
  },
  {
   "cell_type": "code",
   "execution_count": 52,
   "id": "78464b08",
   "metadata": {
    "execution": {
     "iopub.execute_input": "2023-08-20T08:04:54.069443Z",
     "iopub.status.busy": "2023-08-20T08:04:54.068895Z",
     "iopub.status.idle": "2023-08-20T08:07:00.907401Z",
     "shell.execute_reply": "2023-08-20T08:07:00.905705Z"
    },
    "papermill": {
     "duration": 126.876318,
     "end_time": "2023-08-20T08:07:00.910410",
     "exception": false,
     "start_time": "2023-08-20T08:04:54.034092",
     "status": "completed"
    },
    "tags": []
   },
   "outputs": [
    {
     "name": "stdout",
     "output_type": "stream",
     "text": [
      "Epoch [1000/12000], Loss: 87928880.0000\n",
      "Epoch [2000/12000], Loss: 83259264.0000\n",
      "Epoch [3000/12000], Loss: 81711232.0000\n",
      "Epoch [4000/12000], Loss: 81532384.0000\n",
      "Epoch [5000/12000], Loss: 81400128.0000\n",
      "Epoch [6000/12000], Loss: 81309856.0000\n",
      "Epoch [7000/12000], Loss: 81245008.0000\n",
      "Epoch [8000/12000], Loss: 81225416.0000\n",
      "Epoch [9000/12000], Loss: 81216720.0000\n",
      "Epoch [10000/12000], Loss: 81202344.0000\n",
      "Epoch [11000/12000], Loss: 81198888.0000\n",
      "Epoch [12000/12000], Loss: 81198752.0000\n",
      "Root Mean Squared Error: 8616.38\n"
     ]
    }
   ],
   "source": [
    "# Import dependencies\n",
    "import torch\n",
    "import torch.nn as nn\n",
    "import torch.optim as optim\n",
    "\n",
    "# Convert data to PyTorch tensors\n",
    "X = torch.tensor(features.values, dtype=torch.float32)\n",
    "y = torch.tensor(target.values, dtype=torch.float32).unsqueeze(1)\n",
    "\n",
    "# Split the dataset into training and test sets\n",
    "X_train, X_test, y_train, y_test = train_test_split(X, y, test_size=0.2, random_state=66)\n",
    "\n",
    "# Define a simple neural network model\n",
    "class NeuralNetwork(nn.Module):\n",
    "    def __init__(self, input_size, hidden_size, output_size):\n",
    "        super(NeuralNetwork, self).__init__()\n",
    "        self.layer1 = nn.Linear(input_size, hidden_size)\n",
    "        self.layer2 = nn.Linear(hidden_size, output_size)\n",
    "    \n",
    "    def forward(self, x):\n",
    "        x = torch.relu(self.layer1(x))\n",
    "        x = self.layer2(x)\n",
    "        return x\n",
    "\n",
    "# Initialize the neural network model\n",
    "input_size = X_train.shape[1]\n",
    "hidden_size = 64\n",
    "output_size = 1\n",
    "model = NeuralNetwork(input_size, hidden_size, output_size)\n",
    "\n",
    "# Define loss function and optimizer\n",
    "criterion = nn.MSELoss()\n",
    "optimizer = optim.Adam(model.parameters(), lr=0.53)\n",
    "\n",
    "# Train the model\n",
    "num_epochs = 12000\n",
    "for epoch in range(num_epochs):\n",
    "    model.train()\n",
    "    optimizer.zero_grad()\n",
    "    \n",
    "    outputs = model(X_train)\n",
    "    loss = criterion(outputs, y_train)\n",
    "    loss.backward()\n",
    "    optimizer.step()\n",
    "    \n",
    "    if (epoch+1) % 1000 == 0:\n",
    "        print(f'Epoch [{epoch+1}/{num_epochs}], Loss: {loss.item():.4f}')\n",
    "\n",
    "# Evaluate the model\n",
    "model.eval()\n",
    "with torch.no_grad():\n",
    "    y_pred = model(X_test)\n",
    "    mse = mean_squared_error(y_test, y_pred)\n",
    "    print(f'Root Mean Squared Error: {np.sqrt(mse):.2f}')"
   ]
  },
  {
   "cell_type": "markdown",
   "id": "bab5f1d8",
   "metadata": {
    "papermill": {
     "duration": 0.035057,
     "end_time": "2023-08-20T08:07:00.982892",
     "exception": false,
     "start_time": "2023-08-20T08:07:00.947835",
     "status": "completed"
    },
    "tags": []
   },
   "source": [
    "### **Hyperparameter Tuning for XGBoost**\n",
    "As of now, we have received the lowest `Root Mean Squared Error` with `XGBoost` We'll now optimize its hyperparameters using `grid search` method."
   ]
  },
  {
   "cell_type": "code",
   "execution_count": 53,
   "id": "6c59c9a8",
   "metadata": {
    "execution": {
     "iopub.execute_input": "2023-08-20T08:07:01.058108Z",
     "iopub.status.busy": "2023-08-20T08:07:01.056885Z",
     "iopub.status.idle": "2023-08-20T08:09:09.225218Z",
     "shell.execute_reply": "2023-08-20T08:09:09.223609Z"
    },
    "papermill": {
     "duration": 128.24347,
     "end_time": "2023-08-20T08:09:09.262858",
     "exception": false,
     "start_time": "2023-08-20T08:07:01.019388",
     "status": "completed"
    },
    "tags": []
   },
   "outputs": [
    {
     "name": "stdout",
     "output_type": "stream",
     "text": [
      "Best Hyperparameters: {'learning_rate': 0.25, 'max_depth': 2, 'n_estimators': 312}\n",
      "Best Model Root Mean Squared Error: 6486.02\n"
     ]
    }
   ],
   "source": [
    "# Define features and target variable\n",
    "features = df[['Area', 'Bed', 'Bath', 'avg_price']]\n",
    "target = df['Rent']\n",
    "\n",
    "# Split the dataset into training and test sets\n",
    "X_train, X_test, y_train, y_test = train_test_split(features, target, test_size=0.2, random_state=42)\n",
    "\n",
    "# Initialize the XGBoost Regressor\n",
    "xgb_regressor = XGBRegressor()\n",
    "\n",
    "# Define hyperparameter grid for tuning\n",
    "param_grid = {\n",
    "    'n_estimators': [275, 287, 300, 312, 325],\n",
    "    'max_depth': [2],\n",
    "    'learning_rate': [0.225, 0.2375, 0.25, 0.2625, 0.275]\n",
    "}\n",
    "\n",
    "# Initialize GridSearchCV with cross-validation\n",
    "grid_search = GridSearchCV(estimator=xgb_regressor, param_grid=param_grid, cv=5, scoring='neg_mean_squared_error')\n",
    "\n",
    "# Perform hyperparameter tuning on the training data\n",
    "grid_search.fit(X_train, y_train)\n",
    "\n",
    "# Get the best hyperparameters from the search\n",
    "best_params = grid_search.best_params_\n",
    "print(f'Best Hyperparameters: {best_params}')\n",
    "\n",
    "# Use the best model to make predictions on the test data\n",
    "best_model = grid_search.best_estimator_\n",
    "y_pred = best_model.predict(X_test)\n",
    "\n",
    "# Calculate Mean Squared Error (MSE) for the best model\n",
    "mse = mean_squared_error(y_test, y_pred)\n",
    "print(f'Best Model Root Mean Squared Error: {np.sqrt(mse):.2f}')"
   ]
  },
  {
   "cell_type": "markdown",
   "id": "76b1b9e9",
   "metadata": {
    "papermill": {
     "duration": 0.03522,
     "end_time": "2023-08-20T08:09:09.333480",
     "exception": false,
     "start_time": "2023-08-20T08:09:09.298260",
     "status": "completed"
    },
    "tags": []
   },
   "source": [
    "### **Testing with Unseen Data**"
   ]
  },
  {
   "cell_type": "markdown",
   "id": "08d036a2",
   "metadata": {
    "papermill": {
     "duration": 0.039721,
     "end_time": "2023-08-20T08:09:09.408644",
     "exception": false,
     "start_time": "2023-08-20T08:09:09.368923",
     "status": "completed"
    },
    "tags": []
   },
   "source": [
    "Real data: [https://www.bproperty.com/en/property/details-4504949.html](https://www.bproperty.com/en/property/details-4504949.html)\n",
    "\n",
    "Location: Banani DOHS\n",
    "\n",
    "True Rent: 80000.00 taka"
   ]
  },
  {
   "cell_type": "code",
   "execution_count": 54,
   "id": "bbd062c2",
   "metadata": {
    "execution": {
     "iopub.execute_input": "2023-08-20T08:09:09.484580Z",
     "iopub.status.busy": "2023-08-20T08:09:09.483856Z",
     "iopub.status.idle": "2023-08-20T08:09:09.491348Z",
     "shell.execute_reply": "2023-08-20T08:09:09.490496Z"
    },
    "papermill": {
     "duration": 0.04895,
     "end_time": "2023-08-20T08:09:09.493624",
     "exception": false,
     "start_time": "2023-08-20T08:09:09.444674",
     "status": "completed"
    },
    "tags": []
   },
   "outputs": [
    {
     "name": "stdout",
     "output_type": "stream",
     "text": [
      "Predicted Rent: 71033.77\n"
     ]
    }
   ],
   "source": [
    "new_data = [[20, 3, 3, 59.75]] \n",
    "\n",
    "# Normalize the new data using the same scaler as used during training\n",
    "normalized_new_data = scaler.transform(new_data)  # Use the same 'scaler' you used during training\n",
    "\n",
    "# Make predictions on the normalized new data\n",
    "predicted_rent = best_model.predict(normalized_new_data)\n",
    "\n",
    "print(f'Predicted Rent: {predicted_rent[0]:.2f}')"
   ]
  },
  {
   "cell_type": "markdown",
   "id": "54194f32",
   "metadata": {
    "papermill": {
     "duration": 0.035892,
     "end_time": "2023-08-20T08:09:09.565129",
     "exception": false,
     "start_time": "2023-08-20T08:09:09.529237",
     "status": "completed"
    },
    "tags": []
   },
   "source": [
    "Real data: [https://www.bproperty.com/en/property/details-5151813.html](https://www.bproperty.com/en/property/details-5151813.html)\n",
    "\n",
    "Location: Mohammadpur\n",
    "\n",
    "True Rent: 27000.00 taka"
   ]
  },
  {
   "cell_type": "code",
   "execution_count": 55,
   "id": "d45315d9",
   "metadata": {
    "execution": {
     "iopub.execute_input": "2023-08-20T08:09:09.638866Z",
     "iopub.status.busy": "2023-08-20T08:09:09.638097Z",
     "iopub.status.idle": "2023-08-20T08:09:09.646333Z",
     "shell.execute_reply": "2023-08-20T08:09:09.645296Z"
    },
    "papermill": {
     "duration": 0.047999,
     "end_time": "2023-08-20T08:09:09.648540",
     "exception": false,
     "start_time": "2023-08-20T08:09:09.600541",
     "status": "completed"
    },
    "tags": []
   },
   "outputs": [
    {
     "name": "stdout",
     "output_type": "stream",
     "text": [
      "Predicted Rent: 26912.00\n"
     ]
    }
   ],
   "source": [
    "new_data = [[17, 3, 3, 27.35]] \n",
    "\n",
    "# Normalize the new data using the same scaler as used during training\n",
    "normalized_new_data = scaler.transform(new_data)  # Use the same 'scaler' you used during training\n",
    "\n",
    "# Make predictions on the normalized new data\n",
    "predicted_rent = best_model.predict(normalized_new_data)\n",
    "\n",
    "print(f'Predicted Rent: {predicted_rent[0]:.2f}')"
   ]
  },
  {
   "cell_type": "markdown",
   "id": "74609921",
   "metadata": {
    "papermill": {
     "duration": 0.034183,
     "end_time": "2023-08-20T08:09:09.717304",
     "exception": false,
     "start_time": "2023-08-20T08:09:09.683121",
     "status": "completed"
    },
    "tags": []
   },
   "source": [
    "Real data: [https://www.bproperty.com/en/property/details-3863920.html](https://www.bproperty.com/en/property/details-3863920.html)\n",
    "\n",
    "Location: After Nagar\n",
    "\n",
    "True Rent: 32000.00 taka"
   ]
  },
  {
   "cell_type": "code",
   "execution_count": 56,
   "id": "1c2ab874",
   "metadata": {
    "execution": {
     "iopub.execute_input": "2023-08-20T08:09:09.788237Z",
     "iopub.status.busy": "2023-08-20T08:09:09.787448Z",
     "iopub.status.idle": "2023-08-20T08:09:09.795973Z",
     "shell.execute_reply": "2023-08-20T08:09:09.794605Z"
    },
    "papermill": {
     "duration": 0.046849,
     "end_time": "2023-08-20T08:09:09.798250",
     "exception": false,
     "start_time": "2023-08-20T08:09:09.751401",
     "status": "completed"
    },
    "tags": []
   },
   "outputs": [
    {
     "name": "stdout",
     "output_type": "stream",
     "text": [
      "Predicted Rent: 39519.91\n"
     ]
    }
   ],
   "source": [
    "new_data = [[20, 3, 3, 14.5]] \n",
    "\n",
    "# Normalize the new data using the same scaler as used during training\n",
    "normalized_new_data = scaler.transform(new_data)  # Use the same 'scaler' you used during training\n",
    "\n",
    "# Make predictions on the normalized new data\n",
    "predicted_rent = best_model.predict(normalized_new_data)\n",
    "\n",
    "print(f'Predicted Rent: {predicted_rent[0]:.2f}')"
   ]
  },
  {
   "cell_type": "markdown",
   "id": "46bf7c53",
   "metadata": {
    "papermill": {
     "duration": 0.034543,
     "end_time": "2023-08-20T08:09:09.868834",
     "exception": false,
     "start_time": "2023-08-20T08:09:09.834291",
     "status": "completed"
    },
    "tags": []
   },
   "source": [
    "Real data: [https://www.bproperty.com/en/property/details-4793899.html](https://www.bproperty.com/en/property/details-4793899.html)\n",
    "\n",
    "Location: Hatirpool\n",
    "\n",
    "True Rent: 48000.00 taka"
   ]
  },
  {
   "cell_type": "code",
   "execution_count": 57,
   "id": "def954e6",
   "metadata": {
    "execution": {
     "iopub.execute_input": "2023-08-20T08:09:09.940594Z",
     "iopub.status.busy": "2023-08-20T08:09:09.939798Z",
     "iopub.status.idle": "2023-08-20T08:09:09.948784Z",
     "shell.execute_reply": "2023-08-20T08:09:09.947234Z"
    },
    "papermill": {
     "duration": 0.047689,
     "end_time": "2023-08-20T08:09:09.951055",
     "exception": false,
     "start_time": "2023-08-20T08:09:09.903366",
     "status": "completed"
    },
    "tags": []
   },
   "outputs": [
    {
     "name": "stdout",
     "output_type": "stream",
     "text": [
      "Predicted Rent: 50807.61\n"
     ]
    }
   ],
   "source": [
    "new_data = [[23.7, 3, 4, 11.0625]] \n",
    "\n",
    "# Normalize the new data using the same scaler as used during training\n",
    "normalized_new_data = scaler.transform(new_data)  # Use the same 'scaler' you used during training\n",
    "\n",
    "# Make predictions on the normalized new data\n",
    "predicted_rent = best_model.predict(normalized_new_data)\n",
    "\n",
    "print(f'Predicted Rent: {predicted_rent[0]:.2f}')"
   ]
  },
  {
   "cell_type": "markdown",
   "id": "64e4220c",
   "metadata": {
    "papermill": {
     "duration": 0.036724,
     "end_time": "2023-08-20T08:09:10.022214",
     "exception": false,
     "start_time": "2023-08-20T08:09:09.985490",
     "status": "completed"
    },
    "tags": []
   },
   "source": [
    "## **Limitations**\n",
    "\n",
    "This dataset lacks some relavant information about the listings, such as which floor the house is in, if lift/elevator is available, if generation service is available, etc. If these features were available, it would be able to predict the rent more accurately."
   ]
  },
  {
   "cell_type": "code",
   "execution_count": null,
   "id": "fb311112",
   "metadata": {
    "papermill": {
     "duration": 0.034768,
     "end_time": "2023-08-20T08:09:10.092988",
     "exception": false,
     "start_time": "2023-08-20T08:09:10.058220",
     "status": "completed"
    },
    "tags": []
   },
   "outputs": [],
   "source": []
  }
 ],
 "metadata": {
  "kernelspec": {
   "display_name": "Python 3",
   "language": "python",
   "name": "python3"
  },
  "language_info": {
   "codemirror_mode": {
    "name": "ipython",
    "version": 3
   },
   "file_extension": ".py",
   "mimetype": "text/x-python",
   "name": "python",
   "nbconvert_exporter": "python",
   "pygments_lexer": "ipython3",
   "version": "3.10.12"
  },
  "papermill": {
   "default_parameters": {},
   "duration": 329.058744,
   "end_time": "2023-08-20T08:09:12.829948",
   "environment_variables": {},
   "exception": null,
   "input_path": "__notebook__.ipynb",
   "output_path": "__notebook__.ipynb",
   "parameters": {},
   "start_time": "2023-08-20T08:03:43.771204",
   "version": "2.4.0"
  }
 },
 "nbformat": 4,
 "nbformat_minor": 5
}
